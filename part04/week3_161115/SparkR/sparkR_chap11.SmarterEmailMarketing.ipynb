{
 "cells": [
  {
   "cell_type": "markdown",
   "metadata": {},
   "source": [
    "# CHAPTER 11. Smarter Email Marketing with the Markov Model"
   ]
  },
  {
   "cell_type": "markdown",
   "metadata": {},
   "source": [
    "구매이력을 기반으로 해서 고객 대상의 \"스마트한 이메일 마켓팅\"할 날짜를 예측해보자.\n",
    "\n",
    "고객의 마지막 구매 날짜가 랜덤(설명) 변수로 주어지고, Markov Model은 이전 구매이력 데이터를 가지고 구매 날짜에 대한 분포를 구함."
   ]
  },
  {
   "cell_type": "markdown",
   "metadata": {},
   "source": [
    "## Markov Chains에 대한 설명"
   ]
  },
  {
   "cell_type": "markdown",
   "metadata": {},
   "source": [
    "> 유한한 상태들의 집합을  \\\\(  S = ( S_1, S_2, S_3, ... )  \\\\)  라고 정의\n",
    "\n",
    "> 우리는 다음과 같이 확률을 구할 수 있음.\n",
    "\n",
    "![](chap11_01.jpg)\n",
    "\n",
    "> Markov’s first-order 가정은 다음과 같음.\n",
    "\n",
    "> t + 1 시간의 상태는 오직 t 시간의 상태에 의존함.\n",
    "\n",
    "![](chap11_02.jpg)\n",
    "\n",
    "> Markov’s second-order 가정은 다음과 같음.\n",
    "\n",
    "![](chap11_03.jpg)\n",
    "\n",
    "> 이것을 계속 확장하여  Markov 가정을  결합확률로 표현할 수 있음.\n",
    "\n",
    "![](chap11_04.jpg)"
   ]
  },
  {
   "cell_type": "markdown",
   "metadata": {},
   "source": [
    "> 예를 들어서 설명하면,  4가지 날씨 상태( sunny, cloudy, rainy, foggy )가 있다고 가정하고, 날씨패턴은 아래와 같음.\n",
    "\n",
    "![](chap11_05.jpg)\n",
    "\n",
    "> 오늘 날씨가 sunny가 주어진다면, 내일은 cloudy 이고 그 다음날은 foggy일 확률은 ?\n",
    "\n",
    "![](chap11_06.jpg)\n",
    "\n",
    "\n",
    "> 오늘 날씨가 foggy가 주어진다면, 오늘부터 이틀후에 rainy일 확률은?\n",
    "\n",
    "![](chap11_07.jpg)\n",
    "\n",
    "이번장의 목표는  모델( = transition table )을 만드는 것임."
   ]
  },
  {
   "cell_type": "markdown",
   "metadata": {},
   "source": [
    "## Spark Solution "
   ]
  },
  {
   "cell_type": "markdown",
   "metadata": {},
   "source": [
    "### Input Format\n",
    "\n",
    "```\n",
    "<customerID><,><transactionID><,><purchaseDate><,><amount>\n",
    "\n",
    "\n",
    "V31E55G4FI,1381872898,2013-01-01,123\n",
    "301UNH7I2F,1381872899,2013-01-01,148\n",
    "PP2KVIR4LD,1381872900,2013-01-01,163\n",
    "AC57MM3WNV,1381872901,2013-01-01,188\n",
    "BN020INHUM,1381872902,2013-01-01,116\n",
    "UP8R2SOR77,1381872903,2013-01-01,183\n",
    "VD91210MGH,1381872904,2013-01-01,204\n",
    "COI4OXHET1,1381872905,2013-01-01,78\n",
    "76S34ZE89C,1381872906,2013-01-01,105\n",
    "6K3SNF2EG1,1381872907,2013-01-01,214\n",
    "```"
   ]
  },
  {
   "cell_type": "markdown",
   "metadata": {},
   "source": [
    "### High-Level Steps"
   ]
  },
  {
   "cell_type": "markdown",
   "metadata": {},
   "source": [
    "1) 입력 파라메터에 대한 처리 :  구매이력 데이터 파일의 경로를 입력값으로 필요하지만 여기서는 하드 코딩함.\n",
    "\n",
    "2) Spark Context을 만들고 입력데이터로부터 RDD < String > 을 생성\n",
    "\n",
    "3) RDD < String > 을 RDD < K, V > 로 변환.  K는 customerID,  V는 tuple < purchaseData, amount > 임.\n",
    "\n",
    "4) customerID을 기준으로 구매이력을 그룹핑하며 RDD < K2 , V2 >결과로 나옴.  K2는 customerID,  V2는 Iterable < Tuple < purchaseDate, Amount > > 임.\n",
    "\n",
    "5) Markov state sequence을 만듬 :  State1, State2, ..., StateN \n",
    "   - mapValues()으로 customerID에 해당하는 V2 값들을 가지고 와서 변환 작업을 수행\n",
    "   \n",
    "6) Markov state transition을 생성\n",
    "  - Input :  PairRDD < K4, V4 > pairs\n",
    "  - Output : \n",
    "![](chap11_08.jpg)\n",
    "\n",
    "7) 최종 결과를 저장"
   ]
  },
  {
   "cell_type": "markdown",
   "metadata": {},
   "source": [
    "## Spark Program"
   ]
  },
  {
   "cell_type": "markdown",
   "metadata": {},
   "source": [
    "smart_email_training.txt : https://github.com/mahmoudparsian/data-algorithms-book/tree/master/src/main/java/org/dataalgorithms/chap11/resources"
   ]
  },
  {
   "cell_type": "code",
   "execution_count": 9,
   "metadata": {
    "collapsed": false
   },
   "outputs": [
    {
     "name": "stdout",
     "output_type": "stream",
     "text": [
      "-rw-r--r-- 1 jovyan users 30921789 Nov 11  2016 smart_email_training.txt\r\n",
      "-rw-r--r-- 1 jovyan users  9006004 Nov 11 02:27 smart_email_training.zip\r\n"
     ]
    }
   ],
   "source": [
    "% ls -l  smart_email_training*"
   ]
  },
  {
   "cell_type": "markdown",
   "metadata": {},
   "source": [
    "#### Step 2: Create Spark context object and convert Input into RDD"
   ]
  },
  {
   "cell_type": "code",
   "execution_count": 10,
   "metadata": {
    "collapsed": true
   },
   "outputs": [],
   "source": [
    "from pyspark import SparkContext\n",
    "sc = SparkContext() \n",
    "sc\n",
    "\n",
    "records = sc.textFile('smart_email_training.txt', 1);"
   ]
  },
  {
   "cell_type": "code",
   "execution_count": 12,
   "metadata": {
    "collapsed": false
   },
   "outputs": [
    {
     "data": {
      "text/plain": [
       "[u'V31E55G4FI,1381872898,2013-01-01,123',\n",
       " u'301UNH7I2F,1381872899,2013-01-01,148',\n",
       " u'PP2KVIR4LD,1381872900,2013-01-01,163',\n",
       " u'AC57MM3WNV,1381872901,2013-01-01,188',\n",
       " u'BN020INHUM,1381872902,2013-01-01,116',\n",
       " u'UP8R2SOR77,1381872903,2013-01-01,183',\n",
       " u'VD91210MGH,1381872904,2013-01-01,204',\n",
       " u'COI4OXHET1,1381872905,2013-01-01,78',\n",
       " u'76S34ZE89C,1381872906,2013-01-01,105',\n",
       " u'6K3SNF2EG1,1381872907,2013-01-01,214']"
      ]
     },
     "execution_count": 12,
     "metadata": {},
     "output_type": "execute_result"
    }
   ],
   "source": [
    "records.take( 10 )"
   ]
  },
  {
   "cell_type": "markdown",
   "metadata": {},
   "source": [
    "### Step 3: Convert RDD into JavaPairRDD"
   ]
  },
  {
   "cell_type": "code",
   "execution_count": 54,
   "metadata": {
    "collapsed": false
   },
   "outputs": [
    {
     "data": {
      "text/plain": [
       "(u'V31E55G4FI', (1356998400L, 123))"
      ]
     },
     "execution_count": 54,
     "metadata": {},
     "output_type": "execute_result"
    }
   ],
   "source": [
    "import datetime\n",
    "import time\n",
    "\n",
    "\n",
    "def makeCustomerIdPurchaseData( rec ) :\n",
    "    tokens = rec.split(\",\")\n",
    "    if len( tokens ) != 4 :\n",
    "        return None\n",
    "    \n",
    "    # tokens[0] = customer-id\n",
    "    # tokens[1] = transaction-id\n",
    "    # tokens[2] = purchase-date\n",
    "    # tokens[3] = amount\n",
    "    pdateStr =  datetime.datetime.strptime(tokens[2], \"%Y-%m-%d\")\n",
    "    pdate = long( time.mktime(pdateStr.timetuple()) )\n",
    "    \n",
    "    amount = int( tokens[3] )\n",
    "    V = (pdate, amount)    \n",
    "    return (tokens[0], V) \n",
    "    \n",
    "makeCustomerIdPurchaseData( u'V31E55G4FI,1381872898,2013-01-01,123' )"
   ]
  },
  {
   "cell_type": "code",
   "execution_count": 55,
   "metadata": {
    "collapsed": true
   },
   "outputs": [],
   "source": [
    "kv = records.map( makeCustomerIdPurchaseData  ) "
   ]
  },
  {
   "cell_type": "code",
   "execution_count": 56,
   "metadata": {
    "collapsed": false
   },
   "outputs": [
    {
     "data": {
      "text/plain": [
       "[(u'V31E55G4FI', (1356998400L, 123)),\n",
       " (u'301UNH7I2F', (1356998400L, 148)),\n",
       " (u'PP2KVIR4LD', (1356998400L, 163)),\n",
       " (u'AC57MM3WNV', (1356998400L, 188)),\n",
       " (u'BN020INHUM', (1356998400L, 116)),\n",
       " (u'UP8R2SOR77', (1356998400L, 183)),\n",
       " (u'VD91210MGH', (1356998400L, 204)),\n",
       " (u'COI4OXHET1', (1356998400L, 78)),\n",
       " (u'76S34ZE89C', (1356998400L, 105)),\n",
       " (u'6K3SNF2EG1', (1356998400L, 214))]"
      ]
     },
     "execution_count": 56,
     "metadata": {},
     "output_type": "execute_result"
    }
   ],
   "source": [
    "kv.take(10)"
   ]
  },
  {
   "cell_type": "markdown",
   "metadata": {},
   "source": [
    "### Step 4: Group transactions by customerID"
   ]
  },
  {
   "cell_type": "code",
   "execution_count": 57,
   "metadata": {
    "collapsed": true
   },
   "outputs": [],
   "source": [
    "customerRDD = kv.groupByKey();"
   ]
  },
  {
   "cell_type": "code",
   "execution_count": 70,
   "metadata": {
    "collapsed": false
   },
   "outputs": [
    {
     "name": "stdout",
     "output_type": "stream",
     "text": [
      "KEY=LGXR5X2HCM, VALUE=[(1359849600L, 131) (1364169600L, 54) (1364774400L, 28) (1366070400L, 45) (1367020800L, 29) (1368921600L, 50) (1371686400L, 84)]\n",
      "\n",
      "KEY=6KS0MMBMBR, VALUE=[(1358294400L, 49) (1359158400L, 26) (1359590400L, 51) (1360713600L, 28) (1361577600L, 44) (1363392000L, 26) (1364256000L, 53) (1365120000L, 30) (1368489600L, 92) (1369872000L, 31) (1372550400L, 101) (1372550400L, 27) (1373760000L, 52) (1374019200L, 30) (1374451200L, 47) (1374537600L, 25)]\n",
      "\n",
      "KEY=6RTSY4IUVS, VALUE=[(1358294400L, 75) (1360454400L, 30) (1360627200L, 47) (1361750400L, 33) (1369526400L, 172) (1369699200L, 26) (1370217600L, 50) (1370649600L, 27) (1370649600L, 53) (1371772800L, 26) (1374624000L, 95)]\n",
      "\n",
      "KEY=41W427090N, VALUE=[(1357776000L, 180) (1359158400L, 33) (1360108800L, 51) (1361404800L, 27) (1361664000L, 52) (1362614400L, 34) (1362960000L, 57) (1363564800L, 30) (1365552000L, 42) (1365724800L, 25) (1369440000L, 91) (1369958400L, 32) (1370217600L, 40) (1373155200L, 81) (1373241600L, 27)]\n",
      "\n",
      "KEY=KJWKMCKLRI, VALUE=[(1358035200L, 43) (1359763200L, 32) (1359763200L, 57) (1361923200L, 30) (1363392000L, 40) (1364601600L, 33) (1366934400L, 55)]\n",
      "\n"
     ]
    }
   ],
   "source": [
    "for t3 in customerRDD.take(5) :\n",
    "    print \"KEY={}, VALUE=[{}]\\n\".format( t3[0],  \" \".join([str(x) for x in t3[1]] )   )"
   ]
  },
  {
   "cell_type": "markdown",
   "metadata": {},
   "source": [
    "### Step 5: Create a Markov state sequence"
   ]
  },
  {
   "cell_type": "code",
   "execution_count": 161,
   "metadata": {
    "collapsed": false
   },
   "outputs": [],
   "source": [
    "def toStateSequence( mlist ) :\n",
    "    if( len(mlist) < 2 ) :\n",
    "        return None;\n",
    "    \n",
    "    stateSequence = [] ## LIST형\n",
    "    prior = mlist[ 0 ]\n",
    "    for idx in range( 1 , len(mlist) ) :\n",
    "        current = mlist[idx]\n",
    "        priorDate = prior[0]\n",
    "        date = current[0]\n",
    "        ## one day = 24*60*60*1000 = 86400000 milliseconds\n",
    "        daysDiff = (date - priorDate) / 86400000; \n",
    "        priorAmount = prior[1]\n",
    "        amount = current[1]\n",
    "        amountDiff = amount - priorAmount;\n",
    "        dd = \"\";\n",
    "        if daysDiff < 30  :\n",
    "            dd = \"S\"\n",
    "        elif  daysDiff < 30  :\n",
    "            dd = \"M\"\n",
    "        else :\n",
    "            dd = \"L\"\n",
    "    \n",
    "        ad = \"\";\n",
    "        if priorAmount < 0.9 * amount  :\n",
    "            ad = \"L\"\n",
    "        elif  priorAmount < 1.9 * amount  :\n",
    "            ad = \"E\"\n",
    "        else :\n",
    "            ad = \"G\"\n",
    "            \n",
    "        element = dd + ad\n",
    "        stateSequence.append( element )\n",
    "        prior = current\n",
    "        \n",
    "    return stateSequence"
   ]
  },
  {
   "cell_type": "code",
   "execution_count": 162,
   "metadata": {
    "collapsed": true
   },
   "outputs": [],
   "source": [
    "def getKey(item) :\n",
    "    return item[0]"
   ]
  },
  {
   "cell_type": "code",
   "execution_count": 163,
   "metadata": {
    "collapsed": false
   },
   "outputs": [],
   "source": [
    "def genStateSeq( dateAndAmount ) :\n",
    "    stateSequence = [] ## LIST형\n",
    "    \n",
    "    for v in dateAndAmount :\n",
    "        stateSequence.append( v )\n",
    "\n",
    "    sorted( stateSequence, key=getKey )\n",
    "    \n",
    "    retVal = toStateSequence( stateSequence )\n",
    "    \n",
    "    return retVal"
   ]
  },
  {
   "cell_type": "code",
   "execution_count": 164,
   "metadata": {
    "collapsed": true
   },
   "outputs": [],
   "source": [
    "stateSequence = customerRDD.mapValues( genStateSeq )"
   ]
  },
  {
   "cell_type": "code",
   "execution_count": 165,
   "metadata": {
    "collapsed": false
   },
   "outputs": [
    {
     "data": {
      "text/plain": [
       "[(u'LGXR5X2HCM', ['SG', 'SG', 'SL', 'SE', 'SL', 'SL']),\n",
       " (u'6KS0MMBMBR',\n",
       "  ['SE',\n",
       "   'SL',\n",
       "   'SE',\n",
       "   'SL',\n",
       "   'SE',\n",
       "   'SL',\n",
       "   'SE',\n",
       "   'SL',\n",
       "   'SG',\n",
       "   'SL',\n",
       "   'SG',\n",
       "   'SL',\n",
       "   'SE',\n",
       "   'SL',\n",
       "   'SE']),\n",
       " (u'6RTSY4IUVS', ['SG', 'SL', 'SE', 'SL', 'SG', 'SL', 'SE', 'SL', 'SG', 'SL'])]"
      ]
     },
     "execution_count": 165,
     "metadata": {},
     "output_type": "execute_result"
    }
   ],
   "source": [
    "stateSequence.take(3)"
   ]
  },
  {
   "cell_type": "markdown",
   "metadata": {},
   "source": [
    "### Step 6: Generate a Markov state transition matrix"
   ]
  },
  {
   "cell_type": "code",
   "execution_count": 166,
   "metadata": {
    "collapsed": true
   },
   "outputs": [],
   "source": [
    "def genTransitionMatrix( s ) :\n",
    "    mapperOutput = [] ## LIST형\n",
    "    \n",
    "    print s[0]\n",
    "    print s[1]\n",
    "    #print s[2]\n",
    "    \n",
    "    states = s[1]\n",
    "    if ( states == None or len(states) < 2 ) :\n",
    "        return mapperOutput\n",
    "    \n",
    "    prevState = None\n",
    "    for state in states :\n",
    "        if( prevState == None ) : \n",
    "            prevState = state\n",
    "            continue\n",
    "        \n",
    "        fromState = prevState\n",
    "        toState = state\n",
    "        k = (prevState, state)\n",
    "        mapperOutput.append( (k, 1)  )\n",
    "        prevState = state\n",
    "    \n",
    "    return mapperOutput"
   ]
  },
  {
   "cell_type": "code",
   "execution_count": 167,
   "metadata": {
    "collapsed": false
   },
   "outputs": [],
   "source": [
    "model = stateSequence.flatMap( genTransitionMatrix )"
   ]
  },
  {
   "cell_type": "code",
   "execution_count": 168,
   "metadata": {
    "collapsed": false
   },
   "outputs": [
    {
     "data": {
      "text/plain": [
       "[(('SG', 'SG'), 1),\n",
       " (('SG', 'SL'), 1),\n",
       " (('SL', 'SE'), 1),\n",
       " (('SE', 'SL'), 1),\n",
       " (('SL', 'SL'), 1)]"
      ]
     },
     "execution_count": 168,
     "metadata": {},
     "output_type": "execute_result"
    }
   ],
   "source": [
    "model.take(5)"
   ]
  },
  {
   "cell_type": "markdown",
   "metadata": {},
   "source": [
    "## Combine/reduce frequent (fromState, toState)"
   ]
  },
  {
   "cell_type": "code",
   "execution_count": 170,
   "metadata": {
    "collapsed": false
   },
   "outputs": [],
   "source": [
    "markovModel = model.reduceByKey( lambda i1, i2 :  i1 + i2 )"
   ]
  },
  {
   "cell_type": "code",
   "execution_count": 171,
   "metadata": {
    "collapsed": false
   },
   "outputs": [
    {
     "data": {
      "text/plain": [
       "[(('SL', 'SE'), 153189),\n",
       " (('SG', 'SE'), 4364),\n",
       " (('SL', 'SG'), 130437),\n",
       " (('SG', 'SL'), 179702),\n",
       " (('SG', 'SG'), 6530),\n",
       " (('SE', 'SL'), 140483),\n",
       " (('SL', 'SL'), 46608),\n",
       " (('SE', 'SG'), 8611),\n",
       " (('SE', 'SE'), 2381)]"
      ]
     },
     "execution_count": 171,
     "metadata": {},
     "output_type": "execute_result"
    }
   ],
   "source": [
    "markovModel.take( 10 )"
   ]
  },
  {
   "cell_type": "markdown",
   "metadata": {},
   "source": [
    "### Step 7: Emit final output"
   ]
  },
  {
   "cell_type": "markdown",
   "metadata": {},
   "source": [
    "```\n",
    "<fromState><,><toState><TAB><frequency-count>\n",
    "```"
   ]
  },
  {
   "cell_type": "code",
   "execution_count": 175,
   "metadata": {
    "collapsed": true
   },
   "outputs": [],
   "source": [
    "def formatted( t ) :\n",
    "    retVal = \"%s,%s\\t%d\" %( t[0][0], t[0][1], t[1] )\n",
    "    return retVal"
   ]
  },
  {
   "cell_type": "code",
   "execution_count": 176,
   "metadata": {
    "collapsed": false
   },
   "outputs": [],
   "source": [
    "markovModelFormatted = markovModel.map( formatted )"
   ]
  },
  {
   "cell_type": "code",
   "execution_count": 177,
   "metadata": {
    "collapsed": false
   },
   "outputs": [
    {
     "data": {
      "text/plain": [
       "['SL,SE\\t153189',\n",
       " 'SG,SE\\t4364',\n",
       " 'SL,SG\\t130437',\n",
       " 'SG,SL\\t179702',\n",
       " 'SG,SG\\t6530',\n",
       " 'SE,SL\\t140483',\n",
       " 'SL,SL\\t46608',\n",
       " 'SE,SG\\t8611',\n",
       " 'SE,SE\\t2381']"
      ]
     },
     "execution_count": 177,
     "metadata": {},
     "output_type": "execute_result"
    }
   ],
   "source": [
    "markovModelFormatted.take(10)"
   ]
  },
  {
   "cell_type": "markdown",
   "metadata": {},
   "source": [
    "https://github.com/mahmoudparsian/data-algorithms-book/blob/master/src/main/java/org/dataalgorithms/chap11/statemodel/StateTransitionTableBuilder.java\n",
    "\n",
    "\n",
    "```\n",
    "/**\n",
    " * Markov state transition probability matrix builder\n",
    " *\n",
    " */\n",
    "public class StateTransitionTableBuilder {\n",
    "\n",
    "\t//\n",
    "\t// model.states=SL,SE,SG,ML,ME,MG,LL,LE,LG\n",
    "\t//\n",
    "\t// states<key, value>: key is the state and value is row/column in table\n",
    "\t//\n",
    "\tprivate Map<String, Integer> states = null;\n",
    "\tprivate double[][] table = null;\n",
    "    private int numberOfStates;\n",
    "\tprivate int scale = 100;\n",
    "\n",
    "\tprivate void initStates(){\n",
    "\t    states = new HashMap<String, Integer>();\n",
    "\t\tstates.put(\"SL\", 0);\t\n",
    "\t\tstates.put(\"SE\", 1);\t\n",
    "\t\tstates.put(\"SG\", 2);\t\n",
    "\t\tstates.put(\"ML\", 3);\t\n",
    "\t\tstates.put(\"ME\", 4);\t\n",
    "\t\tstates.put(\"MG\", 5);\t\n",
    "\t\tstates.put(\"LL\", 6);\t\n",
    "\t\tstates.put(\"LE\", 7);\t\n",
    "\t\tstates.put(\"LG\", 8);\t\n",
    "\t}\n",
    "\t\t\t\n",
    "\tpublic StateTransitionTableBuilder(int numberOfStates) {\n",
    "\t\tthis.numberOfStates = numberOfStates;\n",
    "\t\ttable = new double[numberOfStates][numberOfStates];\n",
    "\t\tinitStates();\n",
    "\t}\n",
    "\t\n",
    "\tpublic StateTransitionTableBuilder(int numberOfStates, int scale) {\n",
    "\t\tthis(numberOfStates);\n",
    "\t\tthis.scale = scale;\n",
    "\t}\n",
    "\n",
    "    public void add(String fromState, String toState, int count) {\n",
    "    \tint row = states.get(fromState);\n",
    "    \tint column = states.get(toState);\n",
    "        table[row][column] = count;\n",
    "    }\n",
    "    \n",
    "\tpublic void normalizeRows() {\n",
    "\t\t// Laplace correction: the usual solution is to do a \n",
    "\t\t// Laplacian correction by upping all the counts by 1\n",
    "\t\t// see: http://cs.nyu.edu/faculty/davise/ai/bayesText.html\t\t\n",
    "\t\tfor (int r = 0; r < numberOfStates; r++) {\n",
    "\t\t\tboolean gotZeroCount = false;\n",
    "\t\t\tfor (int c = 0; c < numberOfStates; c++) {\n",
    "\t\t\t\tif(table[r][c] == 0) {\n",
    "\t\t\t\t\tgotZeroCount = true;\n",
    "\t\t\t\t\tbreak;\n",
    "\t\t\t\t}\n",
    "\t\t\t}\n",
    "\t\t\t\n",
    "\t\t\tif (gotZeroCount) {\n",
    "\t\t\t\tfor (int c = 0; c < numberOfStates; c++) {\n",
    "\t\t\t\t\t table[r][c] += 1;\n",
    "\t\t\t\t}\t\t\t\n",
    "\t\t\t}\n",
    "\t\t}\t\t\n",
    "\t\t\n",
    "\t\t//normalize\n",
    "\t\tfor (int r = 0; r < numberOfStates; r++) {\n",
    "\t\t\tdouble rowSum = getRowSum(r);\n",
    "\t\t\tfor (int c = 0; c < numberOfStates; c++) {\n",
    "\t\t\t\ttable[r][c] = table[r][c] / rowSum;\n",
    "\t\t\t}\n",
    "\t\t}\n",
    "\t}\n",
    "\t\n",
    "    public double getRowSum(int rowNumber) {\n",
    "        double sum = 0.0;\n",
    "        for (int column = 0; column < numberOfStates; column++) {\n",
    "            sum += table[rowNumber][column];\n",
    "        }\n",
    "        return sum;\n",
    "    }\n",
    "\n",
    "    public String serializeRow(int rowNumber) {\n",
    "        StringBuilder builder = new StringBuilder();\n",
    "        for (int column = 0; column < numberOfStates; column++) {\n",
    "        \tdouble element = table[rowNumber][column];\n",
    "        \tbuilder.append(String.format(\"%.4g\", element));\n",
    "            if (column < (numberOfStates-1)) {\n",
    "            \tbuilder.append(\",\");\n",
    "            }\n",
    "        }\n",
    "        return builder.toString();\n",
    "    }\n",
    "\n",
    "    public void persistTable() {\n",
    "\t\tfor (int row = 0; row < numberOfStates; row++) {\n",
    "        \tString serializedRow = serializeRow(row);\n",
    "        \tSystem.out.println(serializedRow);\n",
    "        }\n",
    "    }\n",
    "   \n",
    "\tpublic static void generateStateTransitionTable(String hdfsDirectory) {\n",
    "\t\tList<TableItem> list = ReadDataFromHDFS.readDirectory(hdfsDirectory);\n",
    "\t    StateTransitionTableBuilder tableBuilder = new StateTransitionTableBuilder(9);\n",
    "\t    for (TableItem item : list) {\n",
    "\t    \ttableBuilder.add(item.fromState, item.toState, item.count);\n",
    "\t    }\n",
    "\t    \n",
    "\t    tableBuilder.normalizeRows();\n",
    "\t    tableBuilder.persistTable();\n",
    "\t}\n",
    "\t\n",
    "\tpublic static void main(String[] args) {\n",
    "\t\tString hdfsDirectory = args[0];\n",
    "\t\tgenerateStateTransitionTable(hdfsDirectory);\n",
    "\t}\t\n",
    "}\n",
    "\n",
    "```"
   ]
  },
  {
   "cell_type": "code",
   "execution_count": null,
   "metadata": {
    "collapsed": true
   },
   "outputs": [],
   "source": []
  }
 ],
 "metadata": {
  "kernelspec": {
   "display_name": "Python 2",
   "language": "python",
   "name": "python2"
  },
  "language_info": {
   "codemirror_mode": {
    "name": "ipython",
    "version": 2
   },
   "file_extension": ".py",
   "mimetype": "text/x-python",
   "name": "python",
   "nbconvert_exporter": "python",
   "pygments_lexer": "ipython2",
   "version": "2.7.11"
  },
  "widgets": {
   "state": {},
   "version": "1.1.2"
  }
 },
 "nbformat": 4,
 "nbformat_minor": 0
}
