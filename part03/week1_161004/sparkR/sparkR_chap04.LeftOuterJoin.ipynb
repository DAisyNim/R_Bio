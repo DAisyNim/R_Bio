{
 "cells": [
  {
   "cell_type": "markdown",
   "metadata": {},
   "source": [
    "# CHAPTER 4.  Left Outer Join"
   ]
  },
  {
   "cell_type": "markdown",
   "metadata": {},
   "source": [
    "# Join 의 종류\n",
    "\n",
    "![](sparkr_04_01.jpg)\n",
    "![](sparkr_04_02.jpg)\n",
    "![](sparkr_04_03.jpg)"
   ]
  },
  {
   "cell_type": "markdown",
   "metadata": {
    "collapsed": true
   },
   "source": [
    "## Join의 예제\n",
    "![](sparkr_04_04.jpg)\n",
    "![](sparkr_04_05.jpg)\n",
    "![](sparkr_04_06.jpg)"
   ]
  },
  {
   "cell_type": "markdown",
   "metadata": {},
   "source": [
    "## Implementation of Left Outer Join in MapReduce"
   ]
  },
  {
   "cell_type": "markdown",
   "metadata": {},
   "source": [
    "앞의 예제 Query3에서 보여준 것 같이, 팔린 상품이 얼마만큼의 지역에서 팔려는지 알아보는 것을 2단계를 거침.\n",
    "\n",
    "- 1단계 : 앞의 Query1 과 같이, 모든 팔린 상품과 지역ID을 찾음.\n",
    "- 2단계 : 앞의 Query3의 결과를 보여주기 위해서 유니크한 지역ID 개수를 셈.\n",
    "\n",
    "\n",
    "![](sparkr_04_07.jpg)\n",
    "![](sparkr_04_08.jpg)"
   ]
  },
  {
   "cell_type": "markdown",
   "metadata": {},
   "source": [
    "### PySpark로 구현"
   ]
  },
  {
   "cell_type": "markdown",
   "metadata": {},
   "source": [
    "#### Step 3: Create a Spark context object"
   ]
  },
  {
   "cell_type": "code",
   "execution_count": 1,
   "metadata": {
    "collapsed": false
   },
   "outputs": [
    {
     "data": {
      "text/plain": [
       "<pyspark.context.SparkContext at 0x7f5144f879d0>"
      ]
     },
     "execution_count": 1,
     "metadata": {},
     "output_type": "execute_result"
    }
   ],
   "source": [
    "from pyspark import SparkContext\n",
    "sc = SparkContext() \n",
    "sc"
   ]
  },
  {
   "cell_type": "markdown",
   "metadata": {},
   "source": [
    "#### Step 4: Create an RDD for the users data"
   ]
  },
  {
   "cell_type": "code",
   "execution_count": 8,
   "metadata": {
    "collapsed": false
   },
   "outputs": [
    {
     "data": {
      "text/plain": [
       "[u'u1,UT', u'u2,GA', u'u3,CA', u'u4,CA', u'u5,GA']"
      ]
     },
     "execution_count": 8,
     "metadata": {},
     "output_type": "execute_result"
    }
   ],
   "source": [
    "users = sc.textFile('users.txt', 1);\n",
    "users.collect()"
   ]
  },
  {
   "cell_type": "markdown",
   "metadata": {},
   "source": [
    "#### Step 5: Create usersRDD (the right table)"
   ]
  },
  {
   "cell_type": "code",
   "execution_count": 12,
   "metadata": {
    "collapsed": false
   },
   "outputs": [
    {
     "data": {
      "text/plain": [
       "[('u1', 'UT')]"
      ]
     },
     "execution_count": 12,
     "metadata": {},
     "output_type": "execute_result"
    }
   ],
   "source": [
    "def make_user_rdd( line ) :\n",
    "    userRecord = line.split(\",\")\n",
    "    userID = userRecord[0]\n",
    "    location = userRecord[1]\n",
    "    result = []\n",
    "    result.append( (userID, location) )\n",
    "    return result \n",
    "\n",
    "s = 'u1,UT'\n",
    "make_user_rdd( s )"
   ]
  },
  {
   "cell_type": "code",
   "execution_count": 13,
   "metadata": {
    "collapsed": true
   },
   "outputs": [],
   "source": [
    "usersRDD = users.flatMap( make_user_rdd )"
   ]
  },
  {
   "cell_type": "code",
   "execution_count": 14,
   "metadata": {
    "collapsed": false
   },
   "outputs": [
    {
     "data": {
      "text/plain": [
       "[(u'u1', u'UT'),\n",
       " (u'u2', u'GA'),\n",
       " (u'u3', u'CA'),\n",
       " (u'u4', u'CA'),\n",
       " (u'u5', u'GA')]"
      ]
     },
     "execution_count": 14,
     "metadata": {},
     "output_type": "execute_result"
    }
   ],
   "source": [
    "usersRDD.collect()"
   ]
  },
  {
   "cell_type": "markdown",
   "metadata": {},
   "source": [
    "#### Step 6: Create an RDD for the transactions data"
   ]
  },
  {
   "cell_type": "code",
   "execution_count": 16,
   "metadata": {
    "collapsed": false
   },
   "outputs": [
    {
     "data": {
      "text/plain": [
       "[u't1,p3,u1,3,330',\n",
       " u't2,p1,u2,1,400',\n",
       " u't3,p1,u1,3,600',\n",
       " u't4,p2,u2,10,1000',\n",
       " u't5,p4,u4,9,90',\n",
       " u't6,p1,u1,4,120',\n",
       " u't7,p4,u1,8,160',\n",
       " u't8,p4,u5,2,40']"
      ]
     },
     "execution_count": 16,
     "metadata": {},
     "output_type": "execute_result"
    }
   ],
   "source": [
    "transactions = sc.textFile('transactions.txt', 1);\n",
    "transactions.collect()"
   ]
  },
  {
   "cell_type": "code",
   "execution_count": 18,
   "metadata": {
    "collapsed": false
   },
   "outputs": [
    {
     "data": {
      "text/plain": [
       "[(u'u1', u'p3')]"
      ]
     },
     "execution_count": 18,
     "metadata": {},
     "output_type": "execute_result"
    }
   ],
   "source": [
    "def make_tran_rdd( line ) :\n",
    "    transactionRecord = line.split(\",\");\n",
    "    userID = transactionRecord[2];\n",
    "    product = transactionRecord[1];\n",
    "    result = []\n",
    "    result.append( (userID, product) )\n",
    "    return result \n",
    "\n",
    "s = u't1,p3,u1,3,330'\n",
    "make_tran_rdd(s)"
   ]
  },
  {
   "cell_type": "code",
   "execution_count": 19,
   "metadata": {
    "collapsed": false
   },
   "outputs": [
    {
     "data": {
      "text/plain": [
       "[(u'u1', u'p3'),\n",
       " (u'u2', u'p1'),\n",
       " (u'u1', u'p1'),\n",
       " (u'u2', u'p2'),\n",
       " (u'u4', u'p4'),\n",
       " (u'u1', u'p1'),\n",
       " (u'u1', u'p4'),\n",
       " (u'u5', u'p4')]"
      ]
     },
     "execution_count": 19,
     "metadata": {},
     "output_type": "execute_result"
    }
   ],
   "source": [
    "transactionsRDD = transactions.flatMap( make_tran_rdd )\n",
    "transactionsRDD.collect()"
   ]
  },
  {
   "cell_type": "markdown",
   "metadata": {},
   "source": [
    "#### Step 8: Use Spark’s built-in JavaPairRDD.leftOuterJoin() method"
   ]
  },
  {
   "cell_type": "code",
   "execution_count": 21,
   "metadata": {
    "collapsed": false
   },
   "outputs": [
    {
     "data": {
      "text/plain": [
       "[(u'u5', (u'p4', u'GA')),\n",
       " (u'u1', (u'p3', u'UT')),\n",
       " (u'u1', (u'p1', u'UT')),\n",
       " (u'u1', (u'p1', u'UT')),\n",
       " (u'u1', (u'p4', u'UT')),\n",
       " (u'u4', (u'p4', u'CA')),\n",
       " (u'u2', (u'p1', u'GA')),\n",
       " (u'u2', (u'p2', u'GA'))]"
      ]
     },
     "execution_count": 21,
     "metadata": {},
     "output_type": "execute_result"
    }
   ],
   "source": [
    "joined = transactionsRDD.leftOuterJoin(usersRDD);\n",
    "joined.collect()"
   ]
  },
  {
   "cell_type": "markdown",
   "metadata": {},
   "source": [
    "#### Step 9: Create (product, location) pairs"
   ]
  },
  {
   "cell_type": "code",
   "execution_count": 25,
   "metadata": {
    "collapsed": true
   },
   "outputs": [],
   "source": [
    "def make_pairs( t ) :\n",
    "    value = t[1]\n",
    "    result = []\n",
    "    result.append( (value[0], value[1]) ) \n",
    "    return result "
   ]
  },
  {
   "cell_type": "code",
   "execution_count": 26,
   "metadata": {
    "collapsed": false
   },
   "outputs": [
    {
     "data": {
      "text/plain": [
       "[(u'p4', u'GA'),\n",
       " (u'p3', u'UT'),\n",
       " (u'p1', u'UT'),\n",
       " (u'p1', u'UT'),\n",
       " (u'p4', u'UT'),\n",
       " (u'p4', u'CA'),\n",
       " (u'p1', u'GA'),\n",
       " (u'p2', u'GA')]"
      ]
     },
     "execution_count": 26,
     "metadata": {},
     "output_type": "execute_result"
    }
   ],
   "source": [
    "products = joined.flatMap( make_pairs )\n",
    "products.collect()"
   ]
  },
  {
   "cell_type": "markdown",
   "metadata": {},
   "source": [
    "#### Step 10: Group (K=product, V=location) pairs by key"
   ]
  },
  {
   "cell_type": "code",
   "execution_count": 29,
   "metadata": {
    "collapsed": false
   },
   "outputs": [
    {
     "name": "stdout",
     "output_type": "stream",
     "text": [
      "debug2 key=p2\t value=GA\n",
      "debug2 key=p4\t value=GA,UT,CA\n",
      "debug2 key=p3\t value=UT\n",
      "debug2 key=p1\t value=UT,UT,GA\n"
     ]
    }
   ],
   "source": [
    "productByLocations = products.groupByKey();\n",
    "debug2 = productByLocations.collect()\n",
    "for t2 in  debug2 :\n",
    "    print \"debug2 key={}\\t value={}\".format( t2[0],  \",\".join([str(x) for x in t2[1]] )   )"
   ]
  },
  {
   "cell_type": "markdown",
   "metadata": {},
   "source": [
    "#### Step 11: Create final output (K=product, V=Set(location))"
   ]
  },
  {
   "cell_type": "code",
   "execution_count": 30,
   "metadata": {
    "collapsed": true
   },
   "outputs": [],
   "source": [
    "def make_pairs_by_key( s ) :\n",
    "    uniqueLocations = {} # HashMap\n",
    "    for location in s :\n",
    "        uniqueLocations[ location ] = 1\n",
    "        \n",
    "    return ( uniqueLocations, len(uniqueLocations)  )"
   ]
  },
  {
   "cell_type": "code",
   "execution_count": 32,
   "metadata": {
    "collapsed": false
   },
   "outputs": [
    {
     "data": {
      "text/plain": [
       "[(u'p2', ({u'GA': 1}, 1)),\n",
       " (u'p4', ({u'CA': 1, u'GA': 1, u'UT': 1}, 3)),\n",
       " (u'p3', ({u'UT': 1}, 1)),\n",
       " (u'p1', ({u'GA': 1, u'UT': 1}, 2))]"
      ]
     },
     "execution_count": 32,
     "metadata": {},
     "output_type": "execute_result"
    }
   ],
   "source": [
    "productByUniqueLocations = productByLocations.mapValues( make_pairs_by_key )\n",
    "\n",
    "productByUniqueLocations.collect()"
   ]
  },
  {
   "cell_type": "markdown",
   "metadata": {},
   "source": [
    "### SparkR의 dataframe을 구현"
   ]
  },
  {
   "cell_type": "code",
   "execution_count": 1,
   "metadata": {
    "collapsed": false
   },
   "outputs": [
    {
     "name": "stderr",
     "output_type": "stream",
     "text": [
      "\n",
      "Attaching package: ‘SparkR’\n",
      "\n",
      "The following objects are masked from ‘package:stats’:\n",
      "\n",
      "    cov, filter, lag, na.omit, predict, sd, var\n",
      "\n",
      "The following objects are masked from ‘package:base’:\n",
      "\n",
      "    colnames, colnames<-, intersect, rank, rbind, sample, subset,\n",
      "    summary, table, transform\n",
      "\n"
     ]
    },
    {
     "name": "stdout",
     "output_type": "stream",
     "text": [
      "Launching java with spark-submit command /usr/local/spark/bin/spark-submit  --packages com.databricks:spark-csv_2.10:1.4.0 sparkr-shell /tmp/RtmpKL9K1z/backend_porta210fb3dd3 \n"
     ]
    }
   ],
   "source": [
    "library(SparkR, lib.loc = c(file.path(Sys.getenv(\"SPARK_HOME\"), \"R\", \"lib\")))\n",
    "\n",
    "sc <- sparkR.init(master=\"local[*]\", sparkPackages=\"com.databricks:spark-csv_2.10:1.4.0\" )"
   ]
  },
  {
   "cell_type": "code",
   "execution_count": 2,
   "metadata": {
    "collapsed": true
   },
   "outputs": [],
   "source": [
    "sqlContext <- sparkRSQL.init(sc)"
   ]
  },
  {
   "cell_type": "code",
   "execution_count": 27,
   "metadata": {
    "collapsed": false
   },
   "outputs": [
    {
     "data": {
      "text/html": [
       "<table>\n",
       "<thead><tr><th></th><th scope=col>user</th><th scope=col>region</th></tr></thead>\n",
       "<tbody>\n",
       "\t<tr><th scope=row>1</th><td>u1</td><td>UT</td></tr>\n",
       "\t<tr><th scope=row>2</th><td>u2</td><td>GA</td></tr>\n",
       "\t<tr><th scope=row>3</th><td>u3</td><td>CA</td></tr>\n",
       "\t<tr><th scope=row>4</th><td>u4</td><td>CA</td></tr>\n",
       "\t<tr><th scope=row>5</th><td>u5</td><td>GA</td></tr>\n",
       "</tbody>\n",
       "</table>\n"
      ],
      "text/latex": [
       "\\begin{tabular}{r|ll}\n",
       "  & user & region\\\\\n",
       "\\hline\n",
       "\t1 & u1 & UT\\\\\n",
       "\t2 & u2 & GA\\\\\n",
       "\t3 & u3 & CA\\\\\n",
       "\t4 & u4 & CA\\\\\n",
       "\t5 & u5 & GA\\\\\n",
       "\\end{tabular}\n"
      ],
      "text/plain": [
       "  user region\n",
       "1   u1     UT\n",
       "2   u2     GA\n",
       "3   u3     CA\n",
       "4   u4     CA\n",
       "5   u5     GA"
      ]
     },
     "execution_count": 27,
     "metadata": {},
     "output_type": "execute_result"
    }
   ],
   "source": [
    "user_df <- read.df(sqlContext, \n",
    "                            'users.csv', \n",
    "                            header='true', \n",
    "                            source = \"com.databricks.spark.csv\", \n",
    "                            inferSchema='true')\n",
    "head(user_df, n=10)"
   ]
  },
  {
   "cell_type": "code",
   "execution_count": 26,
   "metadata": {
    "collapsed": false
   },
   "outputs": [
    {
     "data": {
      "text/html": [
       "<table>\n",
       "<thead><tr><th></th><th scope=col>tr</th><th scope=col>product</th><th scope=col>user</th><th scope=col>cnt</th><th scope=col>price</th></tr></thead>\n",
       "<tbody>\n",
       "\t<tr><th scope=row>1</th><td>t1</td><td>p3</td><td>u1</td><td>3</td><td>330</td></tr>\n",
       "\t<tr><th scope=row>2</th><td>t2</td><td>p1</td><td>u2</td><td>1</td><td>400</td></tr>\n",
       "\t<tr><th scope=row>3</th><td>t3</td><td>p1</td><td>u1</td><td>3</td><td>600</td></tr>\n",
       "\t<tr><th scope=row>4</th><td>t4</td><td>p2</td><td>u2</td><td>10</td><td>1000</td></tr>\n",
       "\t<tr><th scope=row>5</th><td>t5</td><td>p4</td><td>u4</td><td>9</td><td>90</td></tr>\n",
       "\t<tr><th scope=row>6</th><td>t6</td><td>p1</td><td>u1</td><td>4</td><td>120</td></tr>\n",
       "\t<tr><th scope=row>7</th><td>t7</td><td>p4</td><td>u1</td><td>8</td><td>160</td></tr>\n",
       "\t<tr><th scope=row>8</th><td>t8</td><td>p4</td><td>u5</td><td>2</td><td>40</td></tr>\n",
       "</tbody>\n",
       "</table>\n"
      ],
      "text/latex": [
       "\\begin{tabular}{r|lllll}\n",
       "  & tr & product & user & cnt & price\\\\\n",
       "\\hline\n",
       "\t1 & t1 & p3 & u1 & 3 & 330\\\\\n",
       "\t2 & t2 & p1 & u2 & 1 & 400\\\\\n",
       "\t3 & t3 & p1 & u1 & 3 & 600\\\\\n",
       "\t4 & t4 & p2 & u2 & 10 & 1000\\\\\n",
       "\t5 & t5 & p4 & u4 & 9 & 90\\\\\n",
       "\t6 & t6 & p1 & u1 & 4 & 120\\\\\n",
       "\t7 & t7 & p4 & u1 & 8 & 160\\\\\n",
       "\t8 & t8 & p4 & u5 & 2 & 40\\\\\n",
       "\\end{tabular}\n"
      ],
      "text/plain": [
       "  tr product user cnt price\n",
       "1 t1      p3   u1   3   330\n",
       "2 t2      p1   u2   1   400\n",
       "3 t3      p1   u1   3   600\n",
       "4 t4      p2   u2  10  1000\n",
       "5 t5      p4   u4   9    90\n",
       "6 t6      p1   u1   4   120\n",
       "7 t7      p4   u1   8   160\n",
       "8 t8      p4   u5   2    40"
      ]
     },
     "execution_count": 26,
     "metadata": {},
     "output_type": "execute_result"
    }
   ],
   "source": [
    "trans_df <- read.df(sqlContext, \n",
    "                            'transactions.csv', \n",
    "                            header='true', \n",
    "                            source = \"com.databricks.spark.csv\", \n",
    "                            inferSchema='true')\n",
    "head(trans_df, n=20)"
   ]
  },
  {
   "cell_type": "markdown",
   "metadata": {},
   "source": [
    "- join() 함수 : https://spark.apache.org/docs/1.4.0/api/R/join.html\n",
    "\n",
    "Description\n",
    "\n",
    "Join two DataFrames based on the given join expression.\n",
    "\n",
    "Usage\n",
    "\n",
    "#### S4 method for signature 'DataFrame,DataFrame'\n",
    "join(x, y, joinExpr = NULL, joinType = NULL)\n",
    "Arguments\n",
    "\n",
    "x\t\n",
    "A Spark DataFrame\n",
    "\n",
    "y\t\n",
    "A Spark DataFrame\n",
    "\n",
    "joinExpr\t\n",
    "(Optional) The expression used to perform the join. joinExpr must be a Column expression. If joinExpr is omitted, join() wil perform a Cartesian join\n",
    "\n",
    "joinType\t\n",
    "The type of join to perform. The following join types are available: 'inner', 'outer', 'left_outer', 'right_outer', 'semijoin'. The default joinType is \"inner\"."
   ]
  },
  {
   "cell_type": "code",
   "execution_count": 23,
   "metadata": {
    "collapsed": false
   },
   "outputs": [
    {
     "data": {
      "text/html": [
       "<table>\n",
       "<thead><tr><th></th><th scope=col>user</th><th scope=col>region</th><th scope=col>tr</th><th scope=col>product</th><th scope=col>user</th><th scope=col>cnt</th><th scope=col>price</th></tr></thead>\n",
       "<tbody>\n",
       "\t<tr><th scope=row>1</th><td>u1</td><td>UT</td><td>t1</td><td>p3</td><td>u1</td><td>3</td><td>330</td></tr>\n",
       "\t<tr><th scope=row>2</th><td>u1</td><td>UT</td><td>t3</td><td>p1</td><td>u1</td><td>3</td><td>600</td></tr>\n",
       "\t<tr><th scope=row>3</th><td>u1</td><td>UT</td><td>t6</td><td>p1</td><td>u1</td><td>4</td><td>120</td></tr>\n",
       "\t<tr><th scope=row>4</th><td>u1</td><td>UT</td><td>t7</td><td>p4</td><td>u1</td><td>8</td><td>160</td></tr>\n",
       "\t<tr><th scope=row>5</th><td>u2</td><td>GA</td><td>t2</td><td>p1</td><td>u2</td><td>1</td><td>400</td></tr>\n",
       "\t<tr><th scope=row>6</th><td>u2</td><td>GA</td><td>t4</td><td>p2</td><td>u2</td><td>10</td><td>1000</td></tr>\n",
       "\t<tr><th scope=row>7</th><td>u4</td><td>CA</td><td>t5</td><td>p4</td><td>u4</td><td>9</td><td>90</td></tr>\n",
       "\t<tr><th scope=row>8</th><td>u5</td><td>GA</td><td>t8</td><td>p4</td><td>u5</td><td>2</td><td>40</td></tr>\n",
       "</tbody>\n",
       "</table>\n"
      ],
      "text/latex": [
       "\\begin{tabular}{r|lllllll}\n",
       "  & user & region & tr & product & user & cnt & price\\\\\n",
       "\\hline\n",
       "\t1 & u1 & UT & t1 & p3 & u1 & 3 & 330\\\\\n",
       "\t2 & u1 & UT & t3 & p1 & u1 & 3 & 600\\\\\n",
       "\t3 & u1 & UT & t6 & p1 & u1 & 4 & 120\\\\\n",
       "\t4 & u1 & UT & t7 & p4 & u1 & 8 & 160\\\\\n",
       "\t5 & u2 & GA & t2 & p1 & u2 & 1 & 400\\\\\n",
       "\t6 & u2 & GA & t4 & p2 & u2 & 10 & 1000\\\\\n",
       "\t7 & u4 & CA & t5 & p4 & u4 & 9 & 90\\\\\n",
       "\t8 & u5 & GA & t8 & p4 & u5 & 2 & 40\\\\\n",
       "\\end{tabular}\n"
      ],
      "text/plain": [
       "  user region tr product user cnt price\n",
       "1   u1     UT t1      p3   u1   3   330\n",
       "2   u1     UT t3      p1   u1   3   600\n",
       "3   u1     UT t6      p1   u1   4   120\n",
       "4   u1     UT t7      p4   u1   8   160\n",
       "5   u2     GA t2      p1   u2   1   400\n",
       "6   u2     GA t4      p2   u2  10  1000\n",
       "7   u4     CA t5      p4   u4   9    90\n",
       "8   u5     GA t8      p4   u5   2    40"
      ]
     },
     "execution_count": 23,
     "metadata": {},
     "output_type": "execute_result"
    }
   ],
   "source": [
    "inner_join_df <- join(user_df, trans_df, user_df$user == trans_df$user, 'inner')\n",
    "head( inner_join_df , 20)"
   ]
  },
  {
   "cell_type": "code",
   "execution_count": 24,
   "metadata": {
    "collapsed": false
   },
   "outputs": [
    {
     "data": {
      "text/html": [
       "<table>\n",
       "<thead><tr><th></th><th scope=col>user</th><th scope=col>region</th><th scope=col>tr</th><th scope=col>product</th><th scope=col>user</th><th scope=col>cnt</th><th scope=col>price</th></tr></thead>\n",
       "<tbody>\n",
       "\t<tr><th scope=row>1</th><td>u1</td><td>UT</td><td>t1</td><td>p3</td><td>u1</td><td>3</td><td>330</td></tr>\n",
       "\t<tr><th scope=row>2</th><td>u1</td><td>UT</td><td>t3</td><td>p1</td><td>u1</td><td>3</td><td>600</td></tr>\n",
       "\t<tr><th scope=row>3</th><td>u1</td><td>UT</td><td>t6</td><td>p1</td><td>u1</td><td>4</td><td>120</td></tr>\n",
       "\t<tr><th scope=row>4</th><td>u1</td><td>UT</td><td>t7</td><td>p4</td><td>u1</td><td>8</td><td>160</td></tr>\n",
       "\t<tr><th scope=row>5</th><td>u2</td><td>GA</td><td>t2</td><td>p1</td><td>u2</td><td>1</td><td>400</td></tr>\n",
       "\t<tr><th scope=row>6</th><td>u2</td><td>GA</td><td>t4</td><td>p2</td><td>u2</td><td>10</td><td>1000</td></tr>\n",
       "\t<tr><th scope=row>7</th><td>u4</td><td>CA</td><td>t5</td><td>p4</td><td>u4</td><td>9</td><td>90</td></tr>\n",
       "\t<tr><th scope=row>8</th><td>u5</td><td>GA</td><td>t8</td><td>p4</td><td>u5</td><td>2</td><td>40</td></tr>\n",
       "</tbody>\n",
       "</table>\n"
      ],
      "text/latex": [
       "\\begin{tabular}{r|lllllll}\n",
       "  & user & region & tr & product & user & cnt & price\\\\\n",
       "\\hline\n",
       "\t1 & u1 & UT & t1 & p3 & u1 & 3 & 330\\\\\n",
       "\t2 & u1 & UT & t3 & p1 & u1 & 3 & 600\\\\\n",
       "\t3 & u1 & UT & t6 & p1 & u1 & 4 & 120\\\\\n",
       "\t4 & u1 & UT & t7 & p4 & u1 & 8 & 160\\\\\n",
       "\t5 & u2 & GA & t2 & p1 & u2 & 1 & 400\\\\\n",
       "\t6 & u2 & GA & t4 & p2 & u2 & 10 & 1000\\\\\n",
       "\t7 & u4 & CA & t5 & p4 & u4 & 9 & 90\\\\\n",
       "\t8 & u5 & GA & t8 & p4 & u5 & 2 & 40\\\\\n",
       "\\end{tabular}\n"
      ],
      "text/plain": [
       "  user region tr product user cnt price\n",
       "1   u1     UT t1      p3   u1   3   330\n",
       "2   u1     UT t3      p1   u1   3   600\n",
       "3   u1     UT t6      p1   u1   4   120\n",
       "4   u1     UT t7      p4   u1   8   160\n",
       "5   u2     GA t2      p1   u2   1   400\n",
       "6   u2     GA t4      p2   u2  10  1000\n",
       "7   u4     CA t5      p4   u4   9    90\n",
       "8   u5     GA t8      p4   u5   2    40"
      ]
     },
     "execution_count": 24,
     "metadata": {},
     "output_type": "execute_result"
    }
   ],
   "source": [
    "right_join_df <- join(user_df, trans_df, user_df$user == trans_df$user, 'right_outer')\n",
    "head( right_join_df  , 20 )"
   ]
  },
  {
   "cell_type": "code",
   "execution_count": 25,
   "metadata": {
    "collapsed": false
   },
   "outputs": [
    {
     "data": {
      "text/html": [
       "<table>\n",
       "<thead><tr><th></th><th scope=col>user</th><th scope=col>region</th><th scope=col>tr</th><th scope=col>product</th><th scope=col>user</th><th scope=col>cnt</th><th scope=col>price</th></tr></thead>\n",
       "<tbody>\n",
       "\t<tr><th scope=row>1</th><td>u1</td><td>UT</td><td>t1</td><td>p3</td><td>u1</td><td>3</td><td>330</td></tr>\n",
       "\t<tr><th scope=row>2</th><td>u1</td><td>UT</td><td>t3</td><td>p1</td><td>u1</td><td>3</td><td>600</td></tr>\n",
       "\t<tr><th scope=row>3</th><td>u1</td><td>UT</td><td>t6</td><td>p1</td><td>u1</td><td>4</td><td>120</td></tr>\n",
       "\t<tr><th scope=row>4</th><td>u1</td><td>UT</td><td>t7</td><td>p4</td><td>u1</td><td>8</td><td>160</td></tr>\n",
       "\t<tr><th scope=row>5</th><td>u2</td><td>GA</td><td>t2</td><td>p1</td><td>u2</td><td>1</td><td>400</td></tr>\n",
       "\t<tr><th scope=row>6</th><td>u2</td><td>GA</td><td>t4</td><td>p2</td><td>u2</td><td>10</td><td>1000</td></tr>\n",
       "\t<tr><th scope=row>7</th><td>u3</td><td>CA</td><td>NA</td><td>NA</td><td>NA</td><td>NA</td><td>NA</td></tr>\n",
       "\t<tr><th scope=row>8</th><td>u4</td><td>CA</td><td>t5</td><td>p4</td><td>u4</td><td>9</td><td>90</td></tr>\n",
       "\t<tr><th scope=row>9</th><td>u5</td><td>GA</td><td>t8</td><td>p4</td><td>u5</td><td>2</td><td>40</td></tr>\n",
       "</tbody>\n",
       "</table>\n"
      ],
      "text/latex": [
       "\\begin{tabular}{r|lllllll}\n",
       "  & user & region & tr & product & user & cnt & price\\\\\n",
       "\\hline\n",
       "\t1 & u1 & UT & t1 & p3 & u1 & 3 & 330\\\\\n",
       "\t2 & u1 & UT & t3 & p1 & u1 & 3 & 600\\\\\n",
       "\t3 & u1 & UT & t6 & p1 & u1 & 4 & 120\\\\\n",
       "\t4 & u1 & UT & t7 & p4 & u1 & 8 & 160\\\\\n",
       "\t5 & u2 & GA & t2 & p1 & u2 & 1 & 400\\\\\n",
       "\t6 & u2 & GA & t4 & p2 & u2 & 10 & 1000\\\\\n",
       "\t7 & u3 & CA & NA & NA & NA & NA & NA\\\\\n",
       "\t8 & u4 & CA & t5 & p4 & u4 & 9 & 90\\\\\n",
       "\t9 & u5 & GA & t8 & p4 & u5 & 2 & 40\\\\\n",
       "\\end{tabular}\n"
      ],
      "text/plain": [
       "  user region   tr product user cnt price\n",
       "1   u1     UT   t1      p3   u1   3   330\n",
       "2   u1     UT   t3      p1   u1   3   600\n",
       "3   u1     UT   t6      p1   u1   4   120\n",
       "4   u1     UT   t7      p4   u1   8   160\n",
       "5   u2     GA   t2      p1   u2   1   400\n",
       "6   u2     GA   t4      p2   u2  10  1000\n",
       "7   u3     CA <NA>    <NA> <NA>  NA    NA\n",
       "8   u4     CA   t5      p4   u4   9    90\n",
       "9   u5     GA   t8      p4   u5   2    40"
      ]
     },
     "execution_count": 25,
     "metadata": {},
     "output_type": "execute_result"
    }
   ],
   "source": [
    "left_join_df <- join(user_df, trans_df, user_df$user == trans_df$user, 'left_outer')\n",
    "head( left_join_df  , 20 )"
   ]
  },
  {
   "cell_type": "code",
   "execution_count": 41,
   "metadata": {
    "collapsed": false
   },
   "outputs": [
    {
     "data": {
      "text/html": [
       "<table>\n",
       "<thead><tr><th></th><th scope=col>product</th><th scope=col>count</th></tr></thead>\n",
       "<tbody>\n",
       "\t<tr><th scope=row>1</th><td>p1</td><td>3</td></tr>\n",
       "\t<tr><th scope=row>2</th><td>p2</td><td>1</td></tr>\n",
       "\t<tr><th scope=row>3</th><td>p3</td><td>1</td></tr>\n",
       "\t<tr><th scope=row>4</th><td>p4</td><td>3</td></tr>\n",
       "</tbody>\n",
       "</table>\n"
      ],
      "text/latex": [
       "\\begin{tabular}{r|ll}\n",
       "  & product & count\\\\\n",
       "\\hline\n",
       "\t1 & p1 & 3\\\\\n",
       "\t2 & p2 & 1\\\\\n",
       "\t3 & p3 & 1\\\\\n",
       "\t4 & p4 & 3\\\\\n",
       "\\end{tabular}\n"
      ],
      "text/plain": [
       "  product count\n",
       "1      p1     3\n",
       "2      p2     1\n",
       "3      p3     1\n",
       "4      p4     3"
      ]
     },
     "execution_count": 41,
     "metadata": {},
     "output_type": "execute_result"
    }
   ],
   "source": [
    "region_counts <- summarize(groupBy(right_join_df, right_join_df$product), count = n( right_join_df$region ))\n",
    "head(region_counts)"
   ]
  },
  {
   "cell_type": "code",
   "execution_count": null,
   "metadata": {
    "collapsed": true
   },
   "outputs": [],
   "source": []
  }
 ],
 "metadata": {
  "kernelspec": {
   "display_name": "Python 2",
   "language": "python",
   "name": "python2"
  },
  "language_info": {
   "codemirror_mode": {
    "name": "ipython",
    "version": 2
   },
   "file_extension": ".py",
   "mimetype": "text/x-python",
   "name": "python",
   "nbconvert_exporter": "python",
   "pygments_lexer": "ipython2",
   "version": "2.7.11"
  },
  "widgets": {
   "state": {},
   "version": "1.1.2"
  }
 },
 "nbformat": 4,
 "nbformat_minor": 0
}
