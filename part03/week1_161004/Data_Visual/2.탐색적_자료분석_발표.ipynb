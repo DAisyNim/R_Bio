{
 "cells": [
  {
   "cell_type": "code",
   "execution_count": 1,
   "metadata": {
    "collapsed": false
   },
   "outputs": [
    {
     "data": {
      "image/png": "[encoded data removed]",
      "text/plain": [
       "Plot with title \"pie_chart\""
      ]
     },
     "metadata": {
      "image/svg+xml": {
       "isolated": true
      }
     },
     "output_type": "display_data"
    }
   ],
   "source": [
    "blood <- c( \"A\" , \"B\" , \"B\" , \"A\" , \"A\" , \"O\" , \"A\" , \"AB\" , \"O\" , \"O\" , \"O\" , \"A\" , \"A\" , \"B\" , \"AB\" , \"A\" , \"O\" , \"B\" , \"A\" , \"B\" , \"B\" , \"A\" , \"B\" , \"A\" , \"B\" , \"AB\" , \"B\" , \"A\" , \"O\" , \"AB\", \"O\" , \"B\" , \"A\" , \"B\" , \"A\" , \"O\" , \"B\" , \"A\" , \"A\" , \"A\" , \"A\" , \"O\" , \"A\" , \"O\" , \"O\" , \"B\" , \"B\" , \"O\" , \"AB\" , \"A\", \"B\" , \"AB\", \"B\" , \"O\" , \"O\" , \"O\" , \"AB\" , \"O\" , \"O\" , \"B\" , \"A\" , \"A\" , \"O\" , \"A\" , \"B\" , \"O\" , \"A\" , \"O\" , \"B\" , \"O\" , \"A\" , \"B\" , \"O\" , \"AB\" , \"B\" , \"B\" , \"A\" , \"O\" , \"B\" , \"A\" , \"B\" , \"B\" , \"O\" , \"AB\" , \"B\" , \"A\" , \"AB\" , \"A\" , \"B\" , \"A\" , \"A\" , \"O\" , \"O\" , \"A\" , \"A\" , \"O\" , \"AB\" , \"A\" , \"A\" , \"O\" )\n",
    "sort.blood <- sort(table(blood),decreasing=T)\n",
    "par(mfrow=c(1,2))\n",
    "slices <- c(\"red\",\"blue\",\"yellow\",\"green\")\n",
    "pie(sort.blood,col=slices,radius=1,main=\"pie_chart\")"
   ]
  },
  {
   "cell_type": "code",
   "execution_count": 2,
   "metadata": {
    "collapsed": false
   },
   "outputs": [
    {
     "name": "stderr",
     "output_type": "stream",
     "text": [
      "Warning message:\n",
      "In text.default(1.1 * P$x, 1.1 * P$y, labels[i], xpd = TRUE, adj = ifelse(P$x < : conversion failure on 'AA 152紐<85>' in 'mbcsToSbcs': dot substituted for <eb>Warning message:\n",
      "In text.default(1.1 * P$x, 1.1 * P$y, labels[i], xpd = TRUE, adj = ifelse(P$x < : conversion failure on 'AA 152紐<85>' in 'mbcsToSbcs': dot substituted for <aa>Warning message:\n",
      "In text.default(1.1 * P$x, 1.1 * P$y, labels[i], xpd = TRUE, adj = ifelse(P$x < : conversion failure on 'AA 152紐<85>' in 'mbcsToSbcs': dot substituted for <85>Warning message:\n",
      "In text.default(1.1 * P$x, 1.1 * P$y, labels[i], xpd = TRUE, adj = ifelse(P$x < : 유니코드 문자 U+ba85에 대한 폰트메트릭을 알 수 없습니다Warning message:\n",
      "In text.default(1.1 * P$x, 1.1 * P$y, labels[i], xpd = TRUE, adj = ifelse(P$x < : conversion failure on 'BB 5紐<85>' in 'mbcsToSbcs': dot substituted for <eb>Warning message:\n",
      "In text.default(1.1 * P$x, 1.1 * P$y, labels[i], xpd = TRUE, adj = ifelse(P$x < : conversion failure on 'BB 5紐<85>' in 'mbcsToSbcs': dot substituted for <aa>Warning message:\n",
      "In text.default(1.1 * P$x, 1.1 * P$y, labels[i], xpd = TRUE, adj = ifelse(P$x < : conversion failure on 'BB 5紐<85>' in 'mbcsToSbcs': dot substituted for <85>Warning message:\n",
      "In text.default(1.1 * P$x, 1.1 * P$y, labels[i], xpd = TRUE, adj = ifelse(P$x < : 유니코드 문자 U+ba85에 대한 폰트메트릭을 알 수 없습니다Warning message:\n",
      "In text.default(1.1 * P$x, 1.1 * P$y, labels[i], xpd = TRUE, adj = ifelse(P$x < : conversion failure on 'CC 3紐<85>' in 'mbcsToSbcs': dot substituted for <eb>Warning message:\n",
      "In text.default(1.1 * P$x, 1.1 * P$y, labels[i], xpd = TRUE, adj = ifelse(P$x < : conversion failure on 'CC 3紐<85>' in 'mbcsToSbcs': dot substituted for <aa>Warning message:\n",
      "In text.default(1.1 * P$x, 1.1 * P$y, labels[i], xpd = TRUE, adj = ifelse(P$x < : conversion failure on 'CC 3紐<85>' in 'mbcsToSbcs': dot substituted for <85>Warning message:\n",
      "In text.default(1.1 * P$x, 1.1 * P$y, labels[i], xpd = TRUE, adj = ifelse(P$x < : 유니코드 문자 U+ba85에 대한 폰트메트릭을 알 수 없습니다Warning message:\n",
      "In text.default(1.1 * P$x, 1.1 * P$y, labels[i], xpd = TRUE, adj = ifelse(P$x < : conversion failure on 'DD 13紐<85>' in 'mbcsToSbcs': dot substituted for <eb>Warning message:\n",
      "In text.default(1.1 * P$x, 1.1 * P$y, labels[i], xpd = TRUE, adj = ifelse(P$x < : conversion failure on 'DD 13紐<85>' in 'mbcsToSbcs': dot substituted for <aa>Warning message:\n",
      "In text.default(1.1 * P$x, 1.1 * P$y, labels[i], xpd = TRUE, adj = ifelse(P$x < : conversion failure on 'DD 13紐<85>' in 'mbcsToSbcs': dot substituted for <85>Warning message:\n",
      "In text.default(1.1 * P$x, 1.1 * P$y, labels[i], xpd = TRUE, adj = ifelse(P$x < : 유니코드 문자 U+ba85에 대한 폰트메트릭을 알 수 없습니다Warning message:\n",
      "In text.default(1.1 * P$x, 1.1 * P$y, labels[i], xpd = TRUE, adj = ifelse(P$x < : conversion failure on 'EE 127紐<85>' in 'mbcsToSbcs': dot substituted for <eb>Warning message:\n",
      "In text.default(1.1 * P$x, 1.1 * P$y, labels[i], xpd = TRUE, adj = ifelse(P$x < : conversion failure on 'EE 127紐<85>' in 'mbcsToSbcs': dot substituted for <aa>Warning message:\n",
      "In text.default(1.1 * P$x, 1.1 * P$y, labels[i], xpd = TRUE, adj = ifelse(P$x < : conversion failure on 'EE 127紐<85>' in 'mbcsToSbcs': dot substituted for <85>Warning message:\n",
      "In text.default(1.1 * P$x, 1.1 * P$y, labels[i], xpd = TRUE, adj = ifelse(P$x < : 유니코드 문자 U+ba85에 대한 폰트메트릭을 알 수 없습니다Warning message:\n",
      "In text.default(1.1 * P$x, 1.1 * P$y, labels[i], xpd = TRUE, adj = ifelse(P$x < : conversion failure on 'AA 152紐<85>' in 'mbcsToSbcs': dot substituted for <eb>Warning message:\n",
      "In text.default(1.1 * P$x, 1.1 * P$y, labels[i], xpd = TRUE, adj = ifelse(P$x < : conversion failure on 'AA 152紐<85>' in 'mbcsToSbcs': dot substituted for <aa>Warning message:\n",
      "In text.default(1.1 * P$x, 1.1 * P$y, labels[i], xpd = TRUE, adj = ifelse(P$x < : conversion failure on 'AA 152紐<85>' in 'mbcsToSbcs': dot substituted for <85>Warning message:\n",
      "In text.default(1.1 * P$x, 1.1 * P$y, labels[i], xpd = TRUE, adj = ifelse(P$x < : 유니코드 문자 U+ba85에 대한 폰트메트릭을 알 수 없습니다Warning message:\n",
      "In text.default(1.1 * P$x, 1.1 * P$y, labels[i], xpd = TRUE, adj = ifelse(P$x < : conversion failure on 'BB 5紐<85>' in 'mbcsToSbcs': dot substituted for <eb>Warning message:\n",
      "In text.default(1.1 * P$x, 1.1 * P$y, labels[i], xpd = TRUE, adj = ifelse(P$x < : conversion failure on 'BB 5紐<85>' in 'mbcsToSbcs': dot substituted for <aa>Warning message:\n",
      "In text.default(1.1 * P$x, 1.1 * P$y, labels[i], xpd = TRUE, adj = ifelse(P$x < : conversion failure on 'BB 5紐<85>' in 'mbcsToSbcs': dot substituted for <85>Warning message:\n",
      "In text.default(1.1 * P$x, 1.1 * P$y, labels[i], xpd = TRUE, adj = ifelse(P$x < : 유니코드 문자 U+ba85에 대한 폰트메트릭을 알 수 없습니다Warning message:\n",
      "In text.default(1.1 * P$x, 1.1 * P$y, labels[i], xpd = TRUE, adj = ifelse(P$x < : conversion failure on 'CC 3紐<85>' in 'mbcsToSbcs': dot substituted for <eb>Warning message:\n",
      "In text.default(1.1 * P$x, 1.1 * P$y, labels[i], xpd = TRUE, adj = ifelse(P$x < : conversion failure on 'CC 3紐<85>' in 'mbcsToSbcs': dot substituted for <aa>Warning message:\n",
      "In text.default(1.1 * P$x, 1.1 * P$y, labels[i], xpd = TRUE, adj = ifelse(P$x < : conversion failure on 'CC 3紐<85>' in 'mbcsToSbcs': dot substituted for <85>Warning message:\n",
      "In text.default(1.1 * P$x, 1.1 * P$y, labels[i], xpd = TRUE, adj = ifelse(P$x < : 유니코드 문자 U+ba85에 대한 폰트메트릭을 알 수 없습니다Warning message:\n",
      "In text.default(1.1 * P$x, 1.1 * P$y, labels[i], xpd = TRUE, adj = ifelse(P$x < : conversion failure on 'DD 13紐<85>' in 'mbcsToSbcs': dot substituted for <eb>Warning message:\n",
      "In text.default(1.1 * P$x, 1.1 * P$y, labels[i], xpd = TRUE, adj = ifelse(P$x < : conversion failure on 'DD 13紐<85>' in 'mbcsToSbcs': dot substituted for <aa>Warning message:\n",
      "In text.default(1.1 * P$x, 1.1 * P$y, labels[i], xpd = TRUE, adj = ifelse(P$x < : conversion failure on 'DD 13紐<85>' in 'mbcsToSbcs': dot substituted for <85>Warning message:\n",
      "In text.default(1.1 * P$x, 1.1 * P$y, labels[i], xpd = TRUE, adj = ifelse(P$x < : 유니코드 문자 U+ba85에 대한 폰트메트릭을 알 수 없습니다Warning message:\n",
      "In text.default(1.1 * P$x, 1.1 * P$y, labels[i], xpd = TRUE, adj = ifelse(P$x < : conversion failure on 'EE 127紐<85>' in 'mbcsToSbcs': dot substituted for <eb>Warning message:\n",
      "In text.default(1.1 * P$x, 1.1 * P$y, labels[i], xpd = TRUE, adj = ifelse(P$x < : conversion failure on 'EE 127紐<85>' in 'mbcsToSbcs': dot substituted for <aa>Warning message:\n",
      "In text.default(1.1 * P$x, 1.1 * P$y, labels[i], xpd = TRUE, adj = ifelse(P$x < : conversion failure on 'EE 127紐<85>' in 'mbcsToSbcs': dot substituted for <85>Warning message:\n",
      "In text.default(1.1 * P$x, 1.1 * P$y, labels[i], xpd = TRUE, adj = ifelse(P$x < : 유니코드 문자 U+ba85에 대한 폰트메트릭을 알 수 없습니다"
     ]
    },
    {
     "data": {
      "image/png": "[encoded data removed]",
      "text/plain": [
       "plot without title"
      ]
     },
     "metadata": {
      "image/svg+xml": {
       "isolated": true
      }
     },
     "output_type": "display_data"
    },
    {
     "data": {
      "image/png": "[encoded data removed]",
      "text/plain": [
       "Plot with title \"19th Parliamentary elections\""
      ]
     },
     "metadata": {
      "image/svg+xml": {
       "isolated": true
      }
     },
     "output_type": "display_data"
    }
   ],
   "source": [
    "require(grDevices) \n",
    "pie.vote <- c(0.5067,0.0167,0.0100,0.0433,0.4233) \n",
    "names(pie.vote) <- c(\"AA 152명\", \"BB 5명\", \"CC 3명\", \"DD 13명\", \"EE 127명\") \n",
    "pie(pie.vote) \n",
    "pie(pie.vote, col = c(\"red3\", \"blue\", \"green3\", \"magenta\", \"yellow\"), main = \"19th Parliamentary elections\")\n"
   ]
  },
  {
   "cell_type": "code",
   "execution_count": 3,
   "metadata": {
    "collapsed": true
   },
   "outputs": [],
   "source": [
    "blood <- c( \"A\" , \"B\" , \"B\" , \"A\" , \"A\" , \"O\" , \"A\" , \"AB\" , \"O\" , \"O\" \n",
    "      , \"O\", \"A\", \"A\", \"B\", \"AB\", \"A\", \"O\", \"B\", \"A\", \"B\"\n",
    "      , \"B\", \"A\", \"B\", \"A\", \"B\", \"AB\", \"B\", \"A\", \"O\", \"AB\"\n",
    "      , \"O\", \"B\", \"A\", \"B\", \"A\", \"O\", \"B\", \"A\", \"A\", \"A\"\n",
    "      , \"A\", \"O\", \"A\", \"O\", \"O\", \"B\", \"B\", \"O\", \"AB\", \"A\"\n",
    "      , \"B\", \"AB\", \"B\", \"O\", \"O\", \"O\", \"AB\", \"O\", \"O\", \"B\"\n",
    "      , \"A\", \"A\", \"O\", \"A\", \"B\", \"O\", \"A\", \"O\", \"B\", \"O\"\n",
    "      , \"A\", \"B\", \"O\", \"AB\", \"B\", \"B\", \"A\", \"O\", \"B\", \"A\"\n",
    "      , \"B\", \"B\", \"O\", \"AB\", \"B\", \"A\", \"AB\", \"A\", \"B\", \"A\"\n",
    "      , \"A\", \"O\", \"O\", \"A\", \"A\" , \"O\" , \"AB\" , \"A\" , \"A\" , \"O\" )"
   ]
  },
  {
   "cell_type": "code",
   "execution_count": 4,
   "metadata": {
    "collapsed": false
   },
   "outputs": [
    {
     "data": {
      "image/png": "[encoded data removed]",
      "text/plain": [
       "Plot with title \"bar_chart\""
      ]
     },
     "metadata": {
      "image/svg+xml": {
       "isolated": true
      }
     },
     "output_type": "display_data"
    }
   ],
   "source": [
    "sort.blood<- sort(table(blood),decreasing=T)\n",
    "par(mfrow=c(1,2))\n",
    "slices=c(\"red\",\"blue\",\"yellow\",\"green\")\n",
    "barplot(sort.blood,col=slices,main=\"bar_chart\")"
   ]
  },
  {
   "cell_type": "code",
   "execution_count": 5,
   "metadata": {
    "collapsed": false
   },
   "outputs": [
    {
     "data": {
      "image/png": "[encoded data removed]",
      "text/plain": [
       "Plot with title \"19dae kukhaeyuwon sunge\""
      ]
     },
     "metadata": {
      "image/svg+xml": {
       "isolated": true
      }
     },
     "output_type": "display_data"
    },
    {
     "data": {
      "image/png": "[encoded data removed]",
      "text/plain": [
       "Plot with title \"bar chart\""
      ]
     },
     "metadata": {
      "image/svg+xml": {
       "isolated": true
      }
     },
     "output_type": "display_data"
    }
   ],
   "source": [
    "require(grDevices)\n",
    "par(mfrow=c(1,2))\n",
    "pie.vote <- c(0.5067,0.0167,0.0100,0.0433,0.4233) \n",
    "names(pie.vote) <- c(\"Saenuri 152\", \"sunjin 5\", \"musosok 3\", \"jinbo 13\", \"minju 127\") \n",
    "pie(pie.vote) \n",
    "pie(pie.vote, col = c(\"red3\", \"blue\", \"green3\", \"magenta\", \"yellow\"), main = \"19dae kukhaeyuwon sunge\") \n",
    "barplot(pie.vote,col = c(\"red3\", \"blue\", \"green3\", \"magenta\", \"yellow\"),main=\"bar chart\")"
   ]
  },
  {
   "cell_type": "code",
   "execution_count": 6,
   "metadata": {
    "collapsed": false
   },
   "outputs": [
    {
     "data": {
      "image/png": "[encoded data removed]",
      "text/plain": [
       "Plot with title \"Car Milage Data\""
      ]
     },
     "metadata": {
      "image/svg+xml": {
       "isolated": true
      }
     },
     "output_type": "display_data"
    }
   ],
   "source": [
    "# Boxplot of MPG by Car Cylinders \n",
    "boxplot(mpg~cyl,data=mtcars, main=\"Car Milage Data\", xlab=\"Number of Cylinders\", ylab=\"Miles Per Gallon\")"
   ]
  },
  {
   "cell_type": "code",
   "execution_count": 7,
   "metadata": {
    "collapsed": false
   },
   "outputs": [
    {
     "name": "stderr",
     "output_type": "stream",
     "text": [
      "Warning message:\n",
      "In rug(mtcars$mpg[mtcars$cyl == 4]): some values will be clipped"
     ]
    },
    {
     "data": {
      "image/png": "[encoded data removed]",
      "text/plain": [
       "Plot with title \"Car Milage Data\""
      ]
     },
     "metadata": {
      "image/svg+xml": {
       "isolated": true
      }
     },
     "output_type": "display_data"
    }
   ],
   "source": [
    "boxplot(mtcars$mpg[mtcars$cyl==4], main=\"Car Milage Data\", xlab=\"Number of Cylinders\", ylab=\"Miles Per Gallon\")\n",
    "rug(mtcars$mpg[mtcars$cyl==4])"
   ]
  },
  {
   "cell_type": "code",
   "execution_count": 8,
   "metadata": {
    "collapsed": false
   },
   "outputs": [
    {
     "name": "stderr",
     "output_type": "stream",
     "text": [
      "Loading required package: sm\n",
      "Package 'sm', version 2.2-5.4: type help(sm) for summary information\n"
     ]
    },
    {
     "data": {
      "image/png": "[encoded data removed]",
      "text/plain": [
       "Plot with title \"Violin Plots of Miles Per Gallon\""
      ]
     },
     "metadata": {
      "image/svg+xml": {
       "isolated": true
      }
     },
     "output_type": "display_data"
    }
   ],
   "source": [
    "library(vioplot)\n",
    "x1 <- mtcars$mpg[mtcars$cyl==4]\n",
    "x2 <- mtcars$mpg[mtcars$cyl==6]\n",
    "x3 <- mtcars$mpg[mtcars$cyl==8]\n",
    "vioplot(x1, x2, x3, names=c(\"4 cyl\", \"6 cyl\", \"8 cyl\"), \n",
    "   col=\"gold\")\n",
    "title(\"Violin Plots of Miles Per Gallon\")"
   ]
  },
  {
   "cell_type": "code",
   "execution_count": 10,
   "metadata": {
    "collapsed": false
   },
   "outputs": [
    {
     "data": {
      "text/html": [
       "<ol class=list-inline>\n",
       "\t<li>4.37</li>\n",
       "\t<li>3.87</li>\n",
       "\t<li>4</li>\n",
       "\t<li>4.03</li>\n",
       "\t<li>3.5</li>\n",
       "\t<li>4.08</li>\n",
       "\t<li>2.25</li>\n",
       "\t<li>4.7</li>\n",
       "\t<li>1.73</li>\n",
       "\t<li>4.93</li>\n",
       "\t<li>1.73</li>\n",
       "\t<li>4.62</li>\n",
       "\t<li>3.43</li>\n",
       "\t<li>4.25</li>\n",
       "\t<li>1.68</li>\n",
       "\t<li>3.92</li>\n",
       "\t<li>3.68</li>\n",
       "\t<li>3.1</li>\n",
       "\t<li>4.03</li>\n",
       "\t<li>1.77</li>\n",
       "\t<li>4.08</li>\n",
       "\t<li>1.75</li>\n",
       "\t<li>3.2</li>\n",
       "\t<li>1.85</li>\n",
       "\t<li>4.62</li>\n",
       "\t<li>1.97</li>\n",
       "\t<li>4.5</li>\n",
       "\t<li>3.92</li>\n",
       "\t<li>4.35</li>\n",
       "\t<li>2.33</li>\n",
       "\t<li>3.83</li>\n",
       "\t<li>1.88</li>\n",
       "\t<li>4.6</li>\n",
       "\t<li>1.8</li>\n",
       "\t<li>4.73</li>\n",
       "\t<li>1.77</li>\n",
       "\t<li>4.57</li>\n",
       "\t<li>1.85</li>\n",
       "\t<li>3.52</li>\n",
       "\t<li>4</li>\n",
       "\t<li>3.7</li>\n",
       "\t<li>3.72</li>\n",
       "\t<li>4.25</li>\n",
       "\t<li>3.58</li>\n",
       "\t<li>3.8</li>\n",
       "\t<li>3.77</li>\n",
       "\t<li>3.75</li>\n",
       "\t<li>2.5</li>\n",
       "\t<li>4.5</li>\n",
       "\t<li>4.1</li>\n",
       "\t<li>3.7</li>\n",
       "\t<li>3.8</li>\n",
       "\t<li>3.43</li>\n",
       "\t<li>4</li>\n",
       "\t<li>2.27</li>\n",
       "\t<li>4.4</li>\n",
       "\t<li>4.05</li>\n",
       "\t<li>4.25</li>\n",
       "\t<li>3.33</li>\n",
       "\t<li>2</li>\n",
       "\t<li>4.33</li>\n",
       "\t<li>2.93</li>\n",
       "\t<li>4.58</li>\n",
       "\t<li>1.9</li>\n",
       "\t<li>3.58</li>\n",
       "\t<li>3.73</li>\n",
       "\t<li>3.73</li>\n",
       "\t<li>1.82</li>\n",
       "\t<li>4.63</li>\n",
       "\t<li>3.5</li>\n",
       "\t<li>4</li>\n",
       "\t<li>3.67</li>\n",
       "\t<li>1.67</li>\n",
       "\t<li>4.6</li>\n",
       "\t<li>1.67</li>\n",
       "\t<li>4</li>\n",
       "\t<li>1.8</li>\n",
       "\t<li>4.42</li>\n",
       "\t<li>1.9</li>\n",
       "\t<li>4.63</li>\n",
       "\t<li>2.93</li>\n",
       "\t<li>3.5</li>\n",
       "\t<li>1.97</li>\n",
       "\t<li>4.28</li>\n",
       "\t<li>1.83</li>\n",
       "\t<li>4.13</li>\n",
       "\t<li>1.83</li>\n",
       "\t<li>4.65</li>\n",
       "\t<li>4.2</li>\n",
       "\t<li>3.93</li>\n",
       "\t<li>4.33</li>\n",
       "\t<li>1.83</li>\n",
       "\t<li>4.53</li>\n",
       "\t<li>2.03</li>\n",
       "\t<li>4.18</li>\n",
       "\t<li>4.43</li>\n",
       "\t<li>4.07</li>\n",
       "\t<li>4.13</li>\n",
       "\t<li>3.95</li>\n",
       "\t<li>4.1</li>\n",
       "\t<li>2.72</li>\n",
       "\t<li>4.58</li>\n",
       "\t<li>1.9</li>\n",
       "\t<li>4.5</li>\n",
       "\t<li>1.95</li>\n",
       "\t<li>4.83</li>\n",
       "\t<li>4.12</li>\n",
       "</ol>\n"
      ],
      "text/latex": [
       "\\begin{enumerate*}\n",
       "\\item 4.37\n",
       "\\item 3.87\n",
       "\\item 4\n",
       "\\item 4.03\n",
       "\\item 3.5\n",
       "\\item 4.08\n",
       "\\item 2.25\n",
       "\\item 4.7\n",
       "\\item 1.73\n",
       "\\item 4.93\n",
       "\\item 1.73\n",
       "\\item 4.62\n",
       "\\item 3.43\n",
       "\\item 4.25\n",
       "\\item 1.68\n",
       "\\item 3.92\n",
       "\\item 3.68\n",
       "\\item 3.1\n",
       "\\item 4.03\n",
       "\\item 1.77\n",
       "\\item 4.08\n",
       "\\item 1.75\n",
       "\\item 3.2\n",
       "\\item 1.85\n",
       "\\item 4.62\n",
       "\\item 1.97\n",
       "\\item 4.5\n",
       "\\item 3.92\n",
       "\\item 4.35\n",
       "\\item 2.33\n",
       "\\item 3.83\n",
       "\\item 1.88\n",
       "\\item 4.6\n",
       "\\item 1.8\n",
       "\\item 4.73\n",
       "\\item 1.77\n",
       "\\item 4.57\n",
       "\\item 1.85\n",
       "\\item 3.52\n",
       "\\item 4\n",
       "\\item 3.7\n",
       "\\item 3.72\n",
       "\\item 4.25\n",
       "\\item 3.58\n",
       "\\item 3.8\n",
       "\\item 3.77\n",
       "\\item 3.75\n",
       "\\item 2.5\n",
       "\\item 4.5\n",
       "\\item 4.1\n",
       "\\item 3.7\n",
       "\\item 3.8\n",
       "\\item 3.43\n",
       "\\item 4\n",
       "\\item 2.27\n",
       "\\item 4.4\n",
       "\\item 4.05\n",
       "\\item 4.25\n",
       "\\item 3.33\n",
       "\\item 2\n",
       "\\item 4.33\n",
       "\\item 2.93\n",
       "\\item 4.58\n",
       "\\item 1.9\n",
       "\\item 3.58\n",
       "\\item 3.73\n",
       "\\item 3.73\n",
       "\\item 1.82\n",
       "\\item 4.63\n",
       "\\item 3.5\n",
       "\\item 4\n",
       "\\item 3.67\n",
       "\\item 1.67\n",
       "\\item 4.6\n",
       "\\item 1.67\n",
       "\\item 4\n",
       "\\item 1.8\n",
       "\\item 4.42\n",
       "\\item 1.9\n",
       "\\item 4.63\n",
       "\\item 2.93\n",
       "\\item 3.5\n",
       "\\item 1.97\n",
       "\\item 4.28\n",
       "\\item 1.83\n",
       "\\item 4.13\n",
       "\\item 1.83\n",
       "\\item 4.65\n",
       "\\item 4.2\n",
       "\\item 3.93\n",
       "\\item 4.33\n",
       "\\item 1.83\n",
       "\\item 4.53\n",
       "\\item 2.03\n",
       "\\item 4.18\n",
       "\\item 4.43\n",
       "\\item 4.07\n",
       "\\item 4.13\n",
       "\\item 3.95\n",
       "\\item 4.1\n",
       "\\item 2.72\n",
       "\\item 4.58\n",
       "\\item 1.9\n",
       "\\item 4.5\n",
       "\\item 1.95\n",
       "\\item 4.83\n",
       "\\item 4.12\n",
       "\\end{enumerate*}\n"
      ],
      "text/markdown": [
       "1. 4.37\n",
       "2. 3.87\n",
       "3. 4\n",
       "4. 4.03\n",
       "5. 3.5\n",
       "6. 4.08\n",
       "7. 2.25\n",
       "8. 4.7\n",
       "9. 1.73\n",
       "10. 4.93\n",
       "11. 1.73\n",
       "12. 4.62\n",
       "13. 3.43\n",
       "14. 4.25\n",
       "15. 1.68\n",
       "16. 3.92\n",
       "17. 3.68\n",
       "18. 3.1\n",
       "19. 4.03\n",
       "20. 1.77\n",
       "21. 4.08\n",
       "22. 1.75\n",
       "23. 3.2\n",
       "24. 1.85\n",
       "25. 4.62\n",
       "26. 1.97\n",
       "27. 4.5\n",
       "28. 3.92\n",
       "29. 4.35\n",
       "30. 2.33\n",
       "31. 3.83\n",
       "32. 1.88\n",
       "33. 4.6\n",
       "34. 1.8\n",
       "35. 4.73\n",
       "36. 1.77\n",
       "37. 4.57\n",
       "38. 1.85\n",
       "39. 3.52\n",
       "40. 4\n",
       "41. 3.7\n",
       "42. 3.72\n",
       "43. 4.25\n",
       "44. 3.58\n",
       "45. 3.8\n",
       "46. 3.77\n",
       "47. 3.75\n",
       "48. 2.5\n",
       "49. 4.5\n",
       "50. 4.1\n",
       "51. 3.7\n",
       "52. 3.8\n",
       "53. 3.43\n",
       "54. 4\n",
       "55. 2.27\n",
       "56. 4.4\n",
       "57. 4.05\n",
       "58. 4.25\n",
       "59. 3.33\n",
       "60. 2\n",
       "61. 4.33\n",
       "62. 2.93\n",
       "63. 4.58\n",
       "64. 1.9\n",
       "65. 3.58\n",
       "66. 3.73\n",
       "67. 3.73\n",
       "68. 1.82\n",
       "69. 4.63\n",
       "70. 3.5\n",
       "71. 4\n",
       "72. 3.67\n",
       "73. 1.67\n",
       "74. 4.6\n",
       "75. 1.67\n",
       "76. 4\n",
       "77. 1.8\n",
       "78. 4.42\n",
       "79. 1.9\n",
       "80. 4.63\n",
       "81. 2.93\n",
       "82. 3.5\n",
       "83. 1.97\n",
       "84. 4.28\n",
       "85. 1.83\n",
       "86. 4.13\n",
       "87. 1.83\n",
       "88. 4.65\n",
       "89. 4.2\n",
       "90. 3.93\n",
       "91. 4.33\n",
       "92. 1.83\n",
       "93. 4.53\n",
       "94. 2.03\n",
       "95. 4.18\n",
       "96. 4.43\n",
       "97. 4.07\n",
       "98. 4.13\n",
       "99. 3.95\n",
       "100. 4.1\n",
       "101. 2.72\n",
       "102. 4.58\n",
       "103. 1.9\n",
       "104. 4.5\n",
       "105. 1.95\n",
       "106. 4.83\n",
       "107. 4.12\n",
       "\n",
       "\n"
      ],
      "text/plain": [
       "  [1] 4.37 3.87 4.00 4.03 3.50 4.08 2.25 4.70 1.73 4.93 1.73 4.62 3.43 4.25 1.68\n",
       " [16] 3.92 3.68 3.10 4.03 1.77 4.08 1.75 3.20 1.85 4.62 1.97 4.50 3.92 4.35 2.33\n",
       " [31] 3.83 1.88 4.60 1.80 4.73 1.77 4.57 1.85 3.52 4.00 3.70 3.72 4.25 3.58 3.80\n",
       " [46] 3.77 3.75 2.50 4.50 4.10 3.70 3.80 3.43 4.00 2.27 4.40 4.05 4.25 3.33 2.00\n",
       " [61] 4.33 2.93 4.58 1.90 3.58 3.73 3.73 1.82 4.63 3.50 4.00 3.67 1.67 4.60 1.67\n",
       " [76] 4.00 1.80 4.42 1.90 4.63 2.93 3.50 1.97 4.28 1.83 4.13 1.83 4.65 4.20 3.93\n",
       " [91] 4.33 1.83 4.53 2.03 4.18 4.43 4.07 4.13 3.95 4.10 2.72 4.58 1.90 4.50 1.95\n",
       "[106] 4.83 4.12"
      ]
     },
     "metadata": {},
     "output_type": "display_data"
    },
    {
     "data": {
      "text/plain": [
       "cat.class1\n",
       "(1.35,1.85] (1.85,2.35] (2.35,2.85] (2.85,3.35] (3.35,3.85] (3.85,4.35] \n",
       "         16          12           2           5          20          30 \n",
       "(4.35,4.85] (4.85,5.35] \n",
       "         21           1 "
      ]
     },
     "metadata": {},
     "output_type": "display_data"
    },
    {
     "data": {
      "text/plain": [
       "cat.class2\n",
       "(1.5,2] (2,2.5] (2.5,3] (3,3.5] (3.5,4] (4,4.5] (4.5,5] \n",
       "     24       5       3       8      25      27      15 "
      ]
     },
     "metadata": {},
     "output_type": "display_data"
    },
    {
     "name": "stderr",
     "output_type": "stream",
     "text": [
      "Warning message:\n",
      "In title(main = main, sub = sub, xlab = xlab, ylab = ylab, ...): conversion failure on '媛꾪뿉<ec>삩泥<9c> 吏<ec>냽<ec>떆媛꾩뿉 <eb><8c><ed>븳 <ed>엳<ec>뒪<ed>넗洹몃옩 ' in 'mbcsToSbcs': dot substituted for <ea>Warning message:\n",
      "In title(main = main, sub = sub, xlab = xlab, ylab = ylab, ...): conversion failure on '媛꾪뿉<ec>삩泥<9c> 吏<ec>냽<ec>떆媛꾩뿉 <eb><8c><ed>븳 <ed>엳<ec>뒪<ed>넗洹몃옩 ' in 'mbcsToSbcs': dot substituted for <b0>Warning message:\n",
      "In title(main = main, sub = sub, xlab = xlab, ylab = ylab, ...): conversion failure on '媛꾪뿉<ec>삩泥<9c> 吏<ec>냽<ec>떆媛꾩뿉 <eb><8c><ed>븳 <ed>엳<ec>뒪<ed>넗洹몃옩 ' in 'mbcsToSbcs': dot substituted for <84>Warning message:\n",
      "In title(main = main, sub = sub, xlab = xlab, ylab = ylab, ...): conversion failure on '媛꾪뿉<ec>삩泥<9c> 吏<ec>냽<ec>떆媛꾩뿉 <eb><8c><ed>븳 <ed>엳<ec>뒪<ed>넗洹몃옩 ' in 'mbcsToSbcs': dot substituted for <ed>Warning message:\n",
      "In title(main = main, sub = sub, xlab = xlab, ylab = ylab, ...): conversion failure on '媛꾪뿉<ec>삩泥<9c> 吏<ec>냽<ec>떆媛꾩뿉 <eb><8c><ed>븳 <ed>엳<ec>뒪<ed>넗洹몃옩 ' in 'mbcsToSbcs': dot substituted for <97>Warning message:\n",
      "In title(main = main, sub = sub, xlab = xlab, ylab = ylab, ...): conversion failure on '媛꾪뿉<ec>삩泥<9c> 吏<ec>냽<ec>떆媛꾩뿉 <eb><8c><ed>븳 <ed>엳<ec>뒪<ed>넗洹몃옩 ' in 'mbcsToSbcs': dot substituted for <90>Warning message:\n",
      "In title(main = main, sub = sub, xlab = xlab, ylab = ylab, ...): conversion failure on '媛꾪뿉<ec>삩泥<9c> 吏<ec>냽<ec>떆媛꾩뿉 <eb><8c><ed>븳 <ed>엳<ec>뒪<ed>넗洹몃옩 ' in 'mbcsToSbcs': dot substituted for <ec>Warning message:\n",
      "In title(main = main, sub = sub, xlab = xlab, ylab = ylab, ...): conversion failure on '媛꾪뿉<ec>삩泥<9c> 吏<ec>냽<ec>떆媛꾩뿉 <eb><8c><ed>븳 <ed>엳<ec>뒪<ed>넗洹몃옩 ' in 'mbcsToSbcs': dot substituted for <98>Warning message:\n",
      "In title(main = main, sub = sub, xlab = xlab, ylab = ylab, ...): conversion failure on '媛꾪뿉<ec>삩泥<9c> 吏<ec>냽<ec>떆媛꾩뿉 <eb><8c><ed>븳 <ed>엳<ec>뒪<ed>넗洹몃옩 ' in 'mbcsToSbcs': dot substituted for <a8>Warning message:\n",
      "In title(main = main, sub = sub, xlab = xlab, ylab = ylab, ...): conversion failure on '媛꾪뿉<ec>삩泥<9c> 吏<ec>냽<ec>떆媛꾩뿉 <eb><8c><ed>븳 <ed>엳<ec>뒪<ed>넗洹몃옩 ' in 'mbcsToSbcs': dot substituted for <ec>Warning message:\n",
      "In title(main = main, sub = sub, xlab = xlab, ylab = ylab, ...): conversion failure on '媛꾪뿉<ec>삩泥<9c> 吏<ec>냽<ec>떆媛꾩뿉 <eb><8c><ed>븳 <ed>엳<ec>뒪<ed>넗洹몃옩 ' in 'mbcsToSbcs': dot substituted for <b2>Warning message:\n",
      "In title(main = main, sub = sub, xlab = xlab, ylab = ylab, ...): conversion failure on '媛꾪뿉<ec>삩泥<9c> 吏<ec>냽<ec>떆媛꾩뿉 <eb><8c><ed>븳 <ed>엳<ec>뒪<ed>넗洹몃옩 ' in 'mbcsToSbcs': dot substituted for <9c>Warning message:\n",
      "In title(main = main, sub = sub, xlab = xlab, ylab = ylab, ...): conversion failure on '媛꾪뿉<ec>삩泥<9c> 吏<ec>냽<ec>떆媛꾩뿉 <eb><8c><ed>븳 <ed>엳<ec>뒪<ed>넗洹몃옩 ' in 'mbcsToSbcs': dot substituted for <ec>Warning message:\n",
      "In title(main = main, sub = sub, xlab = xlab, ylab = ylab, ...): conversion failure on '媛꾪뿉<ec>삩泥<9c> 吏<ec>냽<ec>떆媛꾩뿉 <eb><8c><ed>븳 <ed>엳<ec>뒪<ed>넗洹몃옩 ' in 'mbcsToSbcs': dot substituted for <a7>Warning message:\n",
      "In title(main = main, sub = sub, xlab = xlab, ylab = ylab, ...): conversion failure on '媛꾪뿉<ec>삩泥<9c> 吏<ec>냽<ec>떆媛꾩뿉 <eb><8c><ed>븳 <ed>엳<ec>뒪<ed>넗洹몃옩 ' in 'mbcsToSbcs': dot substituted for <80>Warning message:\n",
      "In title(main = main, sub = sub, xlab = xlab, ylab = ylab, ...): conversion failure on '媛꾪뿉<ec>삩泥<9c> 吏<ec>냽<ec>떆媛꾩뿉 <eb><8c><ed>븳 <ed>엳<ec>뒪<ed>넗洹몃옩 ' in 'mbcsToSbcs': dot substituted for <ec>Warning message:\n",
      "In title(main = main, sub = sub, xlab = xlab, ylab = ylab, ...): conversion failure on '媛꾪뿉<ec>삩泥<9c> 吏<ec>냽<ec>떆媛꾩뿉 <eb><8c><ed>븳 <ed>엳<ec>뒪<ed>넗洹몃옩 ' in 'mbcsToSbcs': dot substituted for <86>Warning message:\n",
      "In title(main = main, sub = sub, xlab = xlab, ylab = ylab, ...): conversion failure on '媛꾪뿉<ec>삩泥<9c> 吏<ec>냽<ec>떆媛꾩뿉 <eb><8c><ed>븳 <ed>엳<ec>뒪<ed>넗洹몃옩 ' in 'mbcsToSbcs': dot substituted for <8d>Warning message:\n",
      "In title(main = main, sub = sub, xlab = xlab, ylab = ylab, ...): conversion failure on '媛꾪뿉<ec>삩泥<9c> 吏<ec>냽<ec>떆媛꾩뿉 <eb><8c><ed>븳 <ed>엳<ec>뒪<ed>넗洹몃옩 ' in 'mbcsToSbcs': dot substituted for <ec>Warning message:\n",
      "In title(main = main, sub = sub, xlab = xlab, ylab = ylab, ...): conversion failure on '媛꾪뿉<ec>삩泥<9c> 吏<ec>냽<ec>떆媛꾩뿉 <eb><8c><ed>븳 <ed>엳<ec>뒪<ed>넗洹몃옩 ' in 'mbcsToSbcs': dot substituted for <8b>Warning message:\n",
      "In title(main = main, sub = sub, xlab = xlab, ylab = ylab, ...): conversion failure on '媛꾪뿉<ec>삩泥<9c> 吏<ec>냽<ec>떆媛꾩뿉 <eb><8c><ed>븳 <ed>엳<ec>뒪<ed>넗洹몃옩 ' in 'mbcsToSbcs': dot substituted for <9c>Warning message:\n",
      "In title(main = main, sub = sub, xlab = xlab, ylab = ylab, ...): conversion failure on '媛꾪뿉<ec>삩泥<9c> 吏<ec>냽<ec>떆媛꾩뿉 <eb><8c><ed>븳 <ed>엳<ec>뒪<ed>넗洹몃옩 ' in 'mbcsToSbcs': dot substituted for <ea>Warning message:\n",
      "In title(main = main, sub = sub, xlab = xlab, ylab = ylab, ...): conversion failure on '媛꾪뿉<ec>삩泥<9c> 吏<ec>냽<ec>떆媛꾩뿉 <eb><8c><ed>븳 <ed>엳<ec>뒪<ed>넗洹몃옩 ' in 'mbcsToSbcs': dot substituted for <b0>Warning message:\n",
      "In title(main = main, sub = sub, xlab = xlab, ylab = ylab, ...): conversion failure on '媛꾪뿉<ec>삩泥<9c> 吏<ec>냽<ec>떆媛꾩뿉 <eb><8c><ed>븳 <ed>엳<ec>뒪<ed>넗洹몃옩 ' in 'mbcsToSbcs': dot substituted for <84>Warning message:\n",
      "In title(main = main, sub = sub, xlab = xlab, ylab = ylab, ...): conversion failure on '媛꾪뿉<ec>삩泥<9c> 吏<ec>냽<ec>떆媛꾩뿉 <eb><8c><ed>븳 <ed>엳<ec>뒪<ed>넗洹몃옩 ' in 'mbcsToSbcs': dot substituted for <ec>Warning message:\n",
      "In title(main = main, sub = sub, xlab = xlab, ylab = ylab, ...): conversion failure on '媛꾪뿉<ec>삩泥<9c> 吏<ec>냽<ec>떆媛꾩뿉 <eb><8c><ed>븳 <ed>엳<ec>뒪<ed>넗洹몃옩 ' in 'mbcsToSbcs': dot substituted for <97>Warning message:\n",
      "In title(main = main, sub = sub, xlab = xlab, ylab = ylab, ...): conversion failure on '媛꾪뿉<ec>삩泥<9c> 吏<ec>냽<ec>떆媛꾩뿉 <eb><8c><ed>븳 <ed>엳<ec>뒪<ed>넗洹몃옩 ' in 'mbcsToSbcs': dot substituted for <90>Warning message:\n",
      "In title(main = main, sub = sub, xlab = xlab, ylab = ylab, ...): conversion failure on '媛꾪뿉<ec>삩泥<9c> 吏<ec>냽<ec>떆媛꾩뿉 <eb><8c><ed>븳 <ed>엳<ec>뒪<ed>넗洹몃옩 ' in 'mbcsToSbcs': dot substituted for <eb>Warning message:\n",
      "In title(main = main, sub = sub, xlab = xlab, ylab = ylab, ...): conversion failure on '媛꾪뿉<ec>삩泥<9c> 吏<ec>냽<ec>떆媛꾩뿉 <eb><8c><ed>븳 <ed>엳<ec>뒪<ed>넗洹몃옩 ' in 'mbcsToSbcs': dot substituted for <8c>Warning message:\n",
      "In title(main = main, sub = sub, xlab = xlab, ylab = ylab, ...): conversion failure on '媛꾪뿉<ec>삩泥<9c> 吏<ec>냽<ec>떆媛꾩뿉 <eb><8c><ed>븳 <ed>엳<ec>뒪<ed>넗洹몃옩 ' in 'mbcsToSbcs': dot substituted for <80>Warning message:\n",
      "In title(main = main, sub = sub, xlab = xlab, ylab = ylab, ...): conversion failure on '媛꾪뿉<ec>삩泥<9c> 吏<ec>냽<ec>떆媛꾩뿉 <eb><8c><ed>븳 <ed>엳<ec>뒪<ed>넗洹몃옩 ' in 'mbcsToSbcs': dot substituted for <ed>Warning message:\n",
      "In title(main = main, sub = sub, xlab = xlab, ylab = ylab, ...): conversion failure on '媛꾪뿉<ec>삩泥<9c> 吏<ec>냽<ec>떆媛꾩뿉 <eb><8c><ed>븳 <ed>엳<ec>뒪<ed>넗洹몃옩 ' in 'mbcsToSbcs': dot substituted for <95>Warning message:\n",
      "In title(main = main, sub = sub, xlab = xlab, ylab = ylab, ...): conversion failure on '媛꾪뿉<ec>삩泥<9c> 吏<ec>냽<ec>떆媛꾩뿉 <eb><8c><ed>븳 <ed>엳<ec>뒪<ed>넗洹몃옩 ' in 'mbcsToSbcs': dot substituted for <9c>Warning message:\n",
      "In title(main = main, sub = sub, xlab = xlab, ylab = ylab, ...): conversion failure on '媛꾪뿉<ec>삩泥<9c> 吏<ec>냽<ec>떆媛꾩뿉 <eb><8c><ed>븳 <ed>엳<ec>뒪<ed>넗洹몃옩 ' in 'mbcsToSbcs': dot substituted for <ed>Warning message:\n",
      "In title(main = main, sub = sub, xlab = xlab, ylab = ylab, ...): conversion failure on '媛꾪뿉<ec>삩泥<9c> 吏<ec>냽<ec>떆媛꾩뿉 <eb><8c><ed>븳 <ed>엳<ec>뒪<ed>넗洹몃옩 ' in 'mbcsToSbcs': dot substituted for <9e>Warning message:\n",
      "In title(main = main, sub = sub, xlab = xlab, ylab = ylab, ...): conversion failure on '媛꾪뿉<ec>삩泥<9c> 吏<ec>냽<ec>떆媛꾩뿉 <eb><8c><ed>븳 <ed>엳<ec>뒪<ed>넗洹몃옩 ' in 'mbcsToSbcs': dot substituted for <88>Warning message:\n",
      "In title(main = main, sub = sub, xlab = xlab, ylab = ylab, ...): conversion failure on '媛꾪뿉<ec>삩泥<9c> 吏<ec>냽<ec>떆媛꾩뿉 <eb><8c><ed>븳 <ed>엳<ec>뒪<ed>넗洹몃옩 ' in 'mbcsToSbcs': dot substituted for <ec>Warning message:\n",
      "In title(main = main, sub = sub, xlab = xlab, ylab = ylab, ...): conversion failure on '媛꾪뿉<ec>삩泥<9c> 吏<ec>냽<ec>떆媛꾩뿉 <eb><8c><ed>븳 <ed>엳<ec>뒪<ed>넗洹몃옩 ' in 'mbcsToSbcs': dot substituted for <8a>Warning message:\n",
      "In title(main = main, sub = sub, xlab = xlab, ylab = ylab, ...): conversion failure on '媛꾪뿉<ec>삩泥<9c> 吏<ec>냽<ec>떆媛꾩뿉 <eb><8c><ed>븳 <ed>엳<ec>뒪<ed>넗洹몃옩 ' in 'mbcsToSbcs': dot substituted for <a4>Warning message:\n",
      "In title(main = main, sub = sub, xlab = xlab, ylab = ylab, ...): conversion failure on '媛꾪뿉<ec>삩泥<9c> 吏<ec>냽<ec>떆媛꾩뿉 <eb><8c><ed>븳 <ed>엳<ec>뒪<ed>넗洹몃옩 ' in 'mbcsToSbcs': dot substituted for <ed>Warning message:\n",
      "In title(main = main, sub = sub, xlab = xlab, ylab = ylab, ...): conversion failure on '媛꾪뿉<ec>삩泥<9c> 吏<ec>냽<ec>떆媛꾩뿉 <eb><8c><ed>븳 <ed>엳<ec>뒪<ed>넗洹몃옩 ' in 'mbcsToSbcs': dot substituted for <86>Warning message:\n",
      "In title(main = main, sub = sub, xlab = xlab, ylab = ylab, ...): conversion failure on '媛꾪뿉<ec>삩泥<9c> 吏<ec>냽<ec>떆媛꾩뿉 <eb><8c><ed>븳 <ed>엳<ec>뒪<ed>넗洹몃옩 ' in 'mbcsToSbcs': dot substituted for <a0>Warning message:\n",
      "In title(main = main, sub = sub, xlab = xlab, ylab = ylab, ...): conversion failure on '媛꾪뿉<ec>삩泥<9c> 吏<ec>냽<ec>떆媛꾩뿉 <eb><8c><ed>븳 <ed>엳<ec>뒪<ed>넗洹몃옩 ' in 'mbcsToSbcs': dot substituted for <ea>Warning message:\n",
      "In title(main = main, sub = sub, xlab = xlab, ylab = ylab, ...): conversion failure on '媛꾪뿉<ec>삩泥<9c> 吏<ec>냽<ec>떆媛꾩뿉 <eb><8c><ed>븳 <ed>엳<ec>뒪<ed>넗洹몃옩 ' in 'mbcsToSbcs': dot substituted for <b7>Warning message:\n",
      "In title(main = main, sub = sub, xlab = xlab, ylab = ylab, ...): conversion failure on '媛꾪뿉<ec>삩泥<9c> 吏<ec>냽<ec>떆媛꾩뿉 <eb><8c><ed>븳 <ed>엳<ec>뒪<ed>넗洹몃옩 ' in 'mbcsToSbcs': dot substituted for <b8>Warning message:\n",
      "In title(main = main, sub = sub, xlab = xlab, ylab = ylab, ...): conversion failure on '媛꾪뿉<ec>삩泥<9c> 吏<ec>냽<ec>떆媛꾩뿉 <eb><8c><ed>븳 <ed>엳<ec>뒪<ed>넗洹몃옩 ' in 'mbcsToSbcs': dot substituted for <eb>Warning message:\n",
      "In title(main = main, sub = sub, xlab = xlab, ylab = ylab, ...): conversion failure on '媛꾪뿉<ec>삩泥<9c> 吏<ec>냽<ec>떆媛꾩뿉 <eb><8c><ed>븳 <ed>엳<ec>뒪<ed>넗洹몃옩 ' in 'mbcsToSbcs': dot substituted for <9e>Warning message:\n",
      "In title(main = main, sub = sub, xlab = xlab, ylab = ylab, ...): conversion failure on '媛꾪뿉<ec>삩泥<9c> 吏<ec>냽<ec>떆媛꾩뿉 <eb><8c><ed>븳 <ed>엳<ec>뒪<ed>넗洹몃옩 ' in 'mbcsToSbcs': dot substituted for <a8>Warning message:\n",
      "In title(main = main, sub = sub, xlab = xlab, ylab = ylab, ...): conversion failure on '媛꾪뿉<ec>삩泥<9c> 吏<ec>냽<ec>떆媛<84>' in 'mbcsToSbcs': dot substituted for <ea>Warning message:\n",
      "In title(main = main, sub = sub, xlab = xlab, ylab = ylab, ...): conversion failure on '媛꾪뿉<ec>삩泥<9c> 吏<ec>냽<ec>떆媛<84>' in 'mbcsToSbcs': dot substituted for <b0>Warning message:\n",
      "In title(main = main, sub = sub, xlab = xlab, ylab = ylab, ...): conversion failure on '媛꾪뿉<ec>삩泥<9c> 吏<ec>냽<ec>떆媛<84>' in 'mbcsToSbcs': dot substituted for <84>Warning message:\n",
      "In title(main = main, sub = sub, xlab = xlab, ylab = ylab, ...): conversion failure on '媛꾪뿉<ec>삩泥<9c> 吏<ec>냽<ec>떆媛<84>' in 'mbcsToSbcs': dot substituted for <ed>Warning message:\n",
      "In title(main = main, sub = sub, xlab = xlab, ylab = ylab, ...): conversion failure on '媛꾪뿉<ec>삩泥<9c> 吏<ec>냽<ec>떆媛<84>' in 'mbcsToSbcs': dot substituted for <97>Warning message:\n",
      "In title(main = main, sub = sub, xlab = xlab, ylab = ylab, ...): conversion failure on '媛꾪뿉<ec>삩泥<9c> 吏<ec>냽<ec>떆媛<84>' in 'mbcsToSbcs': dot substituted for <90>Warning message:\n",
      "In title(main = main, sub = sub, xlab = xlab, ylab = ylab, ...): conversion failure on '媛꾪뿉<ec>삩泥<9c> 吏<ec>냽<ec>떆媛<84>' in 'mbcsToSbcs': dot substituted for <ec>Warning message:\n",
      "In title(main = main, sub = sub, xlab = xlab, ylab = ylab, ...): conversion failure on '媛꾪뿉<ec>삩泥<9c> 吏<ec>냽<ec>떆媛<84>' in 'mbcsToSbcs': dot substituted for <98>Warning message:\n",
      "In title(main = main, sub = sub, xlab = xlab, ylab = ylab, ...): conversion failure on '媛꾪뿉<ec>삩泥<9c> 吏<ec>냽<ec>떆媛<84>' in 'mbcsToSbcs': dot substituted for <a8>Warning message:\n",
      "In title(main = main, sub = sub, xlab = xlab, ylab = ylab, ...): conversion failure on '媛꾪뿉<ec>삩泥<9c> 吏<ec>냽<ec>떆媛<84>' in 'mbcsToSbcs': dot substituted for <ec>Warning message:\n",
      "In title(main = main, sub = sub, xlab = xlab, ylab = ylab, ...): conversion failure on '媛꾪뿉<ec>삩泥<9c> 吏<ec>냽<ec>떆媛<84>' in 'mbcsToSbcs': dot substituted for <b2>Warning message:\n",
      "In title(main = main, sub = sub, xlab = xlab, ylab = ylab, ...): conversion failure on '媛꾪뿉<ec>삩泥<9c> 吏<ec>냽<ec>떆媛<84>' in 'mbcsToSbcs': dot substituted for <9c>Warning message:\n",
      "In title(main = main, sub = sub, xlab = xlab, ylab = ylab, ...): conversion failure on '媛꾪뿉<ec>삩泥<9c> 吏<ec>냽<ec>떆媛<84>' in 'mbcsToSbcs': dot substituted for <ec>Warning message:\n",
      "In title(main = main, sub = sub, xlab = xlab, ylab = ylab, ...): conversion failure on '媛꾪뿉<ec>삩泥<9c> 吏<ec>냽<ec>떆媛<84>' in 'mbcsToSbcs': dot substituted for <a7>Warning message:\n",
      "In title(main = main, sub = sub, xlab = xlab, ylab = ylab, ...): conversion failure on '媛꾪뿉<ec>삩泥<9c> 吏<ec>냽<ec>떆媛<84>' in 'mbcsToSbcs': dot substituted for <80>Warning message:\n",
      "In title(main = main, sub = sub, xlab = xlab, ylab = ylab, ...): conversion failure on '媛꾪뿉<ec>삩泥<9c> 吏<ec>냽<ec>떆媛<84>' in 'mbcsToSbcs': dot substituted for <ec>Warning message:\n",
      "In title(main = main, sub = sub, xlab = xlab, ylab = ylab, ...): conversion failure on '媛꾪뿉<ec>삩泥<9c> 吏<ec>냽<ec>떆媛<84>' in 'mbcsToSbcs': dot substituted for <86>Warning message:\n",
      "In title(main = main, sub = sub, xlab = xlab, ylab = ylab, ...): conversion failure on '媛꾪뿉<ec>삩泥<9c> 吏<ec>냽<ec>떆媛<84>' in 'mbcsToSbcs': dot substituted for <8d>Warning message:\n",
      "In title(main = main, sub = sub, xlab = xlab, ylab = ylab, ...): conversion failure on '媛꾪뿉<ec>삩泥<9c> 吏<ec>냽<ec>떆媛<84>' in 'mbcsToSbcs': dot substituted for <ec>Warning message:\n",
      "In title(main = main, sub = sub, xlab = xlab, ylab = ylab, ...): conversion failure on '媛꾪뿉<ec>삩泥<9c> 吏<ec>냽<ec>떆媛<84>' in 'mbcsToSbcs': dot substituted for <8b>Warning message:\n",
      "In title(main = main, sub = sub, xlab = xlab, ylab = ylab, ...): conversion failure on '媛꾪뿉<ec>삩泥<9c> 吏<ec>냽<ec>떆媛<84>' in 'mbcsToSbcs': dot substituted for <9c>Warning message:\n",
      "In title(main = main, sub = sub, xlab = xlab, ylab = ylab, ...): conversion failure on '媛꾪뿉<ec>삩泥<9c> 吏<ec>냽<ec>떆媛<84>' in 'mbcsToSbcs': dot substituted for <ea>Warning message:\n",
      "In title(main = main, sub = sub, xlab = xlab, ylab = ylab, ...): conversion failure on '媛꾪뿉<ec>삩泥<9c> 吏<ec>냽<ec>떆媛<84>' in 'mbcsToSbcs': dot substituted for <b0>Warning message:\n",
      "In title(main = main, sub = sub, xlab = xlab, ylab = ylab, ...): conversion failure on '媛꾪뿉<ec>삩泥<9c> 吏<ec>냽<ec>떆媛<84>' in 'mbcsToSbcs': dot substituted for <84>Warning message:\n",
      "In title(main = main, sub = sub, xlab = xlab, ylab = ylab, ...): conversion failure on '媛꾪뿉<ec>삩泥<9c> 吏<ec>냽<ec>떆媛꾩뿉 <eb><8c><ed>븳 <ed>엳<ec>뒪<ed>넗洹몃옩 ' in 'mbcsToSbcs': dot substituted for <ea>Warning message:\n",
      "In title(main = main, sub = sub, xlab = xlab, ylab = ylab, ...): conversion failure on '媛꾪뿉<ec>삩泥<9c> 吏<ec>냽<ec>떆媛꾩뿉 <eb><8c><ed>븳 <ed>엳<ec>뒪<ed>넗洹몃옩 ' in 'mbcsToSbcs': dot substituted for <b0>Warning message:\n",
      "In title(main = main, sub = sub, xlab = xlab, ylab = ylab, ...): conversion failure on '媛꾪뿉<ec>삩泥<9c> 吏<ec>냽<ec>떆媛꾩뿉 <eb><8c><ed>븳 <ed>엳<ec>뒪<ed>넗洹몃옩 ' in 'mbcsToSbcs': dot substituted for <84>Warning message:\n",
      "In title(main = main, sub = sub, xlab = xlab, ylab = ylab, ...): conversion failure on '媛꾪뿉<ec>삩泥<9c> 吏<ec>냽<ec>떆媛꾩뿉 <eb><8c><ed>븳 <ed>엳<ec>뒪<ed>넗洹몃옩 ' in 'mbcsToSbcs': dot substituted for <ed>Warning message:\n",
      "In title(main = main, sub = sub, xlab = xlab, ylab = ylab, ...): conversion failure on '媛꾪뿉<ec>삩泥<9c> 吏<ec>냽<ec>떆媛꾩뿉 <eb><8c><ed>븳 <ed>엳<ec>뒪<ed>넗洹몃옩 ' in 'mbcsToSbcs': dot substituted for <97>Warning message:\n",
      "In title(main = main, sub = sub, xlab = xlab, ylab = ylab, ...): conversion failure on '媛꾪뿉<ec>삩泥<9c> 吏<ec>냽<ec>떆媛꾩뿉 <eb><8c><ed>븳 <ed>엳<ec>뒪<ed>넗洹몃옩 ' in 'mbcsToSbcs': dot substituted for <90>Warning message:\n",
      "In title(main = main, sub = sub, xlab = xlab, ylab = ylab, ...): conversion failure on '媛꾪뿉<ec>삩泥<9c> 吏<ec>냽<ec>떆媛꾩뿉 <eb><8c><ed>븳 <ed>엳<ec>뒪<ed>넗洹몃옩 ' in 'mbcsToSbcs': dot substituted for <ec>Warning message:\n",
      "In title(main = main, sub = sub, xlab = xlab, ylab = ylab, ...): conversion failure on '媛꾪뿉<ec>삩泥<9c> 吏<ec>냽<ec>떆媛꾩뿉 <eb><8c><ed>븳 <ed>엳<ec>뒪<ed>넗洹몃옩 ' in 'mbcsToSbcs': dot substituted for <98>Warning message:\n",
      "In title(main = main, sub = sub, xlab = xlab, ylab = ylab, ...): conversion failure on '媛꾪뿉<ec>삩泥<9c> 吏<ec>냽<ec>떆媛꾩뿉 <eb><8c><ed>븳 <ed>엳<ec>뒪<ed>넗洹몃옩 ' in 'mbcsToSbcs': dot substituted for <a8>Warning message:\n",
      "In title(main = main, sub = sub, xlab = xlab, ylab = ylab, ...): conversion failure on '媛꾪뿉<ec>삩泥<9c> 吏<ec>냽<ec>떆媛꾩뿉 <eb><8c><ed>븳 <ed>엳<ec>뒪<ed>넗洹몃옩 ' in 'mbcsToSbcs': dot substituted for <ec>Warning message:\n",
      "In title(main = main, sub = sub, xlab = xlab, ylab = ylab, ...): conversion failure on '媛꾪뿉<ec>삩泥<9c> 吏<ec>냽<ec>떆媛꾩뿉 <eb><8c><ed>븳 <ed>엳<ec>뒪<ed>넗洹몃옩 ' in 'mbcsToSbcs': dot substituted for <b2>Warning message:\n",
      "In title(main = main, sub = sub, xlab = xlab, ylab = ylab, ...): conversion failure on '媛꾪뿉<ec>삩泥<9c> 吏<ec>냽<ec>떆媛꾩뿉 <eb><8c><ed>븳 <ed>엳<ec>뒪<ed>넗洹몃옩 ' in 'mbcsToSbcs': dot substituted for <9c>Warning message:\n",
      "In title(main = main, sub = sub, xlab = xlab, ylab = ylab, ...): conversion failure on '媛꾪뿉<ec>삩泥<9c> 吏<ec>냽<ec>떆媛꾩뿉 <eb><8c><ed>븳 <ed>엳<ec>뒪<ed>넗洹몃옩 ' in 'mbcsToSbcs': dot substituted for <ec>Warning message:\n",
      "In title(main = main, sub = sub, xlab = xlab, ylab = ylab, ...): conversion failure on '媛꾪뿉<ec>삩泥<9c> 吏<ec>냽<ec>떆媛꾩뿉 <eb><8c><ed>븳 <ed>엳<ec>뒪<ed>넗洹몃옩 ' in 'mbcsToSbcs': dot substituted for <a7>Warning message:\n",
      "In title(main = main, sub = sub, xlab = xlab, ylab = ylab, ...): conversion failure on '媛꾪뿉<ec>삩泥<9c> 吏<ec>냽<ec>떆媛꾩뿉 <eb><8c><ed>븳 <ed>엳<ec>뒪<ed>넗洹몃옩 ' in 'mbcsToSbcs': dot substituted for <80>Warning message:\n",
      "In title(main = main, sub = sub, xlab = xlab, ylab = ylab, ...): conversion failure on '媛꾪뿉<ec>삩泥<9c> 吏<ec>냽<ec>떆媛꾩뿉 <eb><8c><ed>븳 <ed>엳<ec>뒪<ed>넗洹몃옩 ' in 'mbcsToSbcs': dot substituted for <ec>Warning message:\n",
      "In title(main = main, sub = sub, xlab = xlab, ylab = ylab, ...): conversion failure on '媛꾪뿉<ec>삩泥<9c> 吏<ec>냽<ec>떆媛꾩뿉 <eb><8c><ed>븳 <ed>엳<ec>뒪<ed>넗洹몃옩 ' in 'mbcsToSbcs': dot substituted for <86>Warning message:\n",
      "In title(main = main, sub = sub, xlab = xlab, ylab = ylab, ...): conversion failure on '媛꾪뿉<ec>삩泥<9c> 吏<ec>냽<ec>떆媛꾩뿉 <eb><8c><ed>븳 <ed>엳<ec>뒪<ed>넗洹몃옩 ' in 'mbcsToSbcs': dot substituted for <8d>Warning message:\n",
      "In title(main = main, sub = sub, xlab = xlab, ylab = ylab, ...): conversion failure on '媛꾪뿉<ec>삩泥<9c> 吏<ec>냽<ec>떆媛꾩뿉 <eb><8c><ed>븳 <ed>엳<ec>뒪<ed>넗洹몃옩 ' in 'mbcsToSbcs': dot substituted for <ec>Warning message:\n",
      "In title(main = main, sub = sub, xlab = xlab, ylab = ylab, ...): conversion failure on '媛꾪뿉<ec>삩泥<9c> 吏<ec>냽<ec>떆媛꾩뿉 <eb><8c><ed>븳 <ed>엳<ec>뒪<ed>넗洹몃옩 ' in 'mbcsToSbcs': dot substituted for <8b>Warning message:\n",
      "In title(main = main, sub = sub, xlab = xlab, ylab = ylab, ...): conversion failure on '媛꾪뿉<ec>삩泥<9c> 吏<ec>냽<ec>떆媛꾩뿉 <eb><8c><ed>븳 <ed>엳<ec>뒪<ed>넗洹몃옩 ' in 'mbcsToSbcs': dot substituted for <9c>Warning message:\n",
      "In title(main = main, sub = sub, xlab = xlab, ylab = ylab, ...): conversion failure on '媛꾪뿉<ec>삩泥<9c> 吏<ec>냽<ec>떆媛꾩뿉 <eb><8c><ed>븳 <ed>엳<ec>뒪<ed>넗洹몃옩 ' in 'mbcsToSbcs': dot substituted for <ea>Warning message:\n",
      "In title(main = main, sub = sub, xlab = xlab, ylab = ylab, ...): conversion failure on '媛꾪뿉<ec>삩泥<9c> 吏<ec>냽<ec>떆媛꾩뿉 <eb><8c><ed>븳 <ed>엳<ec>뒪<ed>넗洹몃옩 ' in 'mbcsToSbcs': dot substituted for <b0>Warning message:\n",
      "In title(main = main, sub = sub, xlab = xlab, ylab = ylab, ...): conversion failure on '媛꾪뿉<ec>삩泥<9c> 吏<ec>냽<ec>떆媛꾩뿉 <eb><8c><ed>븳 <ed>엳<ec>뒪<ed>넗洹몃옩 ' in 'mbcsToSbcs': dot substituted for <84>Warning message:\n",
      "In title(main = main, sub = sub, xlab = xlab, ylab = ylab, ...): conversion failure on '媛꾪뿉<ec>삩泥<9c> 吏<ec>냽<ec>떆媛꾩뿉 <eb><8c><ed>븳 <ed>엳<ec>뒪<ed>넗洹몃옩 ' in 'mbcsToSbcs': dot substituted for <ec>Warning message:\n",
      "In title(main = main, sub = sub, xlab = xlab, ylab = ylab, ...): conversion failure on '媛꾪뿉<ec>삩泥<9c> 吏<ec>냽<ec>떆媛꾩뿉 <eb><8c><ed>븳 <ed>엳<ec>뒪<ed>넗洹몃옩 ' in 'mbcsToSbcs': dot substituted for <97>Warning message:\n",
      "In title(main = main, sub = sub, xlab = xlab, ylab = ylab, ...): conversion failure on '媛꾪뿉<ec>삩泥<9c> 吏<ec>냽<ec>떆媛꾩뿉 <eb><8c><ed>븳 <ed>엳<ec>뒪<ed>넗洹몃옩 ' in 'mbcsToSbcs': dot substituted for <90>Warning message:\n",
      "In title(main = main, sub = sub, xlab = xlab, ylab = ylab, ...): conversion failure on '媛꾪뿉<ec>삩泥<9c> 吏<ec>냽<ec>떆媛꾩뿉 <eb><8c><ed>븳 <ed>엳<ec>뒪<ed>넗洹몃옩 ' in 'mbcsToSbcs': dot substituted for <eb>Warning message:\n",
      "In title(main = main, sub = sub, xlab = xlab, ylab = ylab, ...): conversion failure on '媛꾪뿉<ec>삩泥<9c> 吏<ec>냽<ec>떆媛꾩뿉 <eb><8c><ed>븳 <ed>엳<ec>뒪<ed>넗洹몃옩 ' in 'mbcsToSbcs': dot substituted for <8c>Warning message:\n",
      "In title(main = main, sub = sub, xlab = xlab, ylab = ylab, ...): conversion failure on '媛꾪뿉<ec>삩泥<9c> 吏<ec>냽<ec>떆媛꾩뿉 <eb><8c><ed>븳 <ed>엳<ec>뒪<ed>넗洹몃옩 ' in 'mbcsToSbcs': dot substituted for <80>Warning message:\n",
      "In title(main = main, sub = sub, xlab = xlab, ylab = ylab, ...): conversion failure on '媛꾪뿉<ec>삩泥<9c> 吏<ec>냽<ec>떆媛꾩뿉 <eb><8c><ed>븳 <ed>엳<ec>뒪<ed>넗洹몃옩 ' in 'mbcsToSbcs': dot substituted for <ed>Warning message:\n",
      "In title(main = main, sub = sub, xlab = xlab, ylab = ylab, ...): conversion failure on '媛꾪뿉<ec>삩泥<9c> 吏<ec>냽<ec>떆媛꾩뿉 <eb><8c><ed>븳 <ed>엳<ec>뒪<ed>넗洹몃옩 ' in 'mbcsToSbcs': dot substituted for <95>Warning message:\n",
      "In title(main = main, sub = sub, xlab = xlab, ylab = ylab, ...): conversion failure on '媛꾪뿉<ec>삩泥<9c> 吏<ec>냽<ec>떆媛꾩뿉 <eb><8c><ed>븳 <ed>엳<ec>뒪<ed>넗洹몃옩 ' in 'mbcsToSbcs': dot substituted for <9c>Warning message:\n",
      "In title(main = main, sub = sub, xlab = xlab, ylab = ylab, ...): conversion failure on '媛꾪뿉<ec>삩泥<9c> 吏<ec>냽<ec>떆媛꾩뿉 <eb><8c><ed>븳 <ed>엳<ec>뒪<ed>넗洹몃옩 ' in 'mbcsToSbcs': dot substituted for <ed>Warning message:\n",
      "In title(main = main, sub = sub, xlab = xlab, ylab = ylab, ...): conversion failure on '媛꾪뿉<ec>삩泥<9c> 吏<ec>냽<ec>떆媛꾩뿉 <eb><8c><ed>븳 <ed>엳<ec>뒪<ed>넗洹몃옩 ' in 'mbcsToSbcs': dot substituted for <9e>Warning message:\n",
      "In title(main = main, sub = sub, xlab = xlab, ylab = ylab, ...): conversion failure on '媛꾪뿉<ec>삩泥<9c> 吏<ec>냽<ec>떆媛꾩뿉 <eb><8c><ed>븳 <ed>엳<ec>뒪<ed>넗洹몃옩 ' in 'mbcsToSbcs': dot substituted for <88>Warning message:\n",
      "In title(main = main, sub = sub, xlab = xlab, ylab = ylab, ...): conversion failure on '媛꾪뿉<ec>삩泥<9c> 吏<ec>냽<ec>떆媛꾩뿉 <eb><8c><ed>븳 <ed>엳<ec>뒪<ed>넗洹몃옩 ' in 'mbcsToSbcs': dot substituted for <ec>Warning message:\n",
      "In title(main = main, sub = sub, xlab = xlab, ylab = ylab, ...): conversion failure on '媛꾪뿉<ec>삩泥<9c> 吏<ec>냽<ec>떆媛꾩뿉 <eb><8c><ed>븳 <ed>엳<ec>뒪<ed>넗洹몃옩 ' in 'mbcsToSbcs': dot substituted for <8a>Warning message:\n",
      "In title(main = main, sub = sub, xlab = xlab, ylab = ylab, ...): conversion failure on '媛꾪뿉<ec>삩泥<9c> 吏<ec>냽<ec>떆媛꾩뿉 <eb><8c><ed>븳 <ed>엳<ec>뒪<ed>넗洹몃옩 ' in 'mbcsToSbcs': dot substituted for <a4>Warning message:\n",
      "In title(main = main, sub = sub, xlab = xlab, ylab = ylab, ...): conversion failure on '媛꾪뿉<ec>삩泥<9c> 吏<ec>냽<ec>떆媛꾩뿉 <eb><8c><ed>븳 <ed>엳<ec>뒪<ed>넗洹몃옩 ' in 'mbcsToSbcs': dot substituted for <ed>Warning message:\n",
      "In title(main = main, sub = sub, xlab = xlab, ylab = ylab, ...): conversion failure on '媛꾪뿉<ec>삩泥<9c> 吏<ec>냽<ec>떆媛꾩뿉 <eb><8c><ed>븳 <ed>엳<ec>뒪<ed>넗洹몃옩 ' in 'mbcsToSbcs': dot substituted for <86>Warning message:\n",
      "In title(main = main, sub = sub, xlab = xlab, ylab = ylab, ...): conversion failure on '媛꾪뿉<ec>삩泥<9c> 吏<ec>냽<ec>떆媛꾩뿉 <eb><8c><ed>븳 <ed>엳<ec>뒪<ed>넗洹몃옩 ' in 'mbcsToSbcs': dot substituted for <a0>Warning message:\n",
      "In title(main = main, sub = sub, xlab = xlab, ylab = ylab, ...): conversion failure on '媛꾪뿉<ec>삩泥<9c> 吏<ec>냽<ec>떆媛꾩뿉 <eb><8c><ed>븳 <ed>엳<ec>뒪<ed>넗洹몃옩 ' in 'mbcsToSbcs': dot substituted for <ea>Warning message:\n",
      "In title(main = main, sub = sub, xlab = xlab, ylab = ylab, ...): conversion failure on '媛꾪뿉<ec>삩泥<9c> 吏<ec>냽<ec>떆媛꾩뿉 <eb><8c><ed>븳 <ed>엳<ec>뒪<ed>넗洹몃옩 ' in 'mbcsToSbcs': dot substituted for <b7>Warning message:\n",
      "In title(main = main, sub = sub, xlab = xlab, ylab = ylab, ...): conversion failure on '媛꾪뿉<ec>삩泥<9c> 吏<ec>냽<ec>떆媛꾩뿉 <eb><8c><ed>븳 <ed>엳<ec>뒪<ed>넗洹몃옩 ' in 'mbcsToSbcs': dot substituted for <b8>Warning message:\n",
      "In title(main = main, sub = sub, xlab = xlab, ylab = ylab, ...): conversion failure on '媛꾪뿉<ec>삩泥<9c> 吏<ec>냽<ec>떆媛꾩뿉 <eb><8c><ed>븳 <ed>엳<ec>뒪<ed>넗洹몃옩 ' in 'mbcsToSbcs': dot substituted for <eb>Warning message:\n",
      "In title(main = main, sub = sub, xlab = xlab, ylab = ylab, ...): conversion failure on '媛꾪뿉<ec>삩泥<9c> 吏<ec>냽<ec>떆媛꾩뿉 <eb><8c><ed>븳 <ed>엳<ec>뒪<ed>넗洹몃옩 ' in 'mbcsToSbcs': dot substituted for <9e>Warning message:\n",
      "In title(main = main, sub = sub, xlab = xlab, ylab = ylab, ...): conversion failure on '媛꾪뿉<ec>삩泥<9c> 吏<ec>냽<ec>떆媛꾩뿉 <eb><8c><ed>븳 <ed>엳<ec>뒪<ed>넗洹몃옩 ' in 'mbcsToSbcs': dot substituted for <a8>Warning message:\n",
      "In title(main = main, sub = sub, xlab = xlab, ylab = ylab, ...): conversion failure on '媛꾪뿉<ec>삩泥<9c> 吏<ec>냽<ec>떆媛<84>' in 'mbcsToSbcs': dot substituted for <ea>Warning message:\n",
      "In title(main = main, sub = sub, xlab = xlab, ylab = ylab, ...): conversion failure on '媛꾪뿉<ec>삩泥<9c> 吏<ec>냽<ec>떆媛<84>' in 'mbcsToSbcs': dot substituted for <b0>Warning message:\n",
      "In title(main = main, sub = sub, xlab = xlab, ylab = ylab, ...): conversion failure on '媛꾪뿉<ec>삩泥<9c> 吏<ec>냽<ec>떆媛<84>' in 'mbcsToSbcs': dot substituted for <84>Warning message:\n",
      "In title(main = main, sub = sub, xlab = xlab, ylab = ylab, ...): conversion failure on '媛꾪뿉<ec>삩泥<9c> 吏<ec>냽<ec>떆媛<84>' in 'mbcsToSbcs': dot substituted for <ed>Warning message:\n",
      "In title(main = main, sub = sub, xlab = xlab, ylab = ylab, ...): conversion failure on '媛꾪뿉<ec>삩泥<9c> 吏<ec>냽<ec>떆媛<84>' in 'mbcsToSbcs': dot substituted for <97>Warning message:\n",
      "In title(main = main, sub = sub, xlab = xlab, ylab = ylab, ...): conversion failure on '媛꾪뿉<ec>삩泥<9c> 吏<ec>냽<ec>떆媛<84>' in 'mbcsToSbcs': dot substituted for <90>Warning message:\n",
      "In title(main = main, sub = sub, xlab = xlab, ylab = ylab, ...): conversion failure on '媛꾪뿉<ec>삩泥<9c> 吏<ec>냽<ec>떆媛<84>' in 'mbcsToSbcs': dot substituted for <ec>Warning message:\n",
      "In title(main = main, sub = sub, xlab = xlab, ylab = ylab, ...): conversion failure on '媛꾪뿉<ec>삩泥<9c> 吏<ec>냽<ec>떆媛<84>' in 'mbcsToSbcs': dot substituted for <98>Warning message:\n",
      "In title(main = main, sub = sub, xlab = xlab, ylab = ylab, ...): conversion failure on '媛꾪뿉<ec>삩泥<9c> 吏<ec>냽<ec>떆媛<84>' in 'mbcsToSbcs': dot substituted for <a8>Warning message:\n",
      "In title(main = main, sub = sub, xlab = xlab, ylab = ylab, ...): conversion failure on '媛꾪뿉<ec>삩泥<9c> 吏<ec>냽<ec>떆媛<84>' in 'mbcsToSbcs': dot substituted for <ec>Warning message:\n",
      "In title(main = main, sub = sub, xlab = xlab, ylab = ylab, ...): conversion failure on '媛꾪뿉<ec>삩泥<9c> 吏<ec>냽<ec>떆媛<84>' in 'mbcsToSbcs': dot substituted for <b2>Warning message:\n",
      "In title(main = main, sub = sub, xlab = xlab, ylab = ylab, ...): conversion failure on '媛꾪뿉<ec>삩泥<9c> 吏<ec>냽<ec>떆媛<84>' in 'mbcsToSbcs': dot substituted for <9c>Warning message:\n",
      "In title(main = main, sub = sub, xlab = xlab, ylab = ylab, ...): conversion failure on '媛꾪뿉<ec>삩泥<9c> 吏<ec>냽<ec>떆媛<84>' in 'mbcsToSbcs': dot substituted for <ec>Warning message:\n",
      "In title(main = main, sub = sub, xlab = xlab, ylab = ylab, ...): conversion failure on '媛꾪뿉<ec>삩泥<9c> 吏<ec>냽<ec>떆媛<84>' in 'mbcsToSbcs': dot substituted for <a7>Warning message:\n",
      "In title(main = main, sub = sub, xlab = xlab, ylab = ylab, ...): conversion failure on '媛꾪뿉<ec>삩泥<9c> 吏<ec>냽<ec>떆媛<84>' in 'mbcsToSbcs': dot substituted for <80>Warning message:\n",
      "In title(main = main, sub = sub, xlab = xlab, ylab = ylab, ...): conversion failure on '媛꾪뿉<ec>삩泥<9c> 吏<ec>냽<ec>떆媛<84>' in 'mbcsToSbcs': dot substituted for <ec>Warning message:\n",
      "In title(main = main, sub = sub, xlab = xlab, ylab = ylab, ...): conversion failure on '媛꾪뿉<ec>삩泥<9c> 吏<ec>냽<ec>떆媛<84>' in 'mbcsToSbcs': dot substituted for <86>Warning message:\n",
      "In title(main = main, sub = sub, xlab = xlab, ylab = ylab, ...): conversion failure on '媛꾪뿉<ec>삩泥<9c> 吏<ec>냽<ec>떆媛<84>' in 'mbcsToSbcs': dot substituted for <8d>Warning message:\n",
      "In title(main = main, sub = sub, xlab = xlab, ylab = ylab, ...): conversion failure on '媛꾪뿉<ec>삩泥<9c> 吏<ec>냽<ec>떆媛<84>' in 'mbcsToSbcs': dot substituted for <ec>Warning message:\n",
      "In title(main = main, sub = sub, xlab = xlab, ylab = ylab, ...): conversion failure on '媛꾪뿉<ec>삩泥<9c> 吏<ec>냽<ec>떆媛<84>' in 'mbcsToSbcs': dot substituted for <8b>Warning message:\n",
      "In title(main = main, sub = sub, xlab = xlab, ylab = ylab, ...): conversion failure on '媛꾪뿉<ec>삩泥<9c> 吏<ec>냽<ec>떆媛<84>' in 'mbcsToSbcs': dot substituted for <9c>Warning message:\n",
      "In title(main = main, sub = sub, xlab = xlab, ylab = ylab, ...): conversion failure on '媛꾪뿉<ec>삩泥<9c> 吏<ec>냽<ec>떆媛<84>' in 'mbcsToSbcs': dot substituted for <ea>Warning message:\n",
      "In title(main = main, sub = sub, xlab = xlab, ylab = ylab, ...): conversion failure on '媛꾪뿉<ec>삩泥<9c> 吏<ec>냽<ec>떆媛<84>' in 'mbcsToSbcs': dot substituted for <b0>Warning message:\n",
      "In title(main = main, sub = sub, xlab = xlab, ylab = ylab, ...): conversion failure on '媛꾪뿉<ec>삩泥<9c> 吏<ec>냽<ec>떆媛<84>' in 'mbcsToSbcs': dot substituted for <84>"
     ]
    },
    {
     "data": {
      "image/png": "[encoded data removed]",
      "text/plain": [
       "Plot with title \"간헐온천 지속시간에 대한 히스토그램 \n",
       " origin: 1.50\""
      ]
     },
     "metadata": {
      "image/svg+xml": {
       "isolated": true
      }
     },
     "output_type": "display_data"
    }
   ],
   "source": [
    "eruption.length=c(4.37,3.87,4.00,4.03,3.50,4.08,2.25,4.70,1.73,4.93,1.73,4.62,3.43,4.25,1.68,3.92,3.68,3.10,4.03,1.77,4.08,1.75,3.20,1.85,4.62,1.97,4.50,3.92,4.35,2.33,3.83,1.88,4.60,1.80,4.73,1.77,4.57,1.85,3.52,4.00,3.70,3.72,4.25,3.58,3.80,3.77,3.75,2.50,4.50,4.10,3.70,3.80,3.43,4.00,2.27,4.40,4.05,4.25,3.33,2.00,4.33,2.93,4.58,1.90,3.58,3.73,3.73,1.82,4.63,3.50,4.00,3.67,1.67,4.60,1.67,4.00,1.80,4.42,1.90,4.63,2.93,3.50,1.97,4.28,1.83,4.13,1.83,4.65,4.20,3.93,4.33,1.83,4.53,2.03,4.18,4.43,4.07,4.13,3.95,4.10,2.72,4.58,1.90,4.50,1.95,4.83,4.12)\n",
    "eruption.length\n",
    "\n",
    "class1 = seq(1.35,5.35, by=0.5)\n",
    "cat.class1=cut(eruption.length, breaks=class1)\n",
    "t1=table(cat.class1)\n",
    "t1\n",
    "\n",
    "class2 = seq(1.5,5.0, by=0.5)\n",
    "cat.class2 <- cut(eruption.length, breaks=class2)\n",
    "t2 = table(cat.class2)\n",
    "t2\n",
    "\n",
    "par(mfrow=c(1,2))\n",
    "hist(eruption.length, breaks=class1, main=\"간헐온천 지속시간에 대한 히스토그램 \\n origin: 1.35\", xlab=\"간헐온천 지속시간\")\n",
    "hist(eruption.length, breaks=class2, main=\"간헐온천 지속시간에 대한 히스토그램 \\n origin: 1.50\", xlab=\"간헐온천 지속시간\")"
   ]
  },
  {
   "cell_type": "code",
   "execution_count": 11,
   "metadata": {
    "collapsed": false
   },
   "outputs": [
    {
     "data": {
      "image/png": "[encoded data removed]",
      "text/plain": [
       "Plot with title \"origin:1.5\""
      ]
     },
     "metadata": {
      "image/svg+xml": {
       "isolated": true
      }
     },
     "output_type": "display_data"
    }
   ],
   "source": [
    "hist.func2=function(n) {\n",
    "    par(mfrow=c(n,2)) \n",
    "    \n",
    "    for(i in 1:n) {\n",
    "        class1=seq(1.35,5.35,by=0.5/(2*i-1)) \n",
    "        class2=seq(1.5,5.0,by=0.5/(2*i-1)) \n",
    "        \n",
    "        hist(eruption.length, breaks=class1, probability=T,main=\"origin:1.35\",xlab=NULL) \n",
    "        hist(eruption.length, breaks=class2, probability=T,main=\"origin:1.5\",xlab=NULL)\n",
    "    }\n",
    "} \n",
    "\n",
    "hist.func2(3) # 도수분포표(계급의 폭: 0.1,0.2,0.3,0.4,0.5) w=c(0.1,0.2,0.3,0.4,0.5) for(i in 1:5) { class1=seq(1.5,5.1,by=w[i]) cat.class1=cut(eruption.length, breaks=class1) table(cat.class1) cat(\"계급의 폭=\", w[i], \"\\n\") print(table(cat.class1)) }\n"
   ]
  },
  {
   "cell_type": "code",
   "execution_count": 49,
   "metadata": {
    "collapsed": false
   },
   "outputs": [
    {
     "name": "stdout",
     "output_type": "stream",
     "text": [
      "rank with : 0.1 \n",
      "cat.class1\n",
      "(1.5,1.6] (1.6,1.7] (1.7,1.8] (1.8,1.9]   (1.9,2]   (2,2.1] (2.1,2.2] (2.2,2.3] \n",
      "        0         3         7        10         4         1         0         2 \n",
      "(2.3,2.4] (2.4,2.5] (2.5,2.6] (2.6,2.7] (2.7,2.8] (2.8,2.9]   (2.9,3]   (3,3.1] \n",
      "        1         1         0         0         1         0         2         1 \n",
      "(3.1,3.2] (3.2,3.3] (3.3,3.4] (3.4,3.5] (3.5,3.6] (3.6,3.7] (3.7,3.8] (3.8,3.9] \n",
      "        1         0         1         5         3         4         7         2 \n",
      "  (3.9,4]   (4,4.1] (4.1,4.2] (4.2,4.3] (4.3,4.4] (4.4,4.5] (4.5,4.6] (4.6,4.7] \n",
      "        9         8         5         4         5         5         6         6 \n",
      "(4.7,4.8] (4.8,4.9]   (4.9,5]   (5,5.1] \n",
      "        1         1         1         0 \n",
      "rank with : 0.2 \n",
      "cat.class1\n",
      "(1.5,1.7] (1.7,1.9] (1.9,2.1] (2.1,2.3] (2.3,2.5] (2.5,2.7] (2.7,2.9] (2.9,3.1] \n",
      "        3        17         5         2         2         0         1         3 \n",
      "(3.1,3.3] (3.3,3.5] (3.5,3.7] (3.7,3.9] (3.9,4.1] (4.1,4.3] (4.3,4.5] (4.5,4.7] \n",
      "        1         6         7         9        17         9        10        12 \n",
      "(4.7,4.9] (4.9,5.1] \n",
      "        2         1 \n",
      "rank with : 0.3 \n",
      "cat.class1\n",
      "(1.5,1.8] (1.8,2.1] (2.1,2.4] (2.4,2.7]   (2.7,3]   (3,3.3] (3.3,3.6] (3.6,3.9] \n",
      "       10        15         3         1         3         2         9        13 \n",
      "(3.9,4.2] (4.2,4.5] (4.5,4.8] (4.8,5.1] \n",
      "       21        15        13         2 \n",
      "rank with : 0.4 \n",
      "cat.class1\n",
      "(1.5,1.9] (1.9,2.3] (2.3,2.7] (2.7,3.1] (3.1,3.5] (3.5,3.9] (3.9,4.3] (4.3,4.7] \n",
      "       20         7         2         4         7        16        26        22 \n",
      "(4.7,5.1] \n",
      "        3 \n",
      "rank with : 0.5 \n",
      "cat.class1\n",
      "(1.5,2] (2,2.5] (2.5,3] (3,3.5] (3.5,4] (4,4.5] (4.5,5] \n",
      "     24       5       3       8      25      27      15 \n"
     ]
    }
   ],
   "source": [
    "\n",
    "w <- c(0.1,0.2, 0.3,0.4,.5)\n",
    "\n",
    "for(i in 1:5)  {\n",
    "    class1 <- seq(1.5, 5.1, by= w[i])\n",
    "    cat.class1 <- cut(eruption.length,breaks=class1)\n",
    "    table(cat.class1)\n",
    "    cat(\"rank with :\",w[i],\"\\n\")\n",
    "    print(table(cat.class1))\n",
    "}"
   ]
  },
  {
   "cell_type": "code",
   "execution_count": 41,
   "metadata": {
    "collapsed": false
   },
   "outputs": [
    {
     "ename": "ERROR",
     "evalue": "Error in runif(n, min, max): 인자가 올바르지 않습니다.\n",
     "output_type": "error",
     "traceback": [
      "Error in runif(n, min, max): 인자가 올바르지 않습니다.\nTraceback:\n",
      "1. runif(n, min, max)"
     ]
    }
   ],
   "source": [
    "#임의수 생성 \n",
    "runif(n, min, max) \n",
    "# 균일분포로부터 난수 생성 자료의 분포 히스토그램 \n",
    "x <- runif(400, -1,1) \n",
    "hist(x)"
   ]
  },
  {
   "cell_type": "code",
   "execution_count": 51,
   "metadata": {
    "collapsed": false
   },
   "outputs": [
    {
     "data": {
      "image/png": "[encoded data removed]",
      "text/plain": [
       "Plot with title \"Histogram of x\""
      ]
     },
     "metadata": {
      "image/svg+xml": {
       "isolated": true
      }
     },
     "output_type": "display_data"
    }
   ],
   "source": [
    "#정규분포로부터의 임의수 생성 \n",
    "# rnorm(n, mean, sd) \n",
    "# 정규분포로부터 난수 생성 자료의 분포 히스토그램 \n",
    "x <- rnorm(400) \n",
    "hist(x)"
   ]
  },
  {
   "cell_type": "code",
   "execution_count": 52,
   "metadata": {
    "collapsed": false
   },
   "outputs": [
    {
     "data": {
      "text/plain": [
       "z\n",
       "  0   1   2   3   4   5   6   7   8   9 \n",
       "  2   5  50 133 211 219 207 119  46   8 "
      ]
     },
     "metadata": {},
     "output_type": "display_data"
    },
    {
     "data": {
      "image/png": "[encoded data removed]",
      "text/plain": [
       "Plot with title \"Histogram of z\""
      ]
     },
     "metadata": {
      "image/svg+xml": {
       "isolated": true
      }
     },
     "output_type": "display_data"
    }
   ],
   "source": [
    "#이항분포로부터의 임의수 생성 \n",
    "# rbinom(n, size,prob) \n",
    "# 이항분포로부터 난수생성 자료의 분포 히스토그램 > \n",
    "z <- rbinom(1000, 10, 0.5) \n",
    "table(z) \n",
    "hist(z)\n"
   ]
  },
  {
   "cell_type": "code",
   "execution_count": 53,
   "metadata": {
    "collapsed": false
   },
   "outputs": [
    {
     "data": {
      "text/plain": [
       "z\n",
       "  0   1   2   3   4   5   6   7   8   9  10  11  12  13  14 \n",
       " 15  31  90 148 193 174 134  96  60  30  17   5   3   2   2 "
      ]
     },
     "metadata": {},
     "output_type": "display_data"
    },
    {
     "data": {
      "image/png": "[encoded data removed]",
      "text/plain": [
       "Plot with title \"Histogram of z\""
      ]
     },
     "metadata": {
      "image/svg+xml": {
       "isolated": true
      }
     },
     "output_type": "display_data"
    }
   ],
   "source": [
    "#포아송분포로부터의 임의수 생성 \n",
    "# rpois(n, lamda) \n",
    "# 포아송분포로부터 난수생성 자료의 분포 히스토그램 > \n",
    "z <- rpois(1000, 5) \n",
    "table(z) \n",
    "hist(z)"
   ]
  },
  {
   "cell_type": "code",
   "execution_count": 56,
   "metadata": {
    "collapsed": false
   },
   "outputs": [
    {
     "name": "stdout",
     "output_type": "stream",
     "text": [
      "'data.frame':\t65 obs. of  1 variable:\n",
      " $ score: int  54 67 55 23 29 58 67 35 51 64 ...\n",
      "\n",
      "  The decimal point is 1 digit(s) to the right of the |\n",
      "\n",
      "  0 | 00\n",
      "  1 | 058\n",
      "  2 | 1333458889\n",
      "  3 | 0355789\n",
      "  4 | 11133456678\n",
      "  5 | 11122233344456688\n",
      "  6 | 147779\n",
      "  7 | 33478\n",
      "  8 | 29\n",
      "  9 | 09\n",
      "\n"
     ]
    },
    {
     "ename": "ERROR",
     "evalue": "Error in stem(scor, scale = 2): 객체 'scor'를 찾을 수 없습니다\n",
     "output_type": "error",
     "traceback": [
      "Error in stem(scor, scale = 2): 객체 'scor'를 찾을 수 없습니다\nTraceback:\n",
      "1. stem(scor, scale = 2)"
     ]
    }
   ],
   "source": [
    "exam <- read.table(\"C://Users//mcm79//R_bio//R_시각화//2-4.txt\",fileEncoding = \"UTF-8\",head=T)\n",
    "str(exam)\n",
    "attach(exam)\n",
    "stem(score)\n",
    "stem(scor, scale=2)"
   ]
  }
 ],
 "metadata": {
  "anaconda-cloud": {},
  "celltoolbar": "Slideshow",
  "kernelspec": {
   "display_name": "R",
   "language": "R",
   "name": "ir"
  },
  "language_info": {
   "codemirror_mode": "r",
   "file_extension": ".r",
   "mimetype": "text/x-r-source",
   "name": "R",
   "pygments_lexer": "r",
   "version": "3.3.1"
  }
 },
 "nbformat": 4,
 "nbformat_minor": 0
}
