{
 "cells": [
  {
   "cell_type": "code",
   "execution_count": 2,
   "metadata": {
    "collapsed": false
   },
   "outputs": [
    {
     "name": "stdout",
     "output_type": "stream",
     "text": [
      "'data.frame':\t27 obs. of  3 variables:\n",
      " $ name  : Factor w/ 27 levels \"경종\",\"고종\",..: 23 20 24 10 6 4 9 16 8 14 ...\n",
      " $ life  : int  73 62 45 53 38 16 51 28 37 30 ...\n",
      " $ period: int  6 2 18 32 2 3 13 1 25 12 ...\n"
     ]
    },
    {
     "name": "stderr",
     "output_type": "stream",
     "text": [
      "The following objects are masked from kings (pos = 3):\n",
      "\n",
      "    life, name, period\n",
      "\n"
     ]
    },
    {
     "data": {
      "image/png": "[encoded data removed]",
      "text/plain": [
       "Plot with title \"Histogram of period\""
      ]
     },
     "metadata": {
      "image/svg+xml": {
       "isolated": true
      }
     },
     "output_type": "display_data"
    }
   ],
   "source": [
    "kings <- read.table(\"chosun_kings\", fileEncoding = \"UTF-8\",head=T)\n",
    "str(kings);\n",
    "attach(kings);\n",
    "\n",
    "\n",
    "#kings\n",
    "\n",
    "hist(period)"
   ]
  },
  {
   "cell_type": "code",
   "execution_count": 2,
   "metadata": {
    "collapsed": false
   },
   "outputs": [
    {
     "name": "stderr",
     "output_type": "stream",
     "text": [
      "Warning message:\n",
      "In title(main = main, sub = sub, xlab = xlab, ylab = ylab, ...): conversion failure on '議곗꽑<ec>솗議<b0>' in 'mbcsToSbcs': dot substituted for <ec>Warning message:\n",
      "In title(main = main, sub = sub, xlab = xlab, ylab = ylab, ...): conversion failure on '議곗꽑<ec>솗議<b0>' in 'mbcsToSbcs': dot substituted for <a1>Warning message:\n",
      "In title(main = main, sub = sub, xlab = xlab, ylab = ylab, ...): conversion failure on '議곗꽑<ec>솗議<b0>' in 'mbcsToSbcs': dot substituted for <b0>Warning message:\n",
      "In title(main = main, sub = sub, xlab = xlab, ylab = ylab, ...): conversion failure on '議곗꽑<ec>솗議<b0>' in 'mbcsToSbcs': dot substituted for <ec>Warning message:\n",
      "In title(main = main, sub = sub, xlab = xlab, ylab = ylab, ...): conversion failure on '議곗꽑<ec>솗議<b0>' in 'mbcsToSbcs': dot substituted for <84>Warning message:\n",
      "In title(main = main, sub = sub, xlab = xlab, ylab = ylab, ...): conversion failure on '議곗꽑<ec>솗議<b0>' in 'mbcsToSbcs': dot substituted for <a0>Warning message:\n",
      "In title(main = main, sub = sub, xlab = xlab, ylab = ylab, ...): conversion failure on '議곗꽑<ec>솗議<b0>' in 'mbcsToSbcs': dot substituted for <ec>Warning message:\n",
      "In title(main = main, sub = sub, xlab = xlab, ylab = ylab, ...): conversion failure on '議곗꽑<ec>솗議<b0>' in 'mbcsToSbcs': dot substituted for <99>Warning message:\n",
      "In title(main = main, sub = sub, xlab = xlab, ylab = ylab, ...): conversion failure on '議곗꽑<ec>솗議<b0>' in 'mbcsToSbcs': dot substituted for <95>Warning message:\n",
      "In title(main = main, sub = sub, xlab = xlab, ylab = ylab, ...): conversion failure on '議곗꽑<ec>솗議<b0>' in 'mbcsToSbcs': dot substituted for <ec>Warning message:\n",
      "In title(main = main, sub = sub, xlab = xlab, ylab = ylab, ...): conversion failure on '議곗꽑<ec>솗議<b0>' in 'mbcsToSbcs': dot substituted for <a1>Warning message:\n",
      "In title(main = main, sub = sub, xlab = xlab, ylab = ylab, ...): conversion failure on '議곗꽑<ec>솗議<b0>' in 'mbcsToSbcs': dot substituted for <b0>Warning message:\n",
      "In title(main = main, sub = sub, xlab = xlab, ylab = ylab, ...): conversion failure on '<ec>옱<ec>쐞湲곌컙(<eb>뀈)' in 'mbcsToSbcs': dot substituted for <ec>Warning message:\n",
      "In title(main = main, sub = sub, xlab = xlab, ylab = ylab, ...): conversion failure on '<ec>옱<ec>쐞湲곌컙(<eb>뀈)' in 'mbcsToSbcs': dot substituted for <9e>Warning message:\n",
      "In title(main = main, sub = sub, xlab = xlab, ylab = ylab, ...): conversion failure on '<ec>옱<ec>쐞湲곌컙(<eb>뀈)' in 'mbcsToSbcs': dot substituted for <ac>Warning message:\n",
      "In title(main = main, sub = sub, xlab = xlab, ylab = ylab, ...): conversion failure on '<ec>옱<ec>쐞湲곌컙(<eb>뀈)' in 'mbcsToSbcs': dot substituted for <ec>Warning message:\n",
      "In title(main = main, sub = sub, xlab = xlab, ylab = ylab, ...): conversion failure on '<ec>옱<ec>쐞湲곌컙(<eb>뀈)' in 'mbcsToSbcs': dot substituted for <9c>Warning message:\n",
      "In title(main = main, sub = sub, xlab = xlab, ylab = ylab, ...): conversion failure on '<ec>옱<ec>쐞湲곌컙(<eb>뀈)' in 'mbcsToSbcs': dot substituted for <84>Warning message:\n",
      "In title(main = main, sub = sub, xlab = xlab, ylab = ylab, ...): conversion failure on '<ec>옱<ec>쐞湲곌컙(<eb>뀈)' in 'mbcsToSbcs': dot substituted for <ea>Warning message:\n",
      "In title(main = main, sub = sub, xlab = xlab, ylab = ylab, ...): conversion failure on '<ec>옱<ec>쐞湲곌컙(<eb>뀈)' in 'mbcsToSbcs': dot substituted for <b8>Warning message:\n",
      "In title(main = main, sub = sub, xlab = xlab, ylab = ylab, ...): conversion failure on '<ec>옱<ec>쐞湲곌컙(<eb>뀈)' in 'mbcsToSbcs': dot substituted for <b0>Warning message:\n",
      "In title(main = main, sub = sub, xlab = xlab, ylab = ylab, ...): conversion failure on '<ec>옱<ec>쐞湲곌컙(<eb>뀈)' in 'mbcsToSbcs': dot substituted for <ea>Warning message:\n",
      "In title(main = main, sub = sub, xlab = xlab, ylab = ylab, ...): conversion failure on '<ec>옱<ec>쐞湲곌컙(<eb>뀈)' in 'mbcsToSbcs': dot substituted for <b0>Warning message:\n",
      "In title(main = main, sub = sub, xlab = xlab, ylab = ylab, ...): conversion failure on '<ec>옱<ec>쐞湲곌컙(<eb>뀈)' in 'mbcsToSbcs': dot substituted for <84>Warning message:\n",
      "In title(main = main, sub = sub, xlab = xlab, ylab = ylab, ...): conversion failure on '<ec>옱<ec>쐞湲곌컙(<eb>뀈)' in 'mbcsToSbcs': dot substituted for <eb>Warning message:\n",
      "In title(main = main, sub = sub, xlab = xlab, ylab = ylab, ...): conversion failure on '<ec>옱<ec>쐞湲곌컙(<eb>뀈)' in 'mbcsToSbcs': dot substituted for <85>Warning message:\n",
      "In title(main = main, sub = sub, xlab = xlab, ylab = ylab, ...): conversion failure on '<ec>옱<ec>쐞湲곌컙(<eb>뀈)' in 'mbcsToSbcs': dot substituted for <84>Warning message:\n",
      "In title(main = main, sub = sub, xlab = xlab, ylab = ylab, ...): conversion failure on '鍮덈룄' in 'mbcsToSbcs': dot substituted for <eb>Warning message:\n",
      "In title(main = main, sub = sub, xlab = xlab, ylab = ylab, ...): conversion failure on '鍮덈룄' in 'mbcsToSbcs': dot substituted for <b9>Warning message:\n",
      "In title(main = main, sub = sub, xlab = xlab, ylab = ylab, ...): conversion failure on '鍮덈룄' in 'mbcsToSbcs': dot substituted for <88>Warning message:\n",
      "In title(main = main, sub = sub, xlab = xlab, ylab = ylab, ...): conversion failure on '鍮덈룄' in 'mbcsToSbcs': dot substituted for <eb>Warning message:\n",
      "In title(main = main, sub = sub, xlab = xlab, ylab = ylab, ...): conversion failure on '鍮덈룄' in 'mbcsToSbcs': dot substituted for <8f>Warning message:\n",
      "In title(main = main, sub = sub, xlab = xlab, ylab = ylab, ...): conversion failure on '鍮덈룄' in 'mbcsToSbcs': dot substituted for <84>"
     ]
    },
    {
     "data": {
      "image/png": "[encoded data removed]",
      "text/plain": [
       "Plot with title \"조선왕조\""
      ]
     },
     "metadata": {
      "image/svg+xml": {
       "isolated": true
      }
     },
     "output_type": "display_data"
    }
   ],
   "source": [
    "hist(period,xlim=c(0,70),ylim=c(0,10),nclass=14 ,right=F    ,main=\"조선왕조\", xlab=\"재위기간(년)\",ylab=\"빈도\")"
   ]
  },
  {
   "cell_type": "code",
   "execution_count": 3,
   "metadata": {
    "collapsed": false
   },
   "outputs": [
    {
     "name": "stderr",
     "output_type": "stream",
     "text": [
      "Warning message:\n",
      "In title(main = main, sub = sub, xlab = xlab, ylab = ylab, ...): conversion failure on '議곗꽑<ec>솗議<b0>' in 'mbcsToSbcs': dot substituted for <ec>Warning message:\n",
      "In title(main = main, sub = sub, xlab = xlab, ylab = ylab, ...): conversion failure on '議곗꽑<ec>솗議<b0>' in 'mbcsToSbcs': dot substituted for <a1>Warning message:\n",
      "In title(main = main, sub = sub, xlab = xlab, ylab = ylab, ...): conversion failure on '議곗꽑<ec>솗議<b0>' in 'mbcsToSbcs': dot substituted for <b0>Warning message:\n",
      "In title(main = main, sub = sub, xlab = xlab, ylab = ylab, ...): conversion failure on '議곗꽑<ec>솗議<b0>' in 'mbcsToSbcs': dot substituted for <ec>Warning message:\n",
      "In title(main = main, sub = sub, xlab = xlab, ylab = ylab, ...): conversion failure on '議곗꽑<ec>솗議<b0>' in 'mbcsToSbcs': dot substituted for <84>Warning message:\n",
      "In title(main = main, sub = sub, xlab = xlab, ylab = ylab, ...): conversion failure on '議곗꽑<ec>솗議<b0>' in 'mbcsToSbcs': dot substituted for <a0>Warning message:\n",
      "In title(main = main, sub = sub, xlab = xlab, ylab = ylab, ...): conversion failure on '議곗꽑<ec>솗議<b0>' in 'mbcsToSbcs': dot substituted for <ec>Warning message:\n",
      "In title(main = main, sub = sub, xlab = xlab, ylab = ylab, ...): conversion failure on '議곗꽑<ec>솗議<b0>' in 'mbcsToSbcs': dot substituted for <99>Warning message:\n",
      "In title(main = main, sub = sub, xlab = xlab, ylab = ylab, ...): conversion failure on '議곗꽑<ec>솗議<b0>' in 'mbcsToSbcs': dot substituted for <95>Warning message:\n",
      "In title(main = main, sub = sub, xlab = xlab, ylab = ylab, ...): conversion failure on '議곗꽑<ec>솗議<b0>' in 'mbcsToSbcs': dot substituted for <ec>Warning message:\n",
      "In title(main = main, sub = sub, xlab = xlab, ylab = ylab, ...): conversion failure on '議곗꽑<ec>솗議<b0>' in 'mbcsToSbcs': dot substituted for <a1>Warning message:\n",
      "In title(main = main, sub = sub, xlab = xlab, ylab = ylab, ...): conversion failure on '議곗꽑<ec>솗議<b0>' in 'mbcsToSbcs': dot substituted for <b0>Warning message:\n",
      "In title(main = main, sub = sub, xlab = xlab, ylab = ylab, ...): conversion failure on '<ec>옱<ec>쐞湲곌컙(<eb>뀈)' in 'mbcsToSbcs': dot substituted for <ec>Warning message:\n",
      "In title(main = main, sub = sub, xlab = xlab, ylab = ylab, ...): conversion failure on '<ec>옱<ec>쐞湲곌컙(<eb>뀈)' in 'mbcsToSbcs': dot substituted for <9e>Warning message:\n",
      "In title(main = main, sub = sub, xlab = xlab, ylab = ylab, ...): conversion failure on '<ec>옱<ec>쐞湲곌컙(<eb>뀈)' in 'mbcsToSbcs': dot substituted for <ac>Warning message:\n",
      "In title(main = main, sub = sub, xlab = xlab, ylab = ylab, ...): conversion failure on '<ec>옱<ec>쐞湲곌컙(<eb>뀈)' in 'mbcsToSbcs': dot substituted for <ec>Warning message:\n",
      "In title(main = main, sub = sub, xlab = xlab, ylab = ylab, ...): conversion failure on '<ec>옱<ec>쐞湲곌컙(<eb>뀈)' in 'mbcsToSbcs': dot substituted for <9c>Warning message:\n",
      "In title(main = main, sub = sub, xlab = xlab, ylab = ylab, ...): conversion failure on '<ec>옱<ec>쐞湲곌컙(<eb>뀈)' in 'mbcsToSbcs': dot substituted for <84>Warning message:\n",
      "In title(main = main, sub = sub, xlab = xlab, ylab = ylab, ...): conversion failure on '<ec>옱<ec>쐞湲곌컙(<eb>뀈)' in 'mbcsToSbcs': dot substituted for <ea>Warning message:\n",
      "In title(main = main, sub = sub, xlab = xlab, ylab = ylab, ...): conversion failure on '<ec>옱<ec>쐞湲곌컙(<eb>뀈)' in 'mbcsToSbcs': dot substituted for <b8>Warning message:\n",
      "In title(main = main, sub = sub, xlab = xlab, ylab = ylab, ...): conversion failure on '<ec>옱<ec>쐞湲곌컙(<eb>뀈)' in 'mbcsToSbcs': dot substituted for <b0>Warning message:\n",
      "In title(main = main, sub = sub, xlab = xlab, ylab = ylab, ...): conversion failure on '<ec>옱<ec>쐞湲곌컙(<eb>뀈)' in 'mbcsToSbcs': dot substituted for <ea>Warning message:\n",
      "In title(main = main, sub = sub, xlab = xlab, ylab = ylab, ...): conversion failure on '<ec>옱<ec>쐞湲곌컙(<eb>뀈)' in 'mbcsToSbcs': dot substituted for <b0>Warning message:\n",
      "In title(main = main, sub = sub, xlab = xlab, ylab = ylab, ...): conversion failure on '<ec>옱<ec>쐞湲곌컙(<eb>뀈)' in 'mbcsToSbcs': dot substituted for <84>Warning message:\n",
      "In title(main = main, sub = sub, xlab = xlab, ylab = ylab, ...): conversion failure on '<ec>옱<ec>쐞湲곌컙(<eb>뀈)' in 'mbcsToSbcs': dot substituted for <eb>Warning message:\n",
      "In title(main = main, sub = sub, xlab = xlab, ylab = ylab, ...): conversion failure on '<ec>옱<ec>쐞湲곌컙(<eb>뀈)' in 'mbcsToSbcs': dot substituted for <85>Warning message:\n",
      "In title(main = main, sub = sub, xlab = xlab, ylab = ylab, ...): conversion failure on '<ec>옱<ec>쐞湲곌컙(<eb>뀈)' in 'mbcsToSbcs': dot substituted for <84>Warning message:\n",
      "In title(main = main, sub = sub, xlab = xlab, ylab = ylab, ...): conversion failure on '鍮덈룄' in 'mbcsToSbcs': dot substituted for <eb>Warning message:\n",
      "In title(main = main, sub = sub, xlab = xlab, ylab = ylab, ...): conversion failure on '鍮덈룄' in 'mbcsToSbcs': dot substituted for <b9>Warning message:\n",
      "In title(main = main, sub = sub, xlab = xlab, ylab = ylab, ...): conversion failure on '鍮덈룄' in 'mbcsToSbcs': dot substituted for <88>Warning message:\n",
      "In title(main = main, sub = sub, xlab = xlab, ylab = ylab, ...): conversion failure on '鍮덈룄' in 'mbcsToSbcs': dot substituted for <eb>Warning message:\n",
      "In title(main = main, sub = sub, xlab = xlab, ylab = ylab, ...): conversion failure on '鍮덈룄' in 'mbcsToSbcs': dot substituted for <8f>Warning message:\n",
      "In title(main = main, sub = sub, xlab = xlab, ylab = ylab, ...): conversion failure on '鍮덈룄' in 'mbcsToSbcs': dot substituted for <84>"
     ]
    },
    {
     "data": {
      "image/png": "[encoded data removed]",
      "text/plain": [
       "Plot with title \"조선왕조\""
      ]
     },
     "metadata": {
      "image/svg+xml": {
       "isolated": true
      }
     },
     "output_type": "display_data"
    }
   ],
   "source": [
    "hist(period,xlim=c(0,70),ylim=c(0,10),nclass=14,right=F, main='조선왕조'\n",
    "                ,xlab=\"재위기간(년)\",ylab=\"빈도\",col=c(rep(\"lightblue\",2),rep(\"royalblue\",6),rep(\"navyblue\",6)))"
   ]
  },
  {
   "cell_type": "code",
   "execution_count": 3,
   "metadata": {
    "collapsed": false
   },
   "outputs": [
    {
     "data": {
      "text/html": [
       "16777216"
      ],
      "text/latex": [
       "16777216"
      ],
      "text/markdown": [
       "16777216"
      ],
      "text/plain": [
       "[1] 16777216"
      ]
     },
     "metadata": {},
     "output_type": "display_data"
    },
    {
     "data": {
      "image/png": "[encoded data removed]",
      "text/plain": [
       "plot without title"
      ]
     },
     "metadata": {
      "image/svg+xml": {
       "isolated": true
      }
     },
     "output_type": "display_data"
    }
   ],
   "source": [
    "color <- c(\"#FF0000\",\"#FFFF00\",\"#00FF00\",\"#00FFFF\",\"#0000FF\",\"#FF00FF\")\n",
    "pie(rep(1,5),col=color, labels=color)\n"
   ]
  },
  {
   "cell_type": "code",
   "execution_count": 5,
   "metadata": {
    "collapsed": false
   },
   "outputs": [
    {
     "name": "stderr",
     "output_type": "stream",
     "text": [
      "Warning message:\n",
      "In par(new = T): 플랏없이 par(new=TRUE)를 호출합니다"
     ]
    },
    {
     "data": {
      "image/png": "[encoded data removed]",
      "text/plain": [
       "plot without title"
      ]
     },
     "metadata": {
      "image/svg+xml": {
       "isolated": true
      }
     },
     "output_type": "display_data"
    }
   ],
   "source": [
    "par(new=T)\n",
    "pie(rep(1,1),col=\"white\",radius=0.5,labels=\"\")"
   ]
  },
  {
   "cell_type": "code",
   "execution_count": 6,
   "metadata": {
    "collapsed": false
   },
   "outputs": [
    {
     "data": {
      "image/png": "[encoded data removed]",
      "text/plain": [
       "Plot with title \"rainbow colors\""
      ]
     },
     "metadata": {
      "image/svg+xml": {
       "isolated": true
      }
     },
     "output_type": "display_data"
    },
    {
     "data": {
      "image/png": "[encoded data removed]",
      "text/plain": [
       "Plot with title \"head colors\""
      ]
     },
     "metadata": {
      "image/svg+xml": {
       "isolated": true
      }
     },
     "output_type": "display_data"
    },
    {
     "data": {
      "image/png": "[encoded data removed]",
      "text/plain": [
       "Plot with title \"terrain colors\""
      ]
     },
     "metadata": {
      "image/svg+xml": {
       "isolated": true
      }
     },
     "output_type": "display_data"
    },
    {
     "data": {
      "image/png": "[encoded data removed]",
      "text/plain": [
       "Plot with title \"topo colors\""
      ]
     },
     "metadata": {
      "image/svg+xml": {
       "isolated": true
      }
     },
     "output_type": "display_data"
    },
    {
     "data": {
      "image/png": "[encoded data removed]",
      "text/plain": [
       "Plot with title \"cyan-magenta colors\""
      ]
     },
     "metadata": {
      "image/svg+xml": {
       "isolated": true
      }
     },
     "output_type": "display_data"
    }
   ],
   "source": [
    "n <- 10\n",
    "barplot(rep(1,n),col=rainbow(n,alpha=1),axes=F,main=\"rainbow colors\")\n",
    "barplot(rep(1,n),col=heat.colors(n,alpha=1),axes=F,main=\"head colors\")\n",
    "barplot(rep(1,n),col=terrain.colors(n,alpha=1),axes=F, main=\"terrain colors\")\n",
    "barplot(rep(1,n),col=topo.colors(n,alpha=1),axes=F,main=\"topo colors\")\n",
    "barplot(rep(1,n),col=cm.colors(n,alpha=1), axes=F, main = \"cyan-magenta colors\")"
   ]
  },
  {
   "cell_type": "code",
   "execution_count": 7,
   "metadata": {
    "collapsed": false
   },
   "outputs": [
    {
     "data": {
      "text/html": [
       "<ol class=list-inline>\n",
       "\t<li>\"#FF0000FF\"</li>\n",
       "\t<li>\"#FFBF00FF\"</li>\n",
       "\t<li>\"#80FF00FF\"</li>\n",
       "\t<li>\"#00FF40FF\"</li>\n",
       "\t<li>\"#00FFFFFF\"</li>\n",
       "\t<li>\"#0040FFFF\"</li>\n",
       "\t<li>\"#8000FFFF\"</li>\n",
       "\t<li>\"#FF00BFFF\"</li>\n",
       "</ol>\n"
      ],
      "text/latex": [
       "\\begin{enumerate*}\n",
       "\\item \"\\#FF0000FF\"\n",
       "\\item \"\\#FFBF00FF\"\n",
       "\\item \"\\#80FF00FF\"\n",
       "\\item \"\\#00FF40FF\"\n",
       "\\item \"\\#00FFFFFF\"\n",
       "\\item \"\\#0040FFFF\"\n",
       "\\item \"\\#8000FFFF\"\n",
       "\\item \"\\#FF00BFFF\"\n",
       "\\end{enumerate*}\n"
      ],
      "text/markdown": [
       "1. \"#FF0000FF\"\n",
       "2. \"#FFBF00FF\"\n",
       "3. \"#80FF00FF\"\n",
       "4. \"#00FF40FF\"\n",
       "5. \"#00FFFFFF\"\n",
       "6. \"#0040FFFF\"\n",
       "7. \"#8000FFFF\"\n",
       "8. \"#FF00BFFF\"\n",
       "\n",
       "\n"
      ],
      "text/plain": [
       "[1] \"#FF0000FF\" \"#FFBF00FF\" \"#80FF00FF\" \"#00FF40FF\" \"#00FFFFFF\" \"#0040FFFF\"\n",
       "[7] \"#8000FFFF\" \"#FF00BFFF\""
      ]
     },
     "metadata": {},
     "output_type": "display_data"
    }
   ],
   "source": [
    "rainbow(8,alpha=1)"
   ]
  },
  {
   "cell_type": "code",
   "execution_count": 8,
   "metadata": {
    "collapsed": false
   },
   "outputs": [
    {
     "data": {
      "image/png": "[encoded data removed]",
      "text/plain": [
       "plot without title"
      ]
     },
     "metadata": {
      "image/svg+xml": {
       "isolated": true
      }
     },
     "output_type": "display_data"
    }
   ],
   "source": [
    "library(RColorBrewer)\n",
    "display.brewer.all(type=\"seq\")"
   ]
  },
  {
   "cell_type": "code",
   "execution_count": 9,
   "metadata": {
    "collapsed": false
   },
   "outputs": [
    {
     "data": {
      "image/png": "[encoded data removed]",
      "text/plain": [
       "Plot with title \"Brewer Reds\""
      ]
     },
     "metadata": {
      "image/svg+xml": {
       "isolated": true
      }
     },
     "output_type": "display_data"
    },
    {
     "data": {
      "image/png": "[encoded data removed]",
      "text/plain": [
       "Plot with title \"Brewer Greens\""
      ]
     },
     "metadata": {
      "image/svg+xml": {
       "isolated": true
      }
     },
     "output_type": "display_data"
    }
   ],
   "source": [
    "barplot(rep(1,9),col=brewer.pal(9,\"Reds\"),axes=F,main=\"Brewer Reds\")\n",
    "barplot(rep(1,9),col=brewer.pal(9,\"Greens\"),axes=F,main=\"Brewer Greens\")"
   ]
  },
  {
   "cell_type": "code",
   "execution_count": 10,
   "metadata": {
    "collapsed": false
   },
   "outputs": [
    {
     "data": {
      "image/png": "[encoded data removed]",
      "text/plain": [
       "plot without title"
      ]
     },
     "metadata": {
      "image/svg+xml": {
       "isolated": true
      }
     },
     "output_type": "display_data"
    },
    {
     "data": {
      "image/png": "[encoded data removed]",
      "text/plain": [
       "plot without title"
      ]
     },
     "metadata": {
      "image/svg+xml": {
       "isolated": true
      }
     },
     "output_type": "display_data"
    }
   ],
   "source": [
    "library(RColorBrewer)\n",
    "display.brewer.all(type=\"div\")\n",
    "x11();\n",
    "display.brewer.all(type=\"qual\")"
   ]
  },
  {
   "cell_type": "code",
   "execution_count": 5,
   "metadata": {
    "collapsed": false
   },
   "outputs": [
    {
     "data": {
      "text/html": [
       "\n",
       "<table width=\"100%\" summary=\"page for plot {graphics}\"><tr><td>plot {graphics}</td><td style=\"text-align: right;\">R Documentation</td></tr></table>\n",
       "\n",
       "<h2>Generic X-Y Plotting</h2>\n",
       "\n",
       "<h3>Description</h3>\n",
       "\n",
       "<p>Generic function for plotting of <span style=\"font-family: Courier New, Courier; color: #666666;\"><b>R</b></span> objects.  For more details about\n",
       "the graphical parameter arguments, see <code>par</code>.\n",
       "</p>\n",
       "<p>For simple scatter plots, <code>plot.default</code> will be used.\n",
       "However, there are <code>plot</code> methods for many <span style=\"font-family: Courier New, Courier; color: #666666;\"><b>R</b></span> objects,\n",
       "including <code>function</code>s, <code>data.frame</code>s,\n",
       "<code>density</code> objects, etc.  Use <code>methods(plot)</code> and\n",
       "the documentation for these.\n",
       "</p>\n",
       "\n",
       "\n",
       "<h3>Usage</h3>\n",
       "\n",
       "<pre>\n",
       "plot(x, y, ...)\n",
       "</pre>\n",
       "\n",
       "\n",
       "<h3>Arguments</h3>\n",
       "\n",
       "<table summary=\"R argblock\">\n",
       "<tr valign=\"top\"><td><code>x</code></td>\n",
       "<td>\n",
       "<p>the coordinates of points in the plot. Alternatively, a\n",
       "single plotting structure, function or <em>any <span style=\"font-family: Courier New, Courier; color: #666666;\"><b>R</b></span> object with a\n",
       "<code>plot</code> method</em> can be provided.</p>\n",
       "</td></tr>\n",
       "<tr valign=\"top\"><td><code>y</code></td>\n",
       "<td>\n",
       "<p>the y coordinates of points in the plot, <em>optional</em>\n",
       "if <code>x</code> is an appropriate structure.</p>\n",
       "</td></tr>\n",
       "<tr valign=\"top\"><td><code>...</code></td>\n",
       "<td>\n",
       "<p>Arguments to be passed to methods, such as\n",
       "graphical parameters (see <code>par</code>).\n",
       "Many methods will accept the following arguments:\n",
       "</p>\n",
       "\n",
       "<dl>\n",
       "<dt><code>type</code></dt><dd><p>what type of plot should be drawn.  Possible types are\n",
       "</p>\n",
       "\n",
       "<ul>\n",
       "<li> <p><code>\"p\"</code> for <b>p</b>oints,\n",
       "</p>\n",
       "</li>\n",
       "<li> <p><code>\"l\"</code> for <b>l</b>ines,\n",
       "</p>\n",
       "</li>\n",
       "<li> <p><code>\"b\"</code> for <b>b</b>oth,\n",
       "</p>\n",
       "</li>\n",
       "<li> <p><code>\"c\"</code> for the lines part alone of <code>\"b\"</code>,\n",
       "</p>\n",
       "</li>\n",
       "<li> <p><code>\"o\"</code> for both &lsquo;<b>o</b>verplotted&rsquo;,\n",
       "</p>\n",
       "</li>\n",
       "<li> <p><code>\"h\"</code> for &lsquo;<b>h</b>istogram&rsquo; like (or\n",
       "&lsquo;high-density&rsquo;) vertical lines,\n",
       "</p>\n",
       "</li>\n",
       "<li> <p><code>\"s\"</code> for stair <b>s</b>teps,\n",
       "</p>\n",
       "</li>\n",
       "<li> <p><code>\"S\"</code> for other <b>s</b>teps, see &lsquo;Details&rsquo; below,\n",
       "</p>\n",
       "</li>\n",
       "<li> <p><code>\"n\"</code> for no plotting.\n",
       "</p>\n",
       "</li></ul>\n",
       "\n",
       "<p>All other <code>type</code>s give a warning or an error; using, e.g.,\n",
       "<code>type = \"punkte\"</code> being equivalent to <code>type = \"p\"</code> for S\n",
       "compatibility.  Note that some methods,\n",
       "e.g. <code>plot.factor</code>, do not accept this.\n",
       "</p>\n",
       "</dd>\n",
       "<dt><code>main</code></dt><dd><p>an overall title for the plot: see <code>title</code>.</p>\n",
       "</dd>\n",
       "<dt><code>sub</code></dt><dd><p>a sub title for the plot: see <code>title</code>.</p>\n",
       "</dd>\n",
       "<dt><code>xlab</code></dt><dd><p>a title for the x axis: see <code>title</code>.</p>\n",
       "</dd>\n",
       "<dt><code>ylab</code></dt><dd><p>a title for the y axis: see <code>title</code>.</p>\n",
       "</dd>\n",
       "<dt><code>asp</code></dt><dd><p>the <i>y/x</i> aspect ratio,\n",
       "see <code>plot.window</code>.</p>\n",
       "</dd>\n",
       "</dl>\n",
       "\n",
       "</td></tr>\n",
       "</table>\n",
       "\n",
       "\n",
       "<h3>Details</h3>\n",
       "\n",
       "<p>The two step types differ in their x-y preference: Going from\n",
       "<i>(x1,y1)</i> to <i>(x2,y2)</i> with <i>x1 &lt; x2</i>, <code>type = \"s\"</code>\n",
       "moves first horizontal, then vertical, whereas <code>type = \"S\"</code> moves\n",
       "the other way around.\n",
       "</p>\n",
       "\n",
       "\n",
       "<h3>See Also</h3>\n",
       "\n",
       "<p><code>plot.default</code>, <code>plot.formula</code> and other\n",
       "methods; <code>points</code>, <code>lines</code>, <code>par</code>.\n",
       "For thousands of points, consider using <code>smoothScatter()</code>\n",
       "instead of <code>plot()</code>.\n",
       "</p>\n",
       "<p>For X-Y-Z plotting see <code>contour</code>, <code>persp</code> and\n",
       "<code>image</code>.\n",
       "</p>\n",
       "\n",
       "\n",
       "<h3>Examples</h3>\n",
       "\n",
       "<pre>\n",
       "require(stats) # for lowess, rpois, rnorm\n",
       "plot(cars)\n",
       "lines(lowess(cars))\n",
       "\n",
       "plot(sin, -pi, 2*pi) # see ?plot.function\n",
       "\n",
       "## Discrete Distribution Plot:\n",
       "plot(table(rpois(100, 5)), type = \"h\", col = \"red\", lwd = 10,\n",
       "     main = \"rpois(100, lambda = 5)\")\n",
       "\n",
       "## Simple quantiles/ECDF, see ecdf() {library(stats)} for a better one:\n",
       "plot(x &lt;- sort(rnorm(47)), type = \"s\", main = \"plot(x, type = \\\"s\\\")\")\n",
       "points(x, cex = .5, col = \"dark red\")\n",
       "</pre>\n",
       "\n",
       "<hr /><div style=\"text-align: center;\">[Package <em>graphics</em> version 3.3.1 ]</div>"
      ],
      "text/latex": [
       "\\inputencoding{utf8}\n",
       "\\HeaderA{plot}{Generic X-Y Plotting}{plot}\n",
       "\\keyword{hplot}{plot}\n",
       "%\n",
       "\\begin{Description}\\relax\n",
       "Generic function for plotting of \\R{} objects.  For more details about\n",
       "the graphical parameter arguments, see \\code{\\LinkA{par}{par}}.\n",
       "\n",
       "For simple scatter plots, \\code{\\LinkA{plot.default}{plot.default}} will be used.\n",
       "However, there are \\code{plot} methods for many \\R{} objects,\n",
       "including \\code{\\LinkA{function}{function}}s, \\code{\\LinkA{data.frame}{data.frame}}s,\n",
       "\\code{\\LinkA{density}{density}} objects, etc.  Use \\code{methods(plot)} and\n",
       "the documentation for these.\n",
       "\\end{Description}\n",
       "%\n",
       "\\begin{Usage}\n",
       "\\begin{verbatim}\n",
       "plot(x, y, ...)\n",
       "\\end{verbatim}\n",
       "\\end{Usage}\n",
       "%\n",
       "\\begin{Arguments}\n",
       "\\begin{ldescription}\n",
       "\\item[\\code{x}] the coordinates of points in the plot. Alternatively, a\n",
       "single plotting structure, function or \\emph{any \\R{} object with a\n",
       "\\code{plot} method} can be provided.\n",
       "\\item[\\code{y}] the y coordinates of points in the plot, \\emph{optional}\n",
       "if \\code{x} is an appropriate structure.\n",
       "\\item[\\code{...}] Arguments to be passed to methods, such as\n",
       "\\LinkA{graphical parameters}{graphical parameters} (see \\code{\\LinkA{par}{par}}).\n",
       "Many methods will accept the following arguments:\n",
       "\\begin{description}\n",
       "\n",
       "\\item[\\code{type}] what type of plot should be drawn.  Possible types are\n",
       "\\begin{itemize}\n",
       "\n",
       "\\item \\code{\"p\"} for \\bold{p}oints,\n",
       "\\item \\code{\"l\"} for \\bold{l}ines,\n",
       "\\item \\code{\"b\"} for \\bold{b}oth,\n",
       "\\item \\code{\"c\"} for the lines part alone of \\code{\"b\"},\n",
       "\\item \\code{\"o\"} for both `\\bold{o}verplotted',\n",
       "\\item \\code{\"h\"} for `\\bold{h}istogram' like (or\n",
       "`high-density') vertical lines,\n",
       "\\item \\code{\"s\"} for stair \\bold{s}teps,\n",
       "\\item \\code{\"S\"} for other \\bold{s}teps, see `Details' below,\n",
       "\\item \\code{\"n\"} for no plotting.\n",
       "\n",
       "\\end{itemize}\n",
       "\n",
       "All other \\code{type}s give a warning or an error; using, e.g.,\n",
       "\\code{type = \"punkte\"} being equivalent to \\code{type = \"p\"} for S\n",
       "compatibility.  Note that some methods,\n",
       "e.g.~\\code{\\LinkA{plot.factor}{plot.factor}}, do not accept this.\n",
       "\n",
       "\\item[\\code{main}] an overall title for the plot: see \\code{\\LinkA{title}{title}}.\n",
       "\\item[\\code{sub}] a sub title for the plot: see \\code{\\LinkA{title}{title}}.\n",
       "\\item[\\code{xlab}] a title for the x axis: see \\code{\\LinkA{title}{title}}.\n",
       "\\item[\\code{ylab}] a title for the y axis: see \\code{\\LinkA{title}{title}}.\n",
       "\\item[\\code{asp}] the \\eqn{y/x}{} aspect ratio,\n",
       "see \\code{\\LinkA{plot.window}{plot.window}}.\n",
       "\n",
       "\\end{description}\n",
       "\n",
       "\n",
       "\\end{ldescription}\n",
       "\\end{Arguments}\n",
       "%\n",
       "\\begin{Details}\\relax\n",
       "The two step types differ in their x-y preference: Going from\n",
       "\\eqn{(x1,y1)}{} to \\eqn{(x2,y2)}{} with \\eqn{x1 < x2}{}, \\code{type = \"s\"}\n",
       "moves first horizontal, then vertical, whereas \\code{type = \"S\"} moves\n",
       "the other way around.\n",
       "\\end{Details}\n",
       "%\n",
       "\\begin{SeeAlso}\\relax\n",
       "\\code{\\LinkA{plot.default}{plot.default}}, \\code{\\LinkA{plot.formula}{plot.formula}} and other\n",
       "methods; \\code{\\LinkA{points}{points}}, \\code{\\LinkA{lines}{lines}}, \\code{\\LinkA{par}{par}}.\n",
       "For thousands of points, consider using \\code{\\LinkA{smoothScatter}{smoothScatter}()}\n",
       "instead of \\code{plot()}.\n",
       "\n",
       "For X-Y-Z plotting see \\code{\\LinkA{contour}{contour}}, \\code{\\LinkA{persp}{persp}} and\n",
       "\\code{\\LinkA{image}{image}}.\n",
       "\\end{SeeAlso}\n",
       "%\n",
       "\\begin{Examples}\n",
       "\\begin{ExampleCode}\n",
       "require(stats) # for lowess, rpois, rnorm\n",
       "plot(cars)\n",
       "lines(lowess(cars))\n",
       "\n",
       "plot(sin, -pi, 2*pi) # see ?plot.function\n",
       "\n",
       "## Discrete Distribution Plot:\n",
       "plot(table(rpois(100, 5)), type = \"h\", col = \"red\", lwd = 10,\n",
       "     main = \"rpois(100, lambda = 5)\")\n",
       "\n",
       "## Simple quantiles/ECDF, see ecdf() {library(stats)} for a better one:\n",
       "plot(x <- sort(rnorm(47)), type = \"s\", main = \"plot(x, type = \\\"s\\\")\")\n",
       "points(x, cex = .5, col = \"dark red\")\n",
       "\\end{ExampleCode}\n",
       "\\end{Examples}"
      ],
      "text/plain": [
       "plot                 package:graphics                  R Documentation\n",
       "\n",
       "_\bG_\be_\bn_\be_\br_\bi_\bc _\bX-_\bY _\bP_\bl_\bo_\bt_\bt_\bi_\bn_\bg\n",
       "\n",
       "_\bD_\be_\bs_\bc_\br_\bi_\bp_\bt_\bi_\bo_\bn:\n",
       "\n",
       "     Generic function for plotting of R objects.  For more details\n",
       "     about the graphical parameter arguments, see 'par'.\n",
       "\n",
       "     For simple scatter plots, 'plot.default' will be used.  However,\n",
       "     there are 'plot' methods for many R objects, including\n",
       "     'function's, 'data.frame's, 'density' objects, etc.  Use\n",
       "     'methods(plot)' and the documentation for these.\n",
       "\n",
       "_\bU_\bs_\ba_\bg_\be:\n",
       "\n",
       "     plot(x, y, ...)\n",
       "     \n",
       "_\bA_\br_\bg_\bu_\bm_\be_\bn_\bt_\bs:\n",
       "\n",
       "       x: the coordinates of points in the plot. Alternatively, a\n",
       "          single plotting structure, function or _any R object with a\n",
       "          'plot' method_ can be provided.\n",
       "\n",
       "       y: the y coordinates of points in the plot, _optional_ if 'x' is\n",
       "          an appropriate structure.\n",
       "\n",
       "     ...: Arguments to be passed to methods, such as graphical\n",
       "          parameters (see 'par').  Many methods will accept the\n",
       "          following arguments:\n",
       "\n",
       "          'type' what type of plot should be drawn.  Possible types are\n",
       "\n",
       "                * '\"p\"' for *p*oints,\n",
       "\n",
       "                * '\"l\"' for *l*ines,\n",
       "\n",
       "                * '\"b\"' for *b*oth,\n",
       "\n",
       "                * '\"c\"' for the lines part alone of '\"b\"',\n",
       "\n",
       "                * '\"o\"' for both '*o*verplotted',\n",
       "\n",
       "                * '\"h\"' for '*h*istogram' like (or 'high-density')\n",
       "                  vertical lines,\n",
       "\n",
       "                * '\"s\"' for stair *s*teps,\n",
       "\n",
       "                * '\"S\"' for other *s*teps, see 'Details' below,\n",
       "\n",
       "                * '\"n\"' for no plotting.\n",
       "\n",
       "              All other 'type's give a warning or an error; using,\n",
       "              e.g., 'type = \"punkte\"' being equivalent to 'type = \"p\"'\n",
       "              for S compatibility.  Note that some methods, e.g.\n",
       "              'plot.factor', do not accept this.\n",
       "\n",
       "          'main' an overall title for the plot: see 'title'.\n",
       "\n",
       "          'sub' a sub title for the plot: see 'title'.\n",
       "\n",
       "          'xlab' a title for the x axis: see 'title'.\n",
       "\n",
       "          'ylab' a title for the y axis: see 'title'.\n",
       "\n",
       "          'asp' the y/x aspect ratio, see 'plot.window'.\n",
       "\n",
       "_\bD_\be_\bt_\ba_\bi_\bl_\bs:\n",
       "\n",
       "     The two step types differ in their x-y preference: Going from\n",
       "     (x1,y1) to (x2,y2) with x1 < x2, 'type = \"s\"' moves first\n",
       "     horizontal, then vertical, whereas 'type = \"S\"' moves the other\n",
       "     way around.\n",
       "\n",
       "_\bS_\be_\be _\bA_\bl_\bs_\bo:\n",
       "\n",
       "     'plot.default', 'plot.formula' and other methods; 'points',\n",
       "     'lines', 'par'.  For thousands of points, consider using\n",
       "     'smoothScatter()' instead of 'plot()'.\n",
       "\n",
       "     For X-Y-Z plotting see 'contour', 'persp' and 'image'.\n",
       "\n",
       "_\bE_\bx_\ba_\bm_\bp_\bl_\be_\bs:\n",
       "\n",
       "     require(stats) # for lowess, rpois, rnorm\n",
       "     plot(cars)\n",
       "     lines(lowess(cars))\n",
       "     \n",
       "     plot(sin, -pi, 2*pi) # see ?plot.function\n",
       "     \n",
       "     ## Discrete Distribution Plot:\n",
       "     plot(table(rpois(100, 5)), type = \"h\", col = \"red\", lwd = 10,\n",
       "          main = \"rpois(100, lambda = 5)\")\n",
       "     \n",
       "     ## Simple quantiles/ECDF, see ecdf() {library(stats)} for a better one:\n",
       "     plot(x <- sort(rnorm(47)), type = \"s\", main = \"plot(x, type = \\\"s\\\")\")\n",
       "     points(x, cex = .5, col = \"dark red\")\n",
       "     "
      ]
     },
     "metadata": {},
     "output_type": "display_data"
    }
   ],
   "source": [
    "help(plot)"
   ]
  },
  {
   "cell_type": "code",
   "execution_count": 6,
   "metadata": {
    "collapsed": false,
    "scrolled": true
   },
   "outputs": [
    {
     "name": "stderr",
     "output_type": "stream",
     "text": [
      "Warning message:\n",
      "In title(...): conversion failure on '議곗꽑<ec>솗議<b0>' in 'mbcsToSbcs': dot substituted for <ec>Warning message:\n",
      "In title(...): conversion failure on '議곗꽑<ec>솗議<b0>' in 'mbcsToSbcs': dot substituted for <a1>Warning message:\n",
      "In title(...): conversion failure on '議곗꽑<ec>솗議<b0>' in 'mbcsToSbcs': dot substituted for <b0>Warning message:\n",
      "In title(...): conversion failure on '議곗꽑<ec>솗議<b0>' in 'mbcsToSbcs': dot substituted for <ec>Warning message:\n",
      "In title(...): conversion failure on '議곗꽑<ec>솗議<b0>' in 'mbcsToSbcs': dot substituted for <84>Warning message:\n",
      "In title(...): conversion failure on '議곗꽑<ec>솗議<b0>' in 'mbcsToSbcs': dot substituted for <a0>Warning message:\n",
      "In title(...): conversion failure on '議곗꽑<ec>솗議<b0>' in 'mbcsToSbcs': dot substituted for <ec>Warning message:\n",
      "In title(...): conversion failure on '議곗꽑<ec>솗議<b0>' in 'mbcsToSbcs': dot substituted for <99>Warning message:\n",
      "In title(...): conversion failure on '議곗꽑<ec>솗議<b0>' in 'mbcsToSbcs': dot substituted for <95>Warning message:\n",
      "In title(...): conversion failure on '議곗꽑<ec>솗議<b0>' in 'mbcsToSbcs': dot substituted for <ec>Warning message:\n",
      "In title(...): conversion failure on '議곗꽑<ec>솗議<b0>' in 'mbcsToSbcs': dot substituted for <a1>Warning message:\n",
      "In title(...): conversion failure on '議곗꽑<ec>솗議<b0>' in 'mbcsToSbcs': dot substituted for <b0>Warning message:\n",
      "In title(...): conversion failure on '<ec>닚<ec>꽌' in 'mbcsToSbcs': dot substituted for <ec>Warning message:\n",
      "In title(...): conversion failure on '<ec>닚<ec>꽌' in 'mbcsToSbcs': dot substituted for <88>Warning message:\n",
      "In title(...): conversion failure on '<ec>닚<ec>꽌' in 'mbcsToSbcs': dot substituted for <9c>Warning message:\n",
      "In title(...): conversion failure on '<ec>닚<ec>꽌' in 'mbcsToSbcs': dot substituted for <ec>Warning message:\n",
      "In title(...): conversion failure on '<ec>닚<ec>꽌' in 'mbcsToSbcs': dot substituted for <84>Warning message:\n",
      "In title(...): conversion failure on '<ec>닚<ec>꽌' in 'mbcsToSbcs': dot substituted for <9c>Warning message:\n",
      "In title(...): conversion failure on '<ec>옱<ec>쐞湲곌컙' in 'mbcsToSbcs': dot substituted for <ec>Warning message:\n",
      "In title(...): conversion failure on '<ec>옱<ec>쐞湲곌컙' in 'mbcsToSbcs': dot substituted for <9e>Warning message:\n",
      "In title(...): conversion failure on '<ec>옱<ec>쐞湲곌컙' in 'mbcsToSbcs': dot substituted for <ac>Warning message:\n",
      "In title(...): conversion failure on '<ec>옱<ec>쐞湲곌컙' in 'mbcsToSbcs': dot substituted for <ec>Warning message:\n",
      "In title(...): conversion failure on '<ec>옱<ec>쐞湲곌컙' in 'mbcsToSbcs': dot substituted for <9c>Warning message:\n",
      "In title(...): conversion failure on '<ec>옱<ec>쐞湲곌컙' in 'mbcsToSbcs': dot substituted for <84>Warning message:\n",
      "In title(...): conversion failure on '<ec>옱<ec>쐞湲곌컙' in 'mbcsToSbcs': dot substituted for <ea>Warning message:\n",
      "In title(...): conversion failure on '<ec>옱<ec>쐞湲곌컙' in 'mbcsToSbcs': dot substituted for <b8>Warning message:\n",
      "In title(...): conversion failure on '<ec>옱<ec>쐞湲곌컙' in 'mbcsToSbcs': dot substituted for <b0>Warning message:\n",
      "In title(...): conversion failure on '<ec>옱<ec>쐞湲곌컙' in 'mbcsToSbcs': dot substituted for <ea>Warning message:\n",
      "In title(...): conversion failure on '<ec>옱<ec>쐞湲곌컙' in 'mbcsToSbcs': dot substituted for <b0>Warning message:\n",
      "In title(...): conversion failure on '<ec>옱<ec>쐞湲곌컙' in 'mbcsToSbcs': dot substituted for <84>"
     ]
    },
    {
     "data": {
      "image/png": "[encoded data removed]",
      "text/plain": [
       "Plot with title \"조선왕조\""
      ]
     },
     "metadata": {
      "image/svg+xml": {
       "isolated": true
      }
     },
     "output_type": "display_data"
    }
   ],
   "source": [
    "#windows(height=4.5,width=7.5)\n",
    "plot(c(0,0),c(28,60),type=\"n\",xlim=c(0,28),ylim=c(-5,65),xlab=\"순서\",ylab=\"재위기간\",main=\"조선왕조\")\n",
    "points(1:27, period, pch=15,col=\"red\")\n",
    "segments(1:27,rep(0,27),1:27,period, lwd=3,col=\"red\")\n",
    "abline(h=c(0,mean(period)),lty=\"dotted\",lwd=1,col=\"blue\")\n",
    "for(i in 1:27)\n",
    "    lines(c(i,i),c(0,period[i]),lwd=3,col=\"blue\")\n",
    "\n"
   ]
  },
  {
   "cell_type": "code",
   "execution_count": 24,
   "metadata": {
    "collapsed": false
   },
   "outputs": [
    {
     "data": {
      "image/png": "[encoded data removed]",
      "text/plain": [
       "Plot with title \"\""
      ]
     },
     "metadata": {
      "image/svg+xml": {
       "isolated": true
      }
     },
     "output_type": "display_data"
    }
   ],
   "source": [
    "plot(c(0,25),c(0,500), type=\"n\",xlab=\"\",ylab=\"\",main=\"\")\n",
    "rect(5,100,10,200,col=\"royalblue\",border=\"royalblue\")\n",
    "rect(20,400,22.5,450,col=\"royalblue\",border=\"royalblue\")\n"
   ]
  },
  {
   "cell_type": "code",
   "execution_count": 7,
   "metadata": {
    "collapsed": false
   },
   "outputs": [
    {
     "data": {
      "text/html": [
       "<ol class=list-inline>\n",
       "\t<li>6</li>\n",
       "\t<li>8</li>\n",
       "\t<li>26</li>\n",
       "\t<li>58</li>\n",
       "\t<li>60</li>\n",
       "\t<li>63</li>\n",
       "\t<li>76</li>\n",
       "\t<li>77</li>\n",
       "\t<li>102</li>\n",
       "\t<li>114</li>\n",
       "\t<li>152</li>\n",
       "\t<li>164</li>\n",
       "\t<li>186</li>\n",
       "\t<li>227</li>\n",
       "\t<li>242</li>\n",
       "\t<li>268</li>\n",
       "\t<li>278</li>\n",
       "\t<li>293</li>\n",
       "\t<li>339</li>\n",
       "\t<li>343</li>\n",
       "\t<li>395</li>\n",
       "\t<li>419</li>\n",
       "\t<li>443</li>\n",
       "\t<li>458</li>\n",
       "\t<li>472</li>\n",
       "\t<li>516</li>\n",
       "\t<li>519</li>\n",
       "</ol>\n"
      ],
      "text/latex": [
       "\\begin{enumerate*}\n",
       "\\item 6\n",
       "\\item 8\n",
       "\\item 26\n",
       "\\item 58\n",
       "\\item 60\n",
       "\\item 63\n",
       "\\item 76\n",
       "\\item 77\n",
       "\\item 102\n",
       "\\item 114\n",
       "\\item 152\n",
       "\\item 164\n",
       "\\item 186\n",
       "\\item 227\n",
       "\\item 242\n",
       "\\item 268\n",
       "\\item 278\n",
       "\\item 293\n",
       "\\item 339\n",
       "\\item 343\n",
       "\\item 395\n",
       "\\item 419\n",
       "\\item 443\n",
       "\\item 458\n",
       "\\item 472\n",
       "\\item 516\n",
       "\\item 519\n",
       "\\end{enumerate*}\n"
      ],
      "text/markdown": [
       "1. 6\n",
       "2. 8\n",
       "3. 26\n",
       "4. 58\n",
       "5. 60\n",
       "6. 63\n",
       "7. 76\n",
       "8. 77\n",
       "9. 102\n",
       "10. 114\n",
       "11. 152\n",
       "12. 164\n",
       "13. 186\n",
       "14. 227\n",
       "15. 242\n",
       "16. 268\n",
       "17. 278\n",
       "18. 293\n",
       "19. 339\n",
       "20. 343\n",
       "21. 395\n",
       "22. 419\n",
       "23. 443\n",
       "24. 458\n",
       "25. 472\n",
       "26. 516\n",
       "27. 519\n",
       "\n",
       "\n"
      ],
      "text/plain": [
       " [1]   6   8  26  58  60  63  76  77 102 114 152 164 186 227 242 268 278 293 339\n",
       "[20] 343 395 419 443 458 472 516 519"
      ]
     },
     "metadata": {},
     "output_type": "display_data"
    }
   ],
   "source": [
    "cumsum(period)"
   ]
  },
  {
   "cell_type": "code",
   "execution_count": 25,
   "metadata": {
    "collapsed": false
   },
   "outputs": [
    {
     "name": "stderr",
     "output_type": "stream",
     "text": [
      "Warning message:\n",
      "In title(...): conversion failure on '議곗꽑<ec>솗議<b0>' in 'mbcsToSbcs': dot substituted for <ec>Warning message:\n",
      "In title(...): conversion failure on '議곗꽑<ec>솗議<b0>' in 'mbcsToSbcs': dot substituted for <a1>Warning message:\n",
      "In title(...): conversion failure on '議곗꽑<ec>솗議<b0>' in 'mbcsToSbcs': dot substituted for <b0>Warning message:\n",
      "In title(...): conversion failure on '議곗꽑<ec>솗議<b0>' in 'mbcsToSbcs': dot substituted for <ec>Warning message:\n",
      "In title(...): conversion failure on '議곗꽑<ec>솗議<b0>' in 'mbcsToSbcs': dot substituted for <84>Warning message:\n",
      "In title(...): conversion failure on '議곗꽑<ec>솗議<b0>' in 'mbcsToSbcs': dot substituted for <a0>Warning message:\n",
      "In title(...): conversion failure on '議곗꽑<ec>솗議<b0>' in 'mbcsToSbcs': dot substituted for <ec>Warning message:\n",
      "In title(...): conversion failure on '議곗꽑<ec>솗議<b0>' in 'mbcsToSbcs': dot substituted for <99>Warning message:\n",
      "In title(...): conversion failure on '議곗꽑<ec>솗議<b0>' in 'mbcsToSbcs': dot substituted for <95>Warning message:\n",
      "In title(...): conversion failure on '議곗꽑<ec>솗議<b0>' in 'mbcsToSbcs': dot substituted for <ec>Warning message:\n",
      "In title(...): conversion failure on '議곗꽑<ec>솗議<b0>' in 'mbcsToSbcs': dot substituted for <a1>Warning message:\n",
      "In title(...): conversion failure on '議곗꽑<ec>솗議<b0>' in 'mbcsToSbcs': dot substituted for <b0>Warning message:\n",
      "In title(...): conversion failure on '議곗꽑<ec>솗議<b0>' in 'mbcsToSbcs': dot substituted for <ec>Warning message:\n",
      "In title(...): conversion failure on '議곗꽑<ec>솗議<b0>' in 'mbcsToSbcs': dot substituted for <a1>Warning message:\n",
      "In title(...): conversion failure on '議곗꽑<ec>솗議<b0>' in 'mbcsToSbcs': dot substituted for <b0>Warning message:\n",
      "In title(...): conversion failure on '議곗꽑<ec>솗議<b0>' in 'mbcsToSbcs': dot substituted for <ec>Warning message:\n",
      "In title(...): conversion failure on '議곗꽑<ec>솗議<b0>' in 'mbcsToSbcs': dot substituted for <84>Warning message:\n",
      "In title(...): conversion failure on '議곗꽑<ec>솗議<b0>' in 'mbcsToSbcs': dot substituted for <a0>Warning message:\n",
      "In title(...): conversion failure on '議곗꽑<ec>솗議<b0>' in 'mbcsToSbcs': dot substituted for <ec>Warning message:\n",
      "In title(...): conversion failure on '議곗꽑<ec>솗議<b0>' in 'mbcsToSbcs': dot substituted for <99>Warning message:\n",
      "In title(...): conversion failure on '議곗꽑<ec>솗議<b0>' in 'mbcsToSbcs': dot substituted for <95>Warning message:\n",
      "In title(...): conversion failure on '議곗꽑<ec>솗議<b0>' in 'mbcsToSbcs': dot substituted for <ec>Warning message:\n",
      "In title(...): conversion failure on '議곗꽑<ec>솗議<b0>' in 'mbcsToSbcs': dot substituted for <a1>Warning message:\n",
      "In title(...): conversion failure on '議곗꽑<ec>솗議<b0>' in 'mbcsToSbcs': dot substituted for <b0>Warning message:\n",
      "In title(...): conversion failure on '<ec>닚<ec>꽌' in 'mbcsToSbcs': dot substituted for <ec>Warning message:\n",
      "In title(...): conversion failure on '<ec>닚<ec>꽌' in 'mbcsToSbcs': dot substituted for <88>Warning message:\n",
      "In title(...): conversion failure on '<ec>닚<ec>꽌' in 'mbcsToSbcs': dot substituted for <9c>Warning message:\n",
      "In title(...): conversion failure on '<ec>닚<ec>꽌' in 'mbcsToSbcs': dot substituted for <ec>Warning message:\n",
      "In title(...): conversion failure on '<ec>닚<ec>꽌' in 'mbcsToSbcs': dot substituted for <84>Warning message:\n",
      "In title(...): conversion failure on '<ec>닚<ec>꽌' in 'mbcsToSbcs': dot substituted for <9c>Warning message:\n",
      "In title(...): conversion failure on '<ec>닚<ec>꽌' in 'mbcsToSbcs': dot substituted for <ec>Warning message:\n",
      "In title(...): conversion failure on '<ec>닚<ec>꽌' in 'mbcsToSbcs': dot substituted for <88>Warning message:\n",
      "In title(...): conversion failure on '<ec>닚<ec>꽌' in 'mbcsToSbcs': dot substituted for <9c>Warning message:\n",
      "In title(...): conversion failure on '<ec>닚<ec>꽌' in 'mbcsToSbcs': dot substituted for <ec>Warning message:\n",
      "In title(...): conversion failure on '<ec>닚<ec>꽌' in 'mbcsToSbcs': dot substituted for <84>Warning message:\n",
      "In title(...): conversion failure on '<ec>닚<ec>꽌' in 'mbcsToSbcs': dot substituted for <9c>Warning message:\n",
      "In title(...): conversion failure on '<eb>늻<ec>쟻<ec>뿰<ec>닔' in 'mbcsToSbcs': dot substituted for <eb>Warning message:\n",
      "In title(...): conversion failure on '<eb>늻<ec>쟻<ec>뿰<ec>닔' in 'mbcsToSbcs': dot substituted for <88>Warning message:\n",
      "In title(...): conversion failure on '<eb>늻<ec>쟻<ec>뿰<ec>닔' in 'mbcsToSbcs': dot substituted for <84>Warning message:\n",
      "In title(...): conversion failure on '<eb>늻<ec>쟻<ec>뿰<ec>닔' in 'mbcsToSbcs': dot substituted for <ec>Warning message:\n",
      "In title(...): conversion failure on '<eb>늻<ec>쟻<ec>뿰<ec>닔' in 'mbcsToSbcs': dot substituted for <a0>Warning message:\n",
      "In title(...): conversion failure on '<eb>늻<ec>쟻<ec>뿰<ec>닔' in 'mbcsToSbcs': dot substituted for <81>Warning message:\n",
      "In title(...): conversion failure on '<eb>늻<ec>쟻<ec>뿰<ec>닔' in 'mbcsToSbcs': dot substituted for <ec>Warning message:\n",
      "In title(...): conversion failure on '<eb>늻<ec>쟻<ec>뿰<ec>닔' in 'mbcsToSbcs': dot substituted for <97>Warning message:\n",
      "In title(...): conversion failure on '<eb>늻<ec>쟻<ec>뿰<ec>닔' in 'mbcsToSbcs': dot substituted for <b0>Warning message:\n",
      "In title(...): conversion failure on '<eb>늻<ec>쟻<ec>뿰<ec>닔' in 'mbcsToSbcs': dot substituted for <ec>Warning message:\n",
      "In title(...): conversion failure on '<eb>늻<ec>쟻<ec>뿰<ec>닔' in 'mbcsToSbcs': dot substituted for <88>Warning message:\n",
      "In title(...): conversion failure on '<eb>늻<ec>쟻<ec>뿰<ec>닔' in 'mbcsToSbcs': dot substituted for <98>Warning message:\n",
      "In title(...): conversion failure on '<eb>늻<ec>쟻<ec>뿰<ec>닔' in 'mbcsToSbcs': dot substituted for <eb>Warning message:\n",
      "In title(...): conversion failure on '<eb>늻<ec>쟻<ec>뿰<ec>닔' in 'mbcsToSbcs': dot substituted for <88>Warning message:\n",
      "In title(...): conversion failure on '<eb>늻<ec>쟻<ec>뿰<ec>닔' in 'mbcsToSbcs': dot substituted for <84>Warning message:\n",
      "In title(...): conversion failure on '<eb>늻<ec>쟻<ec>뿰<ec>닔' in 'mbcsToSbcs': dot substituted for <ec>Warning message:\n",
      "In title(...): conversion failure on '<eb>늻<ec>쟻<ec>뿰<ec>닔' in 'mbcsToSbcs': dot substituted for <a0>Warning message:\n",
      "In title(...): conversion failure on '<eb>늻<ec>쟻<ec>뿰<ec>닔' in 'mbcsToSbcs': dot substituted for <81>Warning message:\n",
      "In title(...): conversion failure on '<eb>늻<ec>쟻<ec>뿰<ec>닔' in 'mbcsToSbcs': dot substituted for <ec>Warning message:\n",
      "In title(...): conversion failure on '<eb>늻<ec>쟻<ec>뿰<ec>닔' in 'mbcsToSbcs': dot substituted for <97>Warning message:\n",
      "In title(...): conversion failure on '<eb>늻<ec>쟻<ec>뿰<ec>닔' in 'mbcsToSbcs': dot substituted for <b0>Warning message:\n",
      "In title(...): conversion failure on '<eb>늻<ec>쟻<ec>뿰<ec>닔' in 'mbcsToSbcs': dot substituted for <ec>Warning message:\n",
      "In title(...): conversion failure on '<eb>늻<ec>쟻<ec>뿰<ec>닔' in 'mbcsToSbcs': dot substituted for <88>Warning message:\n",
      "In title(...): conversion failure on '<eb>늻<ec>쟻<ec>뿰<ec>닔' in 'mbcsToSbcs': dot substituted for <98>"
     ]
    },
    {
     "data": {
      "image/png": "[encoded data removed]",
      "text/plain": [
       "Plot with title \"조선왕조\""
      ]
     },
     "metadata": {
      "image/svg+xml": {
       "isolated": true
      }
     },
     "output_type": "display_data"
    }
   ],
   "source": [
    "p <- cumsum(period)\n",
    "plot(1:27,p,type=\"n\",xlab=\"순서\",ylab=\"누적연수\",main=\"조선왕조\")\n",
    "rect(0,0,1,p[1], col=\"royalblue\",border=\"royalblue\")\n",
    "\n",
    "for(i in 2:27)\n",
    "    rect(i-1,p[i-1],i,p[i],col=\"royalblue\",border=\"royalblue\")\n",
    "\n",
    "segments(0,0,27,518,lty=\"dotted\")"
   ]
  }
 ],
 "metadata": {
  "anaconda-cloud": {},
  "kernelspec": {
   "display_name": "R",
   "language": "R",
   "name": "ir"
  },
  "language_info": {
   "codemirror_mode": "r",
   "file_extension": ".r",
   "mimetype": "text/x-r-source",
   "name": "R",
   "pygments_lexer": "r",
   "version": "3.3.1"
  }
 },
 "nbformat": 4,
 "nbformat_minor": 0
}
