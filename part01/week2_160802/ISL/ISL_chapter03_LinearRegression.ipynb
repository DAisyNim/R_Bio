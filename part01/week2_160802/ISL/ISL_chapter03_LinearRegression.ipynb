{
 "cells": [
  {
   "cell_type": "markdown",
   "metadata": {},
   "source": [
    "# 3장 Linear Regression"
   ]
  },
  {
   "cell_type": "markdown",
   "metadata": {},
   "source": [
    "- 선형회귀는 매우 단순한 지도학습임.\n",
    "- 양적 반응변수( Y가 숫자 )를 예측하는 유용한 도구\n",
    "- 선형회귀에 대한 기본 개념과 최소제곱법에 알아봄."
   ]
  },
  {
   "cell_type": "markdown",
   "metadata": {
    "collapsed": true
   },
   "source": [
    "\n",
    "\n",
    "아래 2장에서 보았던, Advertising data 임\n",
    "\n",
    "우리가 통계 컨설턴트로서 이 데이터를 기반으로 다음년도의 마켓팅에 제안을 한다고 가정하자.\n",
    "![](chapter03_01.jpg)\n",
    "\n",
    "여기서 우리는 몇가지 중요한 질문을 할 수 있음\n",
    "1. 광고예산과 매출과의 관계는 있는가?\n",
    "    - 광고집행과 매출사이의 연관성에 대한 증거를 이 데이터가 확인할 수 있는지.\n",
    "    - 만약, 증거가 약하면, 광고에 쓸데없는 돈을 투자하게 됨.\n",
    "\n",
    "2. 광고예산과 매출과의 관계는 얼마나 강력한가 ?\n",
    "    - 광고와 메출과의 관계가 있다고 가정하고, 이 관계의 세기를 우리는 알고 싶음.\n",
    "    - 얼마큼의 광고예산이 주어지면, 우리는 매우 높은 정확도로 매출을 예측할 수 있는가?\n",
    "\n",
    "3. 매체별 매출 기여도는 얼마인가?\n",
    "    - 3개의 매체( TV, radio, 신문)의 매출 기여 또는 1개 또 2개의 매체의 기여도는 ?\n",
    "\n",
    "4. 매출에 대한 각각의 매체의 효과를 얼마큼 정확히 측정할 수 있는가?\n",
    "    - 광고에  12 달러를 썼을때, 매체별 매출 증가량을 얼마이고, 얼마큼 정확히 예측할 할 수 있는가 ?\n",
    "\n",
    "5. 우리는 미래 매출을 얼마큼 정확히 예측할 수 있는가?\n",
    "\n",
    "6. 선형관계는 있는가?\n",
    "\n",
    "7. 광고 매체간의 시너지가 있는지?\n",
    "    - TV에 5만달러, Radio에 5만달러를 했을때와 한쪽에만 10만달러를 광고했을때와 더 매출이 증가하는가 ?"
   ]
  },
  {
   "cell_type": "markdown",
   "metadata": {},
   "source": [
    "## 3.1 Simple Linear Regression\n",
    "\n",
    "- 예측변수 X을 가지고, 반응변수 Y를 예측하는 방법 \n",
    "- \\\\( Y ≈ β_0 + β_1X  \\\\) \n",
    "- “≈” as “is approximately modeled as”.\n",
    "\n",
    "![](chapter03_02.jpg)\n",
    "\n",
    "- X가 TV 광고액, Y가 판매라면, \n",
    "- \\\\( sales ≈ β_0 + β_1 × TV \\\\) 라고 표현함.\n",
    "- \\\\( β_0 를 intercept 라고 β_1 을 slop 이라고 함. \\\\)\n",
    "    - 이 둘을 model의 coefficients(계수) 또는  parameters 라고 함.\n",
    "- 실제의 \\\\(  β_0 와   β_1  \\\\) 값을 우리는 모르는 값이고, 주어진 데이터를 통해서 추정한 값을 \\\\(  \\hat{β_0}  과  \\hat{β_1} \\\\) 표시하고, beta hat 이라고 읽음"
   ]
  },
  {
   "cell_type": "markdown",
   "metadata": {},
   "source": [
    "### 3.1.1 Estimating the Coefficients\n",
    "\n",
    "- 관찰된 \\\\( (x_1, y_1), (x_2, y_2), . . . , (x_n, y_n) \\\\) 들을 통해서 coefficients을 추정할 수 있음.\n",
    "\n",
    "![](chapter03_03.jpg)\n",
    "\n",
    "-  X의 i번째 값으로 Y값을 예측하기 위해서는 수식을 \\\\(  \\hat{y_i} = \\hat{β_0} + \\hat{β_1}x_i \\\\) 이라고 하자.\n",
    "- 실제값과 예측된 Y과의 차이를 i번째 residual(잔차) 이라고 하고,  \\\\(  e_i = y_i − \\hat{y_i} \\\\) 라고 수식으로 표현함.\n",
    "- residual sum of squares(RSS, 잔차 제곱합)을 아래와 같이 정의할 수 있음.\n",
    "\n",
    "![](chapter03_04.jpg)\n",
    "\n",
    "- 잔차를 최소로 하는 계수를 구하는 방법으로 최소제곱법 또는 최대가능도방법을 사용하고, \n",
    "- 최소제곱법으로 구하는 방법은 아래를 참조함.\n",
    "\n",
    "- http://www.aistudy.co.kr/math/regression_lee.htm#_bookmark_29e7548  \n",
    "\n",
    "![](chapter03_05.jpg)\n",
    "\n",
    "- 위의 광고 데이터로부터 \\\\(  \\hat{β_0} = 7.03 과  \\hat{β_1} = 0.0475  \\\\) 을 구할 수 있음.\n",
    "\n",
    "![](chapter03_06.jpg)"
   ]
  },
  {
   "cell_type": "markdown",
   "metadata": {},
   "source": [
    "### 3.1.2 Assessing the Accuracy of the Coefficient Estimates\n",
    "\n",
    "- X와 Y의 관계를 아래와 같이 표기함.\n",
    "- \\\\( Y = β_0 + β_1X + \\epsilon  \\\\)\n",
    "- \\\\( β_0 \\\\)은 절편으로 X = 0일때, Y의 기대값\n",
    "- \\\\( β_1X \\\\)는 기울기로 X가 한단위 증가할때, Y가 증가하는 평균값\n",
    "- \\\\(  \\epsilon  \\\\)는 에러로 평균 0인 램덤한 값\n",
    "\n",
    "\n",
    "- 통계에서는 다루는 값들은 데이터로 sample임. \n",
    "- 모집단(전체집단)의 모평균과 모분산은 우리는 알 수가 없음.\n",
    "- 모집단의 평균과 분산은 sample 데이터로부터 구한 추정값(평균과 분산)을 유추가 가능함. \n",
    "\n",
    "\n",
    "- \\\\( \\hat{β_0} 과 \\hat{β_1} \\\\)의 standard error( 표준오차)는 아래와 같이 계산할 수 있음.\n",
    "\n",
    "![](chapter03_07.jpg)\n",
    "\n",
    "\n",
    "- Standard error의 신뢰구간( confidence intervals )을 구할 수 있음.\n",
    "- 95% 신뢰구간은 95% 확률에 해당하는 값의 범위를 의미함\n",
    "\n",
    "![](chapter03_08.jpg)\n",
    "![](chapter03_09.jpg)\n",
    "\n",
    "- *** 위의 식은 어떤 값의 신뢰구간인가 ??????????? ***\n",
    "\n",
    "![](chapter03_10.jpg)\n",
    "- 신뢰구간으로는 계수의 얼마큼 유의미한지 알 수가 없으면, 하나의 값으로 유의미한지를 알수 있도록 p-value을 구해줌."
   ]
  },
  {
   "cell_type": "markdown",
   "metadata": {},
   "source": [
    "### 3.1.3 Assessing the Accuracy of the Model\n",
    "\n",
    "- Residual Standard Error ( RSE, 잔차 표준 에러 ) 로 측정할 수 있음.\n",
    "![](chapter03_11.jpg)\n",
    "\n",
    "- R-squard ( 결정계수 ) 아래와 같음.\n",
    "- 추정값( Y )은 전체을 얼마큼 설명하는지에 대한 지표임.\n",
    "![](chapter03_12_01.jpg)\n",
    "\n",
    "- 결정계수에 대한 유의미한지를 알수 있는값\n",
    "\n",
    "![](chapter03_13.jpg)"
   ]
  },
  {
   "cell_type": "markdown",
   "metadata": {},
   "source": [
    "## 3.2 Multiple Linear Regression\n",
    "\n",
    "- TV(x1)와 Radio(x2), 신문(x3)과 복합적으로 판매( Y ) 관계를 설명이 필요.\n",
    " ![](chapter03_14.jpg)"
   ]
  },
  {
   "cell_type": "markdown",
   "metadata": {},
   "source": [
    "### 3.2.1 Estimating the Regression Coefficients\n",
    "\n",
    "![](chapter03_15.jpg)\n",
    " \n",
    "- 위의 수식의 의미는 아래와 같음. \n",
    "![](chapter03_16.jpg)\n",
    "\n",
    "![](chapter03_17.jpg)"
   ]
  },
  {
   "cell_type": "code",
   "execution_count": null,
   "metadata": {
    "collapsed": true
   },
   "outputs": [],
   "source": []
  }
 ],
 "metadata": {
  "kernelspec": {
   "display_name": "Python 2",
   "language": "python",
   "name": "python2"
  },
  "language_info": {
   "codemirror_mode": {
    "name": "ipython",
    "version": 2
   },
   "file_extension": ".py",
   "mimetype": "text/x-python",
   "name": "python",
   "nbconvert_exporter": "python",
   "pygments_lexer": "ipython2",
   "version": "2.7.11"
  }
 },
 "nbformat": 4,
 "nbformat_minor": 0
}
