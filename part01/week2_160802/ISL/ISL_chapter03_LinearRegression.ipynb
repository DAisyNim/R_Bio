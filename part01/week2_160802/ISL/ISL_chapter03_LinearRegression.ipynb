{
 "cells": [
  {
   "cell_type": "markdown",
   "metadata": {},
   "source": [
    "# 3장 Linear Regression"
   ]
  },
  {
   "cell_type": "markdown",
   "metadata": {},
   "source": [
    "- 선형회귀는 매우 단순한 지도학습임.\n",
    "- 양적 반응변수( Y가 숫자 )를 예측하는 유용한 도구\n",
    "- 선형회귀에 대한 기본 개념과 최소제곱법에 알아봄."
   ]
  },
  {
   "cell_type": "markdown",
   "metadata": {
    "collapsed": true
   },
   "source": [
    "\n",
    "\n",
    "아래 2장에서 보았던, Advertising data 임\n",
    "\n",
    "우리가 통계 컨설턴트로서 이 데이터를 기반으로 다음년도의 마켓팅에 제안을 한다고 가정하자.\n",
    "![](chapter03_01.jpg)\n",
    "\n",
    "여기서 우리는 몇가지 중요한 질문을 할 수 있음\n",
    "1. 광고예산과 매출과의 관계는 있는가?\n",
    "    - 광고집행과 매출사이의 연관성에 대한 증거를 이 데이터가 확인할 수 있는지.\n",
    "    - 만약, 증거가 약하면, 광고에 쓸데없는 돈을 투자하게 됨.\n",
    "\n",
    "2. 광고예산과 매출과의 관계는 얼마나 강력한가 ?\n",
    "    - 광고와 메출과의 관계가 있다고 가정하고, 이 관계의 세기를 우리는 알고 싶음.\n",
    "    - 얼마큼의 광고예산이 주어지면, 우리는 매우 높은 정확도로 매출을 예측할 수 있는가?\n",
    "\n",
    "3. 매체별 매출 기여도는 얼마인가?\n",
    "    - 3개의 매체( TV, radio, 신문)의 매출 기여 또는 1개 또 2개의 매체의 기여도는 ?\n",
    "\n",
    "4. 매출에 대한 각각의 매체의 효과를 얼마큼 정확히 측정할 수 있는가?\n",
    "    - 광고에  12 달러를 썼을때, 매체별 매출 증가량을 얼마이고, 얼마큼 정확히 예측할 할 수 있는가 ?\n",
    "\n",
    "5. 우리는 미래 매출을 얼마큼 정확히 예측할 수 있는가?\n",
    "\n",
    "6. 선형관계는 있는가?\n",
    "\n",
    "7. 광고 매체간의 시너지가 있는지?\n",
    "    - TV에 5만달러, Radio에 5만달러를 했을때와 한쪽에만 10만달러를 광고했을때와 더 매출이 증가하는가 ?"
   ]
  },
  {
   "cell_type": "markdown",
   "metadata": {},
   "source": []
  }
 ],
 "metadata": {
  "kernelspec": {
   "display_name": "Python 2",
   "language": "python",
   "name": "python2"
  },
  "language_info": {
   "codemirror_mode": {
    "name": "ipython",
    "version": 2
   },
   "file_extension": ".py",
   "mimetype": "text/x-python",
   "name": "python",
   "nbconvert_exporter": "python",
   "pygments_lexer": "ipython2",
   "version": "2.7.11"
  }
 },
 "nbformat": 4,
 "nbformat_minor": 0
}
