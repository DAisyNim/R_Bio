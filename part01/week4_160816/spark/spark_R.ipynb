{
 "cells": [
  {
   "cell_type": "markdown",
   "metadata": {},
   "source": [
    "# SparkR (R on Spark)"
   ]
  },
  {
   "cell_type": "markdown",
   "metadata": {},
   "source": [
    "## Overview\n",
    "\n",
    "- SparkR은 R에서 Apache Spark을 사용하기 위한 가벼운 진입점을 제공하는 R 패키지임.\n",
    "- SparkR은 selection, filtering, aggregation etc. (similar to R data frames, dplyr)와 같은 동작을 지원하는 distributed data frame을 지원함.\n",
    "- SparkR은 MLib을 사용해서  distributed machine learning 지원함."
   ]
  },
  {
   "cell_type": "markdown",
   "metadata": {},
   "source": [
    "## SparkR DataFrames\n",
    "\n",
    "- Spark에서의 DataFrame은 이름이 있는 clomn들로 구성된  distributed collection으로 관계형데이터베이스의 테이블 또는 R에서의 date frame과 개념상 비슷함.\n",
    "- DataFrame은 구조화된 date file, Hive의 table, 외부 데이터베이스 또는 local R data frame과 같이 다양한 소스로부터 만들어질 수 있음."
   ]
  },
  {
   "cell_type": "markdown",
   "metadata": {},
   "source": [
    "### Starting Up: SparkContext, SQLContext\n",
    "\n",
    "- SparkR에서의 시작포인트는 R에서 Spark cluster에 접속할 수 있도록  SparkContext 생성하는 것임.\n",
    "- SparkContext 생성은 sparkR.init() 함수를 사용하고, DataFrames을 가지고 작업하기 위해서는 SQLContext도 필요함."
   ]
  },
  {
   "cell_type": "code",
   "execution_count": null,
   "metadata": {
    "collapsed": true
   },
   "outputs": [],
   "source": [
    "sc <- sparkR.init(\"local[*]\")\n",
    "sqlContext <- sparkRSQL.init(sc)"
   ]
  },
  {
   "cell_type": "markdown",
   "metadata": {},
   "source": [
    "### Starting Up from RStudio\n",
    "\n",
    "- R 프로그램이 RStudio, R shell, Rscript 또는  other R IDEs로부터 spark cluster에 접속하기 위해서는 \n",
    "    - 환경변수 SPARK_HOME을 설정\n",
    "    - SparkR package을 로딩\n",
    "    - sparkR.init()을 호출할때 여러가지 설정을 함.\n",
    "    - sparkEnvir 로 내부적으로 JVM호출할때 옵션이 설정.\n",
    "    \n",
    "- sparkEnvir 설정\n",
    "\n",
    "\n",
    "|Property Name  \t              | Property group\t     | spark-submit equivalent\n",
    "|---------------------------------|----------------------|-------------------------\n",
    "|spark.driver.memory\t          | ApplicationProperties| --driver-memory\n",
    "|spark.driver.extraClassPath\t  | Runtime Environment  |\t--driver-class-path\n",
    "|spark.driver.extraJavaOptions\t  | Runtime Environment  |\t--driver-java-options\n",
    "|spark.driver.extraLibraryPath\t  | Runtime Environment  |\t--driver-library-path\n",
    "\n"
   ]
  },
  {
   "cell_type": "code",
   "execution_count": 1,
   "metadata": {
    "collapsed": false
   },
   "outputs": [
    {
     "name": "stderr",
     "output_type": "stream",
     "text": [
      "\n",
      "Attaching package: ‘SparkR’\n",
      "\n",
      "The following objects are masked from ‘package:stats’:\n",
      "\n",
      "    cov, filter, lag, na.omit, predict, sd, var\n",
      "\n",
      "The following objects are masked from ‘package:base’:\n",
      "\n",
      "    colnames, colnames<-, endsWith, intersect, rank, rbind, sample,\n",
      "    startsWith, subset, summary, table, transform\n",
      "\n"
     ]
    },
    {
     "name": "stdout",
     "output_type": "stream",
     "text": [
      "Launching java with spark-submit command /usr/local/spark/bin/spark-submit   --driver-memory \"2g\" sparkr-shell /tmp/RtmpsRJlr8/backend_port1ddd11431940 \n"
     ]
    }
   ],
   "source": [
    "if (nchar(Sys.getenv(\"SPARK_HOME\")) < 1) {\n",
    "  Sys.setenv(SPARK_HOME = \"/home/spark\")\n",
    "}\n",
    "\n",
    "library(SparkR, lib.loc = c(file.path(Sys.getenv(\"SPARK_HOME\"), \"R\", \"lib\")))\n",
    "sc <- sparkR.init(master = \"local[*]\", sparkEnvir = list(spark.driver.memory=\"2g\"))\n",
    "sqlContext <- sparkRSQL.init(sc)"
   ]
  },
  {
   "cell_type": "markdown",
   "metadata": {},
   "source": [
    "### Creating DataFrames\n",
    "\n",
    "- SQLContext를 가지고, local R data frame, Hive table, 기타 다른 data source로부터 DataFrame을 생성해보자.\n",
    "\n",
    "### From local data frames\n",
    "\n",
    "- R에 내장된 faithful 데이터셋을 읽어보자, faithful은 미국의 국립공원에 있는 간헐천이 폭발지속시간(eruptions, min) 과 대기 시간(waiting, min)"
   ]
  },
  {
   "cell_type": "code",
   "execution_count": 2,
   "metadata": {
    "collapsed": false
   },
   "outputs": [
    {
     "data": {
      "text/plain": [
       "   eruptions        waiting    \n",
       " Min.   :1.600   Min.   :43.0  \n",
       " 1st Qu.:2.163   1st Qu.:58.0  \n",
       " Median :4.000   Median :76.0  \n",
       " Mean   :3.488   Mean   :70.9  \n",
       " 3rd Qu.:4.454   3rd Qu.:82.0  \n",
       " Max.   :5.100   Max.   :96.0  "
      ]
     },
     "metadata": {},
     "output_type": "display_data"
    },
    {
     "data": {
      "text/html": [
       "<table>\n",
       "<thead><tr><th></th><th scope=col>eruptions</th><th scope=col>waiting</th></tr></thead>\n",
       "<tbody>\n",
       "\t<tr><th scope=row>1</th><td> 3.6</td><td>79.0</td></tr>\n",
       "\t<tr><th scope=row>2</th><td> 1.8</td><td>54.0</td></tr>\n",
       "\t<tr><th scope=row>3</th><td> 3.333</td><td>74.000</td></tr>\n",
       "\t<tr><th scope=row>4</th><td> 2.283</td><td>62.000</td></tr>\n",
       "\t<tr><th scope=row>5</th><td> 4.533</td><td>85.000</td></tr>\n",
       "\t<tr><th scope=row>6</th><td> 2.883</td><td>55.000</td></tr>\n",
       "</tbody>\n",
       "</table>\n"
      ],
      "text/latex": [
       "\\begin{tabular}{r|ll}\n",
       "  & eruptions & waiting\\\\\n",
       "\\hline\n",
       "\t1 &  3.6 & 79.0\\\\\n",
       "\t2 &  1.8 & 54.0\\\\\n",
       "\t3 &  3.333 & 74.000\\\\\n",
       "\t4 &  2.283 & 62.000\\\\\n",
       "\t5 &  4.533 & 85.000\\\\\n",
       "\t6 &  2.883 & 55.000\\\\\n",
       "\\end{tabular}\n"
      ],
      "text/plain": [
       "  eruptions waiting\n",
       "1     3.600      79\n",
       "2     1.800      54\n",
       "3     3.333      74\n",
       "4     2.283      62\n",
       "5     4.533      85\n",
       "6     2.883      55"
      ]
     },
     "metadata": {},
     "output_type": "display_data"
    }
   ],
   "source": [
    "summary( faithful )\n",
    "head(faithful)"
   ]
  },
  {
   "cell_type": "code",
   "execution_count": 3,
   "metadata": {
    "collapsed": false
   },
   "outputs": [
    {
     "data": {
      "text/html": [
       "<table>\n",
       "<thead><tr><th></th><th scope=col>eruptions</th><th scope=col>waiting</th></tr></thead>\n",
       "<tbody>\n",
       "\t<tr><th scope=row>1</th><td> 3.6</td><td>79.0</td></tr>\n",
       "\t<tr><th scope=row>2</th><td> 1.8</td><td>54.0</td></tr>\n",
       "\t<tr><th scope=row>3</th><td> 3.333</td><td>74.000</td></tr>\n",
       "\t<tr><th scope=row>4</th><td> 2.283</td><td>62.000</td></tr>\n",
       "\t<tr><th scope=row>5</th><td> 4.533</td><td>85.000</td></tr>\n",
       "\t<tr><th scope=row>6</th><td> 2.883</td><td>55.000</td></tr>\n",
       "</tbody>\n",
       "</table>\n"
      ],
      "text/latex": [
       "\\begin{tabular}{r|ll}\n",
       "  & eruptions & waiting\\\\\n",
       "\\hline\n",
       "\t1 &  3.6 & 79.0\\\\\n",
       "\t2 &  1.8 & 54.0\\\\\n",
       "\t3 &  3.333 & 74.000\\\\\n",
       "\t4 &  2.283 & 62.000\\\\\n",
       "\t5 &  4.533 & 85.000\\\\\n",
       "\t6 &  2.883 & 55.000\\\\\n",
       "\\end{tabular}\n"
      ],
      "text/plain": [
       "  eruptions waiting\n",
       "1     3.600      79\n",
       "2     1.800      54\n",
       "3     3.333      74\n",
       "4     2.283      62\n",
       "5     4.533      85\n",
       "6     2.883      55"
      ]
     },
     "metadata": {},
     "output_type": "display_data"
    }
   ],
   "source": [
    "df <- createDataFrame(sqlContext, faithful)\n",
    "head(df)"
   ]
  },
  {
   "cell_type": "markdown",
   "metadata": {},
   "source": [
    "#### From Data Sources\n",
    "\n",
    "- 데이터 소스로부터 DataFrame을 생성하는 일반적인 방법은 read.df()함수를 사용하는것임.\n",
    "- 이 함수는 JSON과 Parquet 파일을 지원"
   ]
  },
  {
   "cell_type": "code",
   "execution_count": 2,
   "metadata": {
    "collapsed": false
   },
   "outputs": [
    {
     "data": {
      "text/html": [
       "<table>\n",
       "<thead><tr><th></th><th scope=col>age</th><th scope=col>name</th></tr></thead>\n",
       "<tbody>\n",
       "\t<tr><th scope=row>1</th><td>NA     </td><td>Michael</td></tr>\n",
       "\t<tr><th scope=row>2</th><td>30  </td><td>Andy</td></tr>\n",
       "\t<tr><th scope=row>3</th><td>19    </td><td>Justin</td></tr>\n",
       "</tbody>\n",
       "</table>\n"
      ],
      "text/latex": [
       "\\begin{tabular}{r|ll}\n",
       "  & age & name\\\\\n",
       "\\hline\n",
       "\t1 & NA      & Michael\\\\\n",
       "\t2 & 30   & Andy\\\\\n",
       "\t3 & 19     & Justin\\\\\n",
       "\\end{tabular}\n"
      ],
      "text/plain": [
       "  age    name\n",
       "1  NA Michael\n",
       "2  30    Andy\n",
       "3  19  Justin"
      ]
     },
     "metadata": {},
     "output_type": "display_data"
    }
   ],
   "source": [
    "people <- read.df(sqlContext, \"/usr/local/spark/examples/src/main/resources/people.json\", \"json\")\n",
    "head(people)"
   ]
  },
  {
   "cell_type": "code",
   "execution_count": 3,
   "metadata": {
    "collapsed": false
   },
   "outputs": [
    {
     "name": "stdout",
     "output_type": "stream",
     "text": [
      "root\n",
      " |-- age: long (nullable = true)\n",
      " |-- name: string (nullable = true)\n"
     ]
    }
   ],
   "source": [
    "printSchema(people)"
   ]
  },
  {
   "cell_type": "markdown",
   "metadata": {},
   "source": [
    "- data sources API들을 사용해서 여러가지 포맷으로  DataFrame을 저장 가능함.\n",
    "- write.df()함수로 Parquet 파일로 저장해보자."
   ]
  },
  {
   "cell_type": "code",
   "execution_count": 4,
   "metadata": {
    "collapsed": false
   },
   "outputs": [
    {
     "data": {
      "text/plain": [
       "NULL"
      ]
     },
     "metadata": {},
     "output_type": "display_data"
    }
   ],
   "source": [
    "write.df(people, path=\"people.parquet\", source=\"parquet\", mode=\"overwrite\")"
   ]
  },
  {
   "cell_type": "markdown",
   "metadata": {},
   "source": [
    "#### From Hive tables\n",
    "\n",
    "- Hive tables로부터 DataFrame을 생성할 수 있음.  Hive가 설치가 필요해서 여기서는 코드만 보자."
   ]
  },
  {
   "cell_type": "code",
   "execution_count": null,
   "metadata": {
    "collapsed": true
   },
   "outputs": [],
   "source": [
    "# sc is an existing SparkContext.\n",
    "hiveContext <- sparkRHive.init(sc)\n",
    "\n",
    "sql(hiveContext, \"CREATE TABLE IF NOT EXISTS src (key INT, value STRING)\")\n",
    "sql(hiveContext, \"LOAD DATA LOCAL INPATH 'examples/src/main/resources/kv1.txt' INTO TABLE src\")\n",
    "\n",
    "# Queries can be expressed in HiveQL.\n",
    "results <- sql(hiveContext, \"FROM src SELECT key, value\")\n",
    "\n",
    "# results is now a DataFrame\n",
    "head(results)"
   ]
  },
  {
   "cell_type": "markdown",
   "metadata": {},
   "source": [
    "### DataFrame Operations\n",
    "\n",
    "- DataFrames은 구조화된 데이터 프로세싱을 위해서 여러가지 함수를 지원함.\n",
    "\n",
    "#### Selecting rows, columns"
   ]
  },
  {
   "cell_type": "code",
   "execution_count": 8,
   "metadata": {
    "collapsed": false
   },
   "outputs": [
    {
     "data": {
      "text/plain": [
       "DataFrame[eruptions:double, waiting:double]"
      ]
     },
     "metadata": {},
     "output_type": "display_data"
    }
   ],
   "source": [
    "df <- createDataFrame(sqlContext, faithful)\n",
    "df"
   ]
  },
  {
   "cell_type": "code",
   "execution_count": 9,
   "metadata": {
    "collapsed": false
   },
   "outputs": [
    {
     "data": {
      "text/html": [
       "<table>\n",
       "<thead><tr><th></th><th scope=col>eruptions</th></tr></thead>\n",
       "<tbody>\n",
       "\t<tr><th scope=row>1</th><td>3.6</td></tr>\n",
       "\t<tr><th scope=row>2</th><td>1.8</td></tr>\n",
       "\t<tr><th scope=row>3</th><td>3.333</td></tr>\n",
       "\t<tr><th scope=row>4</th><td>2.283</td></tr>\n",
       "\t<tr><th scope=row>5</th><td>4.533</td></tr>\n",
       "\t<tr><th scope=row>6</th><td>2.883</td></tr>\n",
       "</tbody>\n",
       "</table>\n"
      ],
      "text/latex": [
       "\\begin{tabular}{r|l}\n",
       "  & eruptions\\\\\n",
       "\\hline\n",
       "\t1 & 3.6\\\\\n",
       "\t2 & 1.8\\\\\n",
       "\t3 & 3.333\\\\\n",
       "\t4 & 2.283\\\\\n",
       "\t5 & 4.533\\\\\n",
       "\t6 & 2.883\\\\\n",
       "\\end{tabular}\n"
      ],
      "text/plain": [
       "  eruptions\n",
       "1     3.600\n",
       "2     1.800\n",
       "3     3.333\n",
       "4     2.283\n",
       "5     4.533\n",
       "6     2.883"
      ]
     },
     "metadata": {},
     "output_type": "display_data"
    }
   ],
   "source": [
    "head(select(df, df$eruptions))"
   ]
  },
  {
   "cell_type": "code",
   "execution_count": 10,
   "metadata": {
    "collapsed": false
   },
   "outputs": [
    {
     "data": {
      "text/html": [
       "<table>\n",
       "<thead><tr><th></th><th scope=col>eruptions</th></tr></thead>\n",
       "<tbody>\n",
       "\t<tr><th scope=row>1</th><td>3.6</td></tr>\n",
       "\t<tr><th scope=row>2</th><td>1.8</td></tr>\n",
       "\t<tr><th scope=row>3</th><td>3.333</td></tr>\n",
       "\t<tr><th scope=row>4</th><td>2.283</td></tr>\n",
       "\t<tr><th scope=row>5</th><td>4.533</td></tr>\n",
       "\t<tr><th scope=row>6</th><td>2.883</td></tr>\n",
       "</tbody>\n",
       "</table>\n"
      ],
      "text/latex": [
       "\\begin{tabular}{r|l}\n",
       "  & eruptions\\\\\n",
       "\\hline\n",
       "\t1 & 3.6\\\\\n",
       "\t2 & 1.8\\\\\n",
       "\t3 & 3.333\\\\\n",
       "\t4 & 2.283\\\\\n",
       "\t5 & 4.533\\\\\n",
       "\t6 & 2.883\\\\\n",
       "\\end{tabular}\n"
      ],
      "text/plain": [
       "  eruptions\n",
       "1     3.600\n",
       "2     1.800\n",
       "3     3.333\n",
       "4     2.283\n",
       "5     4.533\n",
       "6     2.883"
      ]
     },
     "metadata": {},
     "output_type": "display_data"
    }
   ],
   "source": [
    "head(select(df, \"eruptions\"))"
   ]
  },
  {
   "cell_type": "code",
   "execution_count": 11,
   "metadata": {
    "collapsed": false
   },
   "outputs": [
    {
     "data": {
      "text/html": [
       "<table>\n",
       "<thead><tr><th></th><th scope=col>eruptions</th><th scope=col>waiting</th></tr></thead>\n",
       "<tbody>\n",
       "\t<tr><th scope=row>1</th><td> 1.75</td><td>47.00</td></tr>\n",
       "\t<tr><th scope=row>2</th><td> 1.75</td><td>47.00</td></tr>\n",
       "\t<tr><th scope=row>3</th><td> 1.867</td><td>48.000</td></tr>\n",
       "\t<tr><th scope=row>4</th><td> 1.75</td><td>48.00</td></tr>\n",
       "\t<tr><th scope=row>5</th><td> 2.167</td><td>48.000</td></tr>\n",
       "\t<tr><th scope=row>6</th><td> 2.1</td><td>49.0</td></tr>\n",
       "</tbody>\n",
       "</table>\n"
      ],
      "text/latex": [
       "\\begin{tabular}{r|ll}\n",
       "  & eruptions & waiting\\\\\n",
       "\\hline\n",
       "\t1 &  1.75 & 47.00\\\\\n",
       "\t2 &  1.75 & 47.00\\\\\n",
       "\t3 &  1.867 & 48.000\\\\\n",
       "\t4 &  1.75 & 48.00\\\\\n",
       "\t5 &  2.167 & 48.000\\\\\n",
       "\t6 &  2.1 & 49.0\\\\\n",
       "\\end{tabular}\n"
      ],
      "text/plain": [
       "  eruptions waiting\n",
       "1     1.750      47\n",
       "2     1.750      47\n",
       "3     1.867      48\n",
       "4     1.750      48\n",
       "5     2.167      48\n",
       "6     2.100      49"
      ]
     },
     "metadata": {},
     "output_type": "display_data"
    }
   ],
   "source": [
    "head(filter(df, df$waiting < 50))"
   ]
  },
  {
   "cell_type": "markdown",
   "metadata": {},
   "source": [
    "#### Grouping, Aggregation"
   ]
  },
  {
   "cell_type": "code",
   "execution_count": 12,
   "metadata": {
    "collapsed": false
   },
   "outputs": [
    {
     "data": {
      "text/html": [
       "<table>\n",
       "<thead><tr><th></th><th scope=col>waiting</th><th scope=col>count</th></tr></thead>\n",
       "<tbody>\n",
       "\t<tr><th scope=row>1</th><td>81</td><td>13</td></tr>\n",
       "\t<tr><th scope=row>2</th><td>60</td><td> 6</td></tr>\n",
       "\t<tr><th scope=row>3</th><td>93</td><td> 2</td></tr>\n",
       "\t<tr><th scope=row>4</th><td>68</td><td> 1</td></tr>\n",
       "\t<tr><th scope=row>5</th><td>47</td><td> 4</td></tr>\n",
       "\t<tr><th scope=row>6</th><td>80</td><td> 8</td></tr>\n",
       "</tbody>\n",
       "</table>\n"
      ],
      "text/latex": [
       "\\begin{tabular}{r|ll}\n",
       "  & waiting & count\\\\\n",
       "\\hline\n",
       "\t1 & 81 & 13\\\\\n",
       "\t2 & 60 &  6\\\\\n",
       "\t3 & 93 &  2\\\\\n",
       "\t4 & 68 &  1\\\\\n",
       "\t5 & 47 &  4\\\\\n",
       "\t6 & 80 &  8\\\\\n",
       "\\end{tabular}\n"
      ],
      "text/plain": [
       "  waiting count\n",
       "1      81    13\n",
       "2      60     6\n",
       "3      93     2\n",
       "4      68     1\n",
       "5      47     4\n",
       "6      80     8"
      ]
     },
     "metadata": {},
     "output_type": "display_data"
    }
   ],
   "source": [
    "head(summarize(groupBy(df, df$waiting), count = n(df$waiting)))"
   ]
  },
  {
   "cell_type": "code",
   "execution_count": 13,
   "metadata": {
    "collapsed": false
   },
   "outputs": [
    {
     "data": {
      "text/html": [
       "<table>\n",
       "<thead><tr><th></th><th scope=col>waiting</th><th scope=col>count</th></tr></thead>\n",
       "<tbody>\n",
       "\t<tr><th scope=row>1</th><td>78</td><td>15</td></tr>\n",
       "\t<tr><th scope=row>2</th><td>83</td><td>14</td></tr>\n",
       "\t<tr><th scope=row>3</th><td>81</td><td>13</td></tr>\n",
       "\t<tr><th scope=row>4</th><td>77</td><td>12</td></tr>\n",
       "\t<tr><th scope=row>5</th><td>82</td><td>12</td></tr>\n",
       "\t<tr><th scope=row>6</th><td>84</td><td>10</td></tr>\n",
       "</tbody>\n",
       "</table>\n"
      ],
      "text/latex": [
       "\\begin{tabular}{r|ll}\n",
       "  & waiting & count\\\\\n",
       "\\hline\n",
       "\t1 & 78 & 15\\\\\n",
       "\t2 & 83 & 14\\\\\n",
       "\t3 & 81 & 13\\\\\n",
       "\t4 & 77 & 12\\\\\n",
       "\t5 & 82 & 12\\\\\n",
       "\t6 & 84 & 10\\\\\n",
       "\\end{tabular}\n"
      ],
      "text/plain": [
       "  waiting count\n",
       "1      78    15\n",
       "2      83    14\n",
       "3      81    13\n",
       "4      77    12\n",
       "5      82    12\n",
       "6      84    10"
      ]
     },
     "metadata": {},
     "output_type": "display_data"
    }
   ],
   "source": [
    "waiting_counts <- summarize(groupBy(df, df$waiting), count = n(df$waiting))\n",
    "head(arrange(waiting_counts, desc(waiting_counts$count)))"
   ]
  },
  {
   "cell_type": "markdown",
   "metadata": {},
   "source": [
    "#### Operating on Columns"
   ]
  },
  {
   "cell_type": "code",
   "execution_count": 14,
   "metadata": {
    "collapsed": false
   },
   "outputs": [
    {
     "data": {
      "text/html": [
       "<table>\n",
       "<thead><tr><th></th><th scope=col>eruptions</th><th scope=col>waiting</th><th scope=col>waiting_secs</th></tr></thead>\n",
       "<tbody>\n",
       "\t<tr><th scope=row>1</th><td>   3.6</td><td>  79.0</td><td>4740.0</td></tr>\n",
       "\t<tr><th scope=row>2</th><td>   1.8</td><td>  54.0</td><td>3240.0</td></tr>\n",
       "\t<tr><th scope=row>3</th><td>   3.333</td><td>  74.000</td><td>4440.000</td></tr>\n",
       "\t<tr><th scope=row>4</th><td>   2.283</td><td>  62.000</td><td>3720.000</td></tr>\n",
       "\t<tr><th scope=row>5</th><td>   4.533</td><td>  85.000</td><td>5100.000</td></tr>\n",
       "\t<tr><th scope=row>6</th><td>   2.883</td><td>  55.000</td><td>3300.000</td></tr>\n",
       "</tbody>\n",
       "</table>\n"
      ],
      "text/latex": [
       "\\begin{tabular}{r|lll}\n",
       "  & eruptions & waiting & waiting\\_secs\\\\\n",
       "\\hline\n",
       "\t1 &    3.6 &   79.0 & 4740.0\\\\\n",
       "\t2 &    1.8 &   54.0 & 3240.0\\\\\n",
       "\t3 &    3.333 &   74.000 & 4440.000\\\\\n",
       "\t4 &    2.283 &   62.000 & 3720.000\\\\\n",
       "\t5 &    4.533 &   85.000 & 5100.000\\\\\n",
       "\t6 &    2.883 &   55.000 & 3300.000\\\\\n",
       "\\end{tabular}\n"
      ],
      "text/plain": [
       "  eruptions waiting waiting_secs\n",
       "1     3.600      79         4740\n",
       "2     1.800      54         3240\n",
       "3     3.333      74         4440\n",
       "4     2.283      62         3720\n",
       "5     4.533      85         5100\n",
       "6     2.883      55         3300"
      ]
     },
     "metadata": {},
     "output_type": "display_data"
    }
   ],
   "source": [
    "df$waiting_secs <- df$waiting * 60\n",
    "head(df)"
   ]
  },
  {
   "cell_type": "markdown",
   "metadata": {},
   "source": [
    "### Running SQL Queries from SparkR\n",
    "\n",
    "- DataFrame 은 Spark SQL에서 임시 테이블을 만들고, SQL문을 실행할 수 있음."
   ]
  },
  {
   "cell_type": "code",
   "execution_count": 17,
   "metadata": {
    "collapsed": false
   },
   "outputs": [
    {
     "data": {
      "text/html": [
       "<table>\n",
       "<thead><tr><th></th><th scope=col>age</th><th scope=col>name</th></tr></thead>\n",
       "<tbody>\n",
       "\t<tr><th scope=row>1</th><td>NA     </td><td>Michael</td></tr>\n",
       "\t<tr><th scope=row>2</th><td>30  </td><td>Andy</td></tr>\n",
       "\t<tr><th scope=row>3</th><td>19    </td><td>Justin</td></tr>\n",
       "</tbody>\n",
       "</table>\n"
      ],
      "text/latex": [
       "\\begin{tabular}{r|ll}\n",
       "  & age & name\\\\\n",
       "\\hline\n",
       "\t1 & NA      & Michael\\\\\n",
       "\t2 & 30   & Andy\\\\\n",
       "\t3 & 19     & Justin\\\\\n",
       "\\end{tabular}\n"
      ],
      "text/plain": [
       "  age    name\n",
       "1  NA Michael\n",
       "2  30    Andy\n",
       "3  19  Justin"
      ]
     },
     "metadata": {},
     "output_type": "display_data"
    }
   ],
   "source": [
    "people <- read.df(sqlContext, \"/usr/local/spark/examples/src/main/resources/people.json\", \"json\")\n",
    "head(people)"
   ]
  },
  {
   "cell_type": "code",
   "execution_count": 18,
   "metadata": {
    "collapsed": true
   },
   "outputs": [],
   "source": [
    "registerTempTable(people, \"people\")"
   ]
  },
  {
   "cell_type": "code",
   "execution_count": 19,
   "metadata": {
    "collapsed": false
   },
   "outputs": [
    {
     "data": {
      "text/html": [
       "<table>\n",
       "<thead><tr><th></th><th scope=col>name</th></tr></thead>\n",
       "<tbody>\n",
       "\t<tr><th scope=row>1</th><td>Justin</td></tr>\n",
       "</tbody>\n",
       "</table>\n"
      ],
      "text/latex": [
       "\\begin{tabular}{r|l}\n",
       "  & name\\\\\n",
       "\\hline\n",
       "\t1 & Justin\\\\\n",
       "\\end{tabular}\n"
      ],
      "text/plain": [
       "    name\n",
       "1 Justin"
      ]
     },
     "metadata": {},
     "output_type": "display_data"
    }
   ],
   "source": [
    "teenagers <- sql(sqlContext, \"SELECT name FROM people WHERE age >= 13 AND age <= 19\")\n",
    "head(teenagers)"
   ]
  },
  {
   "cell_type": "markdown",
   "metadata": {},
   "source": [
    "## Machine Learning\n",
    "\n",
    "- SparkR은 glm()함수를 사용해서 DataFrames을 가지고 generalized linear models을 적합시킬 수 있음.\n",
    "- SparkR의 glm()함수의 분포 가정을 gaussian(정규분포)와 binomial(이항분포)를 지원함.\n",
    "- 사용법은 R의 glm()함수와 비슷함.\n",
    "\n",
    "\n",
    "- Spark 2.0에서는  아래와 같이 추가 지원함.\n",
    "    - “gaussian”, “binomial”, “poisson” and “gamma” 까지 지원\n",
    "    - Survival Regression\n",
    "    - Naive Bayes Model\n",
    "    - KMeans Model\n",
    "    - Model 저장  \n",
    "    \n",
    "### Gaussian GLM model"
   ]
  },
  {
   "cell_type": "code",
   "execution_count": 21,
   "metadata": {
    "collapsed": false
   },
   "outputs": [
    {
     "name": "stderr",
     "output_type": "stream",
     "text": [
      "Warning message:\n",
      "In FUN(X[[i]], ...): Use Sepal_Length instead of Sepal.Length  as column nameWarning message:\n",
      "In FUN(X[[i]], ...): Use Sepal_Width instead of Sepal.Width  as column nameWarning message:\n",
      "In FUN(X[[i]], ...): Use Petal_Length instead of Petal.Length  as column nameWarning message:\n",
      "In FUN(X[[i]], ...): Use Petal_Width instead of Petal.Width  as column name"
     ]
    },
    {
     "data": {
      "text/html": [
       "<table>\n",
       "<thead><tr><th></th><th scope=col>Sepal_Length</th><th scope=col>Sepal_Width</th><th scope=col>Petal_Length</th><th scope=col>Petal_Width</th><th scope=col>Species</th></tr></thead>\n",
       "<tbody>\n",
       "\t<tr><th scope=row>1</th><td>5.1   </td><td>3.5   </td><td>1.4   </td><td>0.2   </td><td>setosa</td></tr>\n",
       "\t<tr><th scope=row>2</th><td>4.9   </td><td>3     </td><td>1.4   </td><td>0.2   </td><td>setosa</td></tr>\n",
       "\t<tr><th scope=row>3</th><td>4.7   </td><td>3.2   </td><td>1.3   </td><td>0.2   </td><td>setosa</td></tr>\n",
       "\t<tr><th scope=row>4</th><td>4.6   </td><td>3.1   </td><td>1.5   </td><td>0.2   </td><td>setosa</td></tr>\n",
       "\t<tr><th scope=row>5</th><td>5     </td><td>3.6   </td><td>1.4   </td><td>0.2   </td><td>setosa</td></tr>\n",
       "\t<tr><th scope=row>6</th><td>5.4   </td><td>3.9   </td><td>1.7   </td><td>0.4   </td><td>setosa</td></tr>\n",
       "</tbody>\n",
       "</table>\n"
      ],
      "text/latex": [
       "\\begin{tabular}{r|lllll}\n",
       "  & Sepal\\_Length & Sepal\\_Width & Petal\\_Length & Petal\\_Width & Species\\\\\n",
       "\\hline\n",
       "\t1 & 5.1    & 3.5    & 1.4    & 0.2    & setosa\\\\\n",
       "\t2 & 4.9    & 3      & 1.4    & 0.2    & setosa\\\\\n",
       "\t3 & 4.7    & 3.2    & 1.3    & 0.2    & setosa\\\\\n",
       "\t4 & 4.6    & 3.1    & 1.5    & 0.2    & setosa\\\\\n",
       "\t5 & 5      & 3.6    & 1.4    & 0.2    & setosa\\\\\n",
       "\t6 & 5.4    & 3.9    & 1.7    & 0.4    & setosa\\\\\n",
       "\\end{tabular}\n"
      ],
      "text/plain": [
       "  Sepal_Length Sepal_Width Petal_Length Petal_Width Species\n",
       "1          5.1         3.5          1.4         0.2  setosa\n",
       "2          4.9         3.0          1.4         0.2  setosa\n",
       "3          4.7         3.2          1.3         0.2  setosa\n",
       "4          4.6         3.1          1.5         0.2  setosa\n",
       "5          5.0         3.6          1.4         0.2  setosa\n",
       "6          5.4         3.9          1.7         0.4  setosa"
      ]
     },
     "metadata": {},
     "output_type": "display_data"
    }
   ],
   "source": [
    "df <- createDataFrame(sqlContext, iris)\n",
    "head(df)"
   ]
  },
  {
   "cell_type": "code",
   "execution_count": 22,
   "metadata": {
    "collapsed": false
   },
   "outputs": [
    {
     "data": {
      "text/html": [
       "<dl>\n",
       "\t<dt>$devianceResiduals</dt>\n",
       "\t\t<dd><table>\n",
       "<thead><tr><th></th><th scope=col>Min</th><th scope=col>Max</th></tr></thead>\n",
       "<tbody>\n",
       "\t<tr><th scope=row></th><td>-1.307112</td><td> 1.412532</td></tr>\n",
       "</tbody>\n",
       "</table>\n",
       "</dd>\n",
       "\t<dt>$coefficients</dt>\n",
       "\t\t<dd><table>\n",
       "<thead><tr><th></th><th scope=col>Estimate</th><th scope=col>Std. Error</th><th scope=col>t value</th><th scope=col>Pr(&gt;|t|)</th></tr></thead>\n",
       "<tbody>\n",
       "\t<tr><th scope=row>(Intercept)</th><td>2.251393e+00</td><td>3.697543e-01</td><td>6.088890e+00</td><td>9.568102e-09</td></tr>\n",
       "\t<tr><th scope=row>Sepal_Width</th><td>8.035609e-01</td><td>1.063390e-01</td><td>7.556598e+00</td><td>4.187317e-12</td></tr>\n",
       "\t<tr><th scope=row>Species_versicolor</th><td> 1.4587431</td><td> 0.1121079</td><td>13.0119545</td><td> 0.0000000</td></tr>\n",
       "\t<tr><th scope=row>Species_virginica</th><td> 1.946817</td><td> 0.100015</td><td>19.465255</td><td> 0.000000</td></tr>\n",
       "</tbody>\n",
       "</table>\n",
       "</dd>\n",
       "</dl>\n"
      ],
      "text/latex": [
       "\\begin{description}\n",
       "\\item[\\$devianceResiduals] \\begin{tabular}{r|ll}\n",
       "  & Min & Max\\\\\n",
       "\\hline\n",
       "\t & -1.307112 &  1.412532\\\\\n",
       "\\end{tabular}\n",
       "\n",
       "\\item[\\$coefficients] \\begin{tabular}{r|llll}\n",
       "  & Estimate & Std. Error & t value & Pr(>\\textbar{}t\\textbar{})\\\\\n",
       "\\hline\n",
       "\t(Intercept) & 2.251393e+00 & 3.697543e-01 & 6.088890e+00 & 9.568102e-09\\\\\n",
       "\tSepal\\_Width & 8.035609e-01 & 1.063390e-01 & 7.556598e+00 & 4.187317e-12\\\\\n",
       "\tSpecies\\_versicolor &  1.4587431 &  0.1121079 & 13.0119545 &  0.0000000\\\\\n",
       "\tSpecies\\_virginica &  1.946817 &  0.100015 & 19.465255 &  0.000000\\\\\n",
       "\\end{tabular}\n",
       "\n",
       "\\end{description}\n"
      ],
      "text/markdown": [
       "$devianceResiduals\n",
       ":   1. -1.30711213300316\n",
       "2. 1.41253177691312\n",
       "\n",
       "\n",
       "\n",
       "$coefficients\n",
       ":   1. 2.25139323193006\n",
       "2. 0.803560900837206\n",
       "3. 1.45874307275088\n",
       "4. 1.94681664898009\n",
       "5. 0.369754309668265\n",
       "6. 0.106338977217801\n",
       "7. 0.112107914013234\n",
       "8. 0.100014959750408\n",
       "9. 6.08888976561208\n",
       "10. 7.55659798374185\n",
       "11. 13.0119544689654\n",
       "12. 19.4652545363059\n",
       "13. 9.56810208840864e-09\n",
       "14. 4.18731715967624e-12\n",
       "15. 0\n",
       "16. 0\n",
       "\n",
       "\n",
       "\n",
       "\n",
       "\n"
      ],
      "text/plain": [
       "$devianceResiduals\n",
       " Min       Max     \n",
       " -1.307112 1.412532\n",
       "\n",
       "$coefficients\n",
       "                   Estimate  Std. Error t value  Pr(>|t|)    \n",
       "(Intercept)        2.251393  0.3697543  6.08889  9.568102e-09\n",
       "Sepal_Width        0.8035609 0.106339   7.556598 4.187317e-12\n",
       "Species_versicolor 1.458743  0.1121079  13.01195 0           \n",
       "Species_virginica  1.946817  0.100015   19.46525 0           \n"
      ]
     },
     "metadata": {},
     "output_type": "display_data"
    }
   ],
   "source": [
    "model <- glm(Sepal_Length ~ Sepal_Width + Species, data = df, family = \"gaussian\")\n",
    "summary(model)"
   ]
  },
  {
   "cell_type": "code",
   "execution_count": 23,
   "metadata": {
    "collapsed": false
   },
   "outputs": [
    {
     "data": {
      "text/html": [
       "<table>\n",
       "<thead><tr><th></th><th scope=col>Sepal_Length</th><th scope=col>prediction</th></tr></thead>\n",
       "<tbody>\n",
       "\t<tr><th scope=row>1</th><td>5.100000</td><td>5.063856</td></tr>\n",
       "\t<tr><th scope=row>2</th><td>4.900000</td><td>4.662076</td></tr>\n",
       "\t<tr><th scope=row>3</th><td>4.700000</td><td>4.822788</td></tr>\n",
       "\t<tr><th scope=row>4</th><td>4.600000</td><td>4.742432</td></tr>\n",
       "\t<tr><th scope=row>5</th><td>5.000000</td><td>5.144212</td></tr>\n",
       "\t<tr><th scope=row>6</th><td>5.400000</td><td>5.385281</td></tr>\n",
       "</tbody>\n",
       "</table>\n"
      ],
      "text/latex": [
       "\\begin{tabular}{r|ll}\n",
       "  & Sepal\\_Length & prediction\\\\\n",
       "\\hline\n",
       "\t1 & 5.100000 & 5.063856\\\\\n",
       "\t2 & 4.900000 & 4.662076\\\\\n",
       "\t3 & 4.700000 & 4.822788\\\\\n",
       "\t4 & 4.600000 & 4.742432\\\\\n",
       "\t5 & 5.000000 & 5.144212\\\\\n",
       "\t6 & 5.400000 & 5.385281\\\\\n",
       "\\end{tabular}\n"
      ],
      "text/plain": [
       "  Sepal_Length prediction\n",
       "1          5.1   5.063856\n",
       "2          4.9   4.662076\n",
       "3          4.7   4.822788\n",
       "4          4.6   4.742432\n",
       "5          5.0   5.144212\n",
       "6          5.4   5.385281"
      ]
     },
     "metadata": {},
     "output_type": "display_data"
    }
   ],
   "source": [
    "predictions <- predict(model, newData = df)\n",
    "head(select(predictions, \"Sepal_Length\", \"prediction\"))"
   ]
  },
  {
   "cell_type": "markdown",
   "metadata": {},
   "source": [
    "### Binomial GLM model"
   ]
  },
  {
   "cell_type": "code",
   "execution_count": 24,
   "metadata": {
    "collapsed": false
   },
   "outputs": [
    {
     "name": "stderr",
     "output_type": "stream",
     "text": [
      "Warning message:\n",
      "In FUN(X[[i]], ...): Use Sepal_Length instead of Sepal.Length  as column nameWarning message:\n",
      "In FUN(X[[i]], ...): Use Sepal_Width instead of Sepal.Width  as column nameWarning message:\n",
      "In FUN(X[[i]], ...): Use Petal_Length instead of Petal.Length  as column nameWarning message:\n",
      "In FUN(X[[i]], ...): Use Petal_Width instead of Petal.Width  as column name"
     ]
    },
    {
     "data": {
      "text/html": [
       "<strong>$coefficients</strong> = <table>\n",
       "<thead><tr><th></th><th scope=col>Estimate</th></tr></thead>\n",
       "<tbody>\n",
       "\t<tr><th scope=row>(Intercept)</th><td>-13.046</td></tr>\n",
       "\t<tr><th scope=row>Sepal_Length</th><td>1.902373</td></tr>\n",
       "\t<tr><th scope=row>Sepal_Width</th><td>0.404655</td></tr>\n",
       "</tbody>\n",
       "</table>\n"
      ],
      "text/latex": [
       "\\textbf{\\$coefficients} = \\begin{tabular}{r|l}\n",
       "  & Estimate\\\\\n",
       "\\hline\n",
       "\t(Intercept) & -13.046\\\\\n",
       "\tSepal\\_Length & 1.902373\\\\\n",
       "\tSepal\\_Width & 0.404655\\\\\n",
       "\\end{tabular}\n"
      ],
      "text/markdown": [
       "**$coefficients** = 1. -13.0460049010697\n",
       "2. 1.90237332761906\n",
       "3. 0.404654959493696\n",
       "\n",
       "\n"
      ],
      "text/plain": [
       "$coefficients\n",
       "               Estimate\n",
       "(Intercept)  -13.046005\n",
       "Sepal_Length   1.902373\n",
       "Sepal_Width    0.404655\n"
      ]
     },
     "metadata": {},
     "output_type": "display_data"
    }
   ],
   "source": [
    "df <- createDataFrame(sqlContext, iris)\n",
    "training <- filter(df, df$Species != \"setosa\")\n",
    "\n",
    "model <- glm(Species ~ Sepal_Length + Sepal_Width, data = training, family = \"binomial\")\n",
    "summary(model)"
   ]
  },
  {
   "cell_type": "markdown",
   "metadata": {},
   "source": [
    "## R Function Name Conflicts\n",
    "\n",
    "- SparkR 패키지 내부의 함수와 R의 함수명이 충돌이 발생할 수 있으며, 아래와 같이 해결할 수 있음\n",
    "\n",
    "![](sparkR_01.jpg)"
   ]
  },
  {
   "cell_type": "code",
   "execution_count": null,
   "metadata": {
    "collapsed": true
   },
   "outputs": [],
   "source": []
  }
 ],
 "metadata": {
  "kernelspec": {
   "display_name": "R",
   "language": "R",
   "name": "ir"
  },
  "language_info": {
   "codemirror_mode": "r",
   "file_extension": ".r",
   "mimetype": "text/x-r-source",
   "name": "R",
   "pygments_lexer": "r",
   "version": "3.3.1"
  }
 },
 "nbformat": 4,
 "nbformat_minor": 0
}
