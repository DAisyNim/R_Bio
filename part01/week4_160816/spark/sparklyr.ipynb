{
 "cells": [
  {
   "cell_type": "markdown",
   "metadata": {},
   "source": [
    "# sparklyr — R interface for Apache Spark\n",
    "\n",
    "- docker run  -d -p 8787:8787 rocker/rstudio\n",
    "- http://211.249.50.37:8787/\n",
    "\n",
    "\n",
    "- 설치가 많이 어렵습니다. \n",
    "- spark-all 도커에서는 안 됨.  rocker/rstudio 도커에서도 안 됨.\n",
    "- virtualbox에 rstudio을 설치하여 실습함.\n",
    "\n",
    "\n",
    "- 기능 요약\n",
    "    - R로부터 spark와 연동 => sparklyr 패키지는 뒷단에서 dplyr을 완벽히 지원\n",
    "    - R로부터 가지고 온 spark dataset을 filter와 aggregation을 함.\n",
    "    - R에서 spark의 분산 machine learning library 사용함.\n",
    "    - Spark API와 spark package와의 연동으로 기능을 확장할 수 있음."
   ]
  },
  {
   "cell_type": "markdown",
   "metadata": {},
   "source": [
    "## Installation\n",
    "\n",
    "- devtools 패키지를 사용해서 sparklyr을 설치함."
   ]
  },
  {
   "cell_type": "code",
   "execution_count": 27,
   "metadata": {
    "collapsed": false
   },
   "outputs": [
    {
     "name": "stderr",
     "output_type": "stream",
     "text": [
      "also installing the dependency ‘git2r’\n",
      "\n",
      "Warning message:\n",
      "In install.packages(\"devtools\", repos = \"http://cran.ism.ac.jp/\", : installation of package ‘git2r’ had non-zero exit statusWarning message:\n",
      "In install.packages(\"devtools\", repos = \"http://cran.ism.ac.jp/\", : installation of package ‘devtools’ had non-zero exit statusUpdating HTML index of packages in '.Library'\n",
      "Making 'packages.html' ... done\n"
     ]
    }
   ],
   "source": [
    "install.packages(\"devtools\", repos='http://cran.ism.ac.jp/', lib=\"/opt/conda/lib/R/library\" )\n",
    "devtools::install_github(\"rstudio/sparklyr\"  )"
   ]
  },
  {
   "cell_type": "markdown",
   "metadata": {},
   "source": [
    "- devtools과 sparklyr 설치시 문제가 많이 발생함. \n",
    "- 우분투에서는 외부 Lib 참조 예러가 발생함. 아래와 같이 추가 필요함.\n",
    "    - sudo apt-get -y build-dep libcurl4-gnutls-dev\n",
    "    - apt-get -y install libcurl4-gnutls-dev"
   ]
  },
  {
   "cell_type": "code",
   "execution_count": null,
   "metadata": {
    "collapsed": true
   },
   "outputs": [],
   "source": [
    "library(sparklyr)\n",
    "spark_install(version = \"1.6.1\")"
   ]
  },
  {
   "cell_type": "markdown",
   "metadata": {},
   "source": [
    "## Connecting to Spark\n",
    "\n",
    "```\n",
    "spark_connect(master, spark_home = Sys.getenv(\"SPARK_HOME\"), app_name = \"sparklyr\", version = NULL, hadoop_version = NULL, config = spark_config(), extensions = sparklyr::registered_extensions())\n",
    "```"
   ]
  },
  {
   "cell_type": "code",
   "execution_count": null,
   "metadata": {
    "collapsed": true
   },
   "outputs": [],
   "source": [
    "library(sparklyr)\n",
    "sc <- spark_connect(master = \"local\")"
   ]
  },
  {
   "cell_type": "markdown",
   "metadata": {},
   "source": [
    "## Reading Data\n",
    "\n",
    "- dplyr의 copy_to()함수를 사용해서 R데이터를 Spark로 카피할 수 있음."
   ]
  },
  {
   "cell_type": "code",
   "execution_count": null,
   "metadata": {
    "collapsed": true
   },
   "outputs": [],
   "source": [
    "install.packages(\"nycflights13\")\n",
    "install.packages(\"Lahman\")\n",
    "\n",
    "library(dplyr)\n",
    "iris_tbl <- copy_to(sc, iris)\n",
    "flights_tbl <- copy_to(sc, nycflights13::flights, \"flights\")\n",
    "batting_tbl <- copy_to(sc, Lahman::Batting, \"batting\")"
   ]
  },
  {
   "cell_type": "code",
   "execution_count": null,
   "metadata": {
    "collapsed": true
   },
   "outputs": [],
   "source": [
    "src_tbls(sc)"
   ]
  },
  {
   "cell_type": "markdown",
   "metadata": {},
   "source": [
    "## Using dplyr"
   ]
  },
  {
   "cell_type": "code",
   "execution_count": null,
   "metadata": {
    "collapsed": true
   },
   "outputs": [],
   "source": [
    "# filter by departure delay\n",
    "flights_tbl %>% filter(dep_delay == 2)"
   ]
  },
  {
   "cell_type": "code",
   "execution_count": null,
   "metadata": {
    "collapsed": true
   },
   "outputs": [],
   "source": [
    "delay <- flights_tbl %>% \n",
    "  group_by(tailnum) %>%\n",
    "  summarise(count = n(), dist = mean(distance), delay = mean(arr_delay)) %>%\n",
    "  filter(count > 20, dist < 2000, !is.na(delay)) %>%\n",
    "  collect\n",
    "\n",
    "# plot delays\n",
    "library(ggplot2)\n",
    "ggplot(delay, aes(dist, delay)) +\n",
    "  geom_point(aes(size = count), alpha = 1/2) +\n",
    "  geom_smooth() +\n",
    "  scale_size_area(max_size = 2)"
   ]
  },
  {
   "cell_type": "markdown",
   "metadata": {},
   "source": [
    "## Window Functions"
   ]
  },
  {
   "cell_type": "code",
   "execution_count": null,
   "metadata": {
    "collapsed": true
   },
   "outputs": [],
   "source": [
    "batting_tbl %>%\n",
    "  select(playerID, yearID, teamID, G, AB:H) %>%\n",
    "  arrange(playerID, yearID, teamID) %>%\n",
    "  group_by(playerID) %>%\n",
    "  filter(min_rank(desc(H)) <= 2 & H > 0)"
   ]
  },
  {
   "cell_type": "markdown",
   "metadata": {},
   "source": [
    "## Using SQL"
   ]
  },
  {
   "cell_type": "code",
   "execution_count": null,
   "metadata": {
    "collapsed": true
   },
   "outputs": [],
   "source": [
    "library(DBI)\n",
    "iris_preview <- dbGetQuery(sc, \"SELECT * FROM iris LIMIT 10\")\n",
    "iris_preview"
   ]
  },
  {
   "cell_type": "markdown",
   "metadata": {},
   "source": [
    "## Machine Learning\n",
    "\n",
    "- sparklyr패키지안에서는 spark의 MLlib함수에 포함된 machine learning algorithms을 사용할 수 있음.\n",
    "- 이 함수는 DataFrames 에 올려진 하이레벨API과 연동됨."
   ]
  },
  {
   "cell_type": "code",
   "execution_count": null,
   "metadata": {
    "collapsed": true
   },
   "outputs": [],
   "source": [
    "# copy mtcars into spark\n",
    "mtcars_tbl <- copy_to(sc, mtcars)\n",
    "\n",
    "# transform our data set, and then partition into 'training', 'test'\n",
    "partitions <- mtcars_tbl %>%\n",
    "  filter(hp >= 100) %>%\n",
    "  mutate(cyl8 = cyl == 8) %>%\n",
    "  sdf_partition(training = 0.5, test = 0.5, seed = 1099)\n",
    "\n",
    "# fit a linear model to the training dataset\n",
    "fit <- partitions$training %>%\n",
    "  ml_linear_regression(response = \"mpg\", features = c(\"wt\", \"cyl\"))"
   ]
  },
  {
   "cell_type": "code",
   "execution_count": null,
   "metadata": {
    "collapsed": true
   },
   "outputs": [],
   "source": [
    "summary(fit)"
   ]
  }
 ],
 "metadata": {
  "kernelspec": {
   "display_name": "R",
   "language": "R",
   "name": "ir"
  },
  "language_info": {
   "codemirror_mode": "r",
   "file_extension": ".r",
   "mimetype": "text/x-r-source",
   "name": "R",
   "pygments_lexer": "r",
   "version": "3.3.1"
  }
 },
 "nbformat": 4,
 "nbformat_minor": 0
}
