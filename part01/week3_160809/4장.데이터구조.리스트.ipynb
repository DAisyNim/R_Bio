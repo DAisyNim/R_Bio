{
 "cells": [
  {
   "cell_type": "markdown",
   "metadata": {},
   "source": [
    "## LIST\n",
    "> 다양한 자료구조를 저장할때 사용을 하게됨. 결과값을 묶어서 보여줄때 사용\n",
    "> \n"
   ]
  },
  {
   "cell_type": "code",
   "execution_count": 1,
   "metadata": {
    "collapsed": false
   },
   "outputs": [
    {
     "data": {
      "text/html": [
       "3"
      ],
      "text/latex": [
       "3"
      ],
      "text/markdown": [
       "3"
      ],
      "text/plain": [
       "[1] 3"
      ]
     },
     "metadata": {},
     "output_type": "display_data"
    },
    {
     "data": {
      "text/html": [
       "\"list\""
      ],
      "text/latex": [
       "\"list\""
      ],
      "text/markdown": [
       "\"list\""
      ],
      "text/plain": [
       "[1] \"list\""
      ]
     },
     "metadata": {},
     "output_type": "display_data"
    },
    {
     "data": {
      "text/html": [
       "<ol class=list-inline>\n",
       "\t<li>\"vec1\"</li>\n",
       "\t<li>\"vec2\"</li>\n",
       "\t<li>\"descrip\"</li>\n",
       "</ol>\n"
      ],
      "text/latex": [
       "\\begin{enumerate*}\n",
       "\\item \"vec1\"\n",
       "\\item \"vec2\"\n",
       "\\item \"descrip\"\n",
       "\\end{enumerate*}\n"
      ],
      "text/markdown": [
       "1. \"vec1\"\n",
       "2. \"vec2\"\n",
       "3. \"descrip\"\n",
       "\n",
       "\n"
      ],
      "text/plain": [
       "[1] \"vec1\"    \"vec2\"    \"descrip\""
      ]
     },
     "metadata": {},
     "output_type": "display_data"
    }
   ],
   "source": [
    "a <- 1:10\n",
    "b <- 11:15\n",
    "\n",
    "klist <- list(vec1=a, vec2=b, descrip=\"example\")\n",
    "length(klist)\n",
    "mode(klist)\n",
    "names(klist)"
   ]
  },
  {
   "cell_type": "code",
   "execution_count": 2,
   "metadata": {
    "collapsed": false
   },
   "outputs": [
    {
     "name": "stdout",
     "output_type": "stream",
     "text": [
      "[[1]]\n",
      "[1] \"A\"\n",
      "\n",
      "[[2]]\n",
      "[1] 1 2 3 4 5 6 7 8\n",
      "\n"
     ]
    }
   ],
   "source": [
    "list1 <- list(\"A\",1:8)\n",
    "print(list1)"
   ]
  },
  {
   "cell_type": "code",
   "execution_count": 10,
   "metadata": {
    "collapsed": false
   },
   "outputs": [
    {
     "name": "stdout",
     "output_type": "stream",
     "text": [
      "[[1]]\n",
      "[1] \"A\"\n",
      "\n",
      "[[2]]\n",
      "[1] 1 2 3 4 5 6 7 8 9\n",
      "\n",
      "[[3]]\n",
      "[[3]][[1]]\n",
      "[1]  TRUE FALSE\n",
      "\n",
      "\n",
      "[[4]]\n",
      "[1]  1 NA  1\n",
      "\n"
     ]
    }
   ],
   "source": [
    "list1[[3]]<- list(c(T,F))\n",
    "list1[[2]][9] <- 9\n",
    "\n",
    "\n",
    "list1[[4]][3] <- 1\n",
    "print(list1)"
   ]
  },
  {
   "cell_type": "code",
   "execution_count": 10,
   "metadata": {
    "collapsed": false
   },
   "outputs": [
    {
     "name": "stdout",
     "output_type": "stream",
     "text": [
      "[[1]]\n",
      "[1] \"A\"\n",
      "\n",
      "[[2]]\n",
      "[1] 1 2 3 4 5 6 7 8 9\n",
      "\n"
     ]
    }
   ],
   "source": [
    "list1[3] <- NULL\n",
    "print(list1)"
   ]
  },
  {
   "cell_type": "code",
   "execution_count": 12,
   "metadata": {
    "collapsed": false
   },
   "outputs": [
    {
     "name": "stdout",
     "output_type": "stream",
     "text": [
      "[[1]]\n",
      "[1] \"A\"\n",
      "\n",
      "[[2]]\n",
      "[1] 1 2 3 4 5 6 7 8\n",
      "\n"
     ]
    }
   ],
   "source": [
    "list1[[2]] <- list1[[2]][-9]\n",
    "print(list1)"
   ]
  },
  {
   "cell_type": "code",
   "execution_count": 14,
   "metadata": {
    "collapsed": false
   },
   "outputs": [
    {
     "name": "stdout",
     "output_type": "stream",
     "text": [
      "$vec1\n",
      " [1]  1  2  3  4  5  6  7  8  9 10\n",
      "\n",
      "$vec2\n",
      "[1] 11 12 13 14 15\n",
      "\n",
      "$descrip\n",
      "[1] \"example\"\n",
      "\n"
     ]
    }
   ],
   "source": [
    "a <- 1:10\n",
    "b <- 11:15\n",
    "nlist <- list(vec1=a, vec2=b, descrip=\"example\")\n",
    "print(nlist)"
   ]
  },
  {
   "cell_type": "code",
   "execution_count": 15,
   "metadata": {
    "collapsed": false
   },
   "outputs": [
    {
     "data": {
      "text/html": [
       "15"
      ],
      "text/latex": [
       "15"
      ],
      "text/markdown": [
       "15"
      ],
      "text/plain": [
       "[1] 15"
      ]
     },
     "metadata": {},
     "output_type": "display_data"
    }
   ],
   "source": [
    "nlist[[2]][5]"
   ]
  },
  {
   "cell_type": "code",
   "execution_count": 16,
   "metadata": {
    "collapsed": false
   },
   "outputs": [
    {
     "data": {
      "text/html": [
       "<ol class=list-inline>\n",
       "\t<li>12</li>\n",
       "\t<li>13</li>\n",
       "</ol>\n"
      ],
      "text/latex": [
       "\\begin{enumerate*}\n",
       "\\item 12\n",
       "\\item 13\n",
       "\\end{enumerate*}\n"
      ],
      "text/markdown": [
       "1. 12\n",
       "2. 13\n",
       "\n",
       "\n"
      ],
      "text/plain": [
       "[1] 12 13"
      ]
     },
     "metadata": {},
     "output_type": "display_data"
    }
   ],
   "source": [
    "nlist$vec2[c(2,3)]"
   ]
  },
  {
   "cell_type": "markdown",
   "metadata": {},
   "source": []
  }
 ],
 "metadata": {
  "kernelspec": {
   "display_name": "R",
   "language": "R",
   "name": "ir"
  },
  "language_info": {
   "codemirror_mode": "r",
   "file_extension": ".r",
   "mimetype": "text/x-r-source",
   "name": "R",
   "pygments_lexer": "r",
   "version": "3.3.0"
  }
 },
 "nbformat": 4,
 "nbformat_minor": 0
}
