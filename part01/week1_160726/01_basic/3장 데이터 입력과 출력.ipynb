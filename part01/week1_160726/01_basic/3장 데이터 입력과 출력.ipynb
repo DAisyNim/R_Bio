{
 "cells": [
  {
   "cell_type": "markdown",
   "metadata": {},
   "source": [
    "# 3장 데이터 입력과 출력"
   ]
  },
  {
   "cell_type": "markdown",
   "metadata": {},
   "source": [
    "R.Version()"
   ]
  },
  {
   "cell_type": "markdown",
   "metadata": {},
   "source": [
    "1. 데이터의 입력\n",
    "    - 1) 키보드를 통한 데이터의 입력\n",
    "    - 2) 외부파일을 통한 데이터 불러오기\n",
    "        - txt, csv, xlsx, 웹사이트, \n",
    "\n",
    "2. 데이터의 출력\n",
    "    - sink() 함수\n",
    "    - cat() 함수\n",
    "    - write.table() 함수\n",
    "    - write.xlsx() 함수\n",
    "    - writeWorksheetToFile() 함수"
   ]
  },
  {
   "cell_type": "markdown",
   "metadata": {},
   "source": [
    "## 1. 데이터의 입력\n",
    "\n",
    "### 1) 키보드를 통한 데이터의 입력\n",
    "\n",
    "c() 함수를 이용한 입력"
   ]
  },
  {
   "cell_type": "code",
   "execution_count": 1,
   "metadata": {
    "collapsed": true
   },
   "outputs": [],
   "source": [
    "v1 = c(51, 56, 80, 78, 99 )"
   ]
  },
  {
   "cell_type": "markdown",
   "metadata": {},
   "source": [
    "v1"
   ]
  },
  {
   "cell_type": "markdown",
   "metadata": {},
   "source": [
    "scan() 함수를 이용한 입력\n",
    "\n",
    "- scan() 함수를 이용하여 (63,73,27,32,69,98)과 같은 벡터 v2 생성  - RStudio에서 실습."
   ]
  },
  {
   "cell_type": "markdown",
   "metadata": {},
   "source": [
    "v2 = scan()"
   ]
  },
  {
   "cell_type": "markdown",
   "metadata": {},
   "source": [
    "edit() 함수를 이용한 입력\n",
    "\n",
    "- edit() 함수를 실행시키면 나타나는 데이터 편집기 창에 데이터를 직접 입력하는 방식\n",
    "- 편집기 창은 마치 엑셀과 같은 스프레드시트 형태이지만 데이터프레 임이 이미 생성되어 있어야 사용할 수 있기 때문에 미리 빈 데이터프 레임을 생성시켜 놓아야 함"
   ]
  },
  {
   "cell_type": "code",
   "execution_count": 8,
   "metadata": {
    "collapsed": true
   },
   "outputs": [],
   "source": [
    "dat1 = data.frame()\n",
    "dat1 = edit(dat1)"
   ]
  },
  {
   "cell_type": "markdown",
   "metadata": {},
   "source": [
    "dat1"
   ]
  },
  {
   "cell_type": "markdown",
   "metadata": {},
   "source": [
    "read.table() 함수를 이용한 데이터 불러오기\n",
    "\n",
    "- read.table() 함수를 이용하기 위해서는 우선 스프레드시트 형태의 외부파일이 존재해야 함\n",
    "- 스프레드시트 형태를 가지는 데이터는 행과 열이 있는 2차원의 구조 를 갖는데, 각 행은 관찰치를 의미하고 각 열은 변수 값을 의미\n",
    "- 한 관찰치 내에서 변수 값들 사이에는 빈칸, 탭, 콜론(:), 콤마(,) 와 같은 구분기호가 사용되어 변수 값들을 분리\n",
    "- example2-1.txt 파일\n",
    "```\n",
    "153 150 A\n",
    "151 149 B\n",
    "153 155 C\n",
    "158 145 D\n",
    "142 153 E\n",
    "146 153 F\n",
    "```"
   ]
  },
  {
   "cell_type": "code",
   "execution_count": 11,
   "metadata": {
    "collapsed": true
   },
   "outputs": [],
   "source": [
    "dat2_1 = read.table(file=\"example2-1.txt\")"
   ]
  },
  {
   "cell_type": "code",
   "execution_count": null,
   "metadata": {
    "collapsed": true
   },
   "outputs": [],
   "source": [
    "dat2_1"
   ]
  },
  {
   "cell_type": "markdown",
   "metadata": {},
   "source": [
    "example2-2.txt 는 탭으로 분리되어 있 고 맨 윗줄에 변수명이 존재하는 텍스트 형태\n",
    "```\n",
    "Current Innov Loc\n",
    "153 150 A\n",
    "151 149 B\n",
    "153 155 C\n",
    "158 145 D\n",
    "142 153 E\n",
    "146 153 F\n",
    "```"
   ]
  },
  {
   "cell_type": "code",
   "execution_count": 13,
   "metadata": {
    "collapsed": true
   },
   "outputs": [],
   "source": [
    "dat2_2 = read.table(file=\"example2-2.txt\", header=TRUE)"
   ]
  },
  {
   "cell_type": "code",
   "execution_count": null,
   "metadata": {
    "collapsed": true
   },
   "outputs": [],
   "source": [
    "dat2_2"
   ]
  },
  {
   "cell_type": "markdown",
   "metadata": {},
   "source": [
    "example2-3.txt는 결측치 가 NA와 miss로 표시\n",
    "```\n",
    "Current Innov Loc\n",
    "153 150 A\n",
    "151 149 B\n",
    "153 NA C\n",
    "158 145 D\n",
    "142 153 E\n",
    "miss 153 F\n",
    "```"
   ]
  },
  {
   "cell_type": "code",
   "execution_count": 16,
   "metadata": {
    "collapsed": false
   },
   "outputs": [],
   "source": [
    "dat2_3 = read.table(file=\"example2-3.txt\", header=TRUE, na.strings=\"miss\")"
   ]
  },
  {
   "cell_type": "code",
   "execution_count": null,
   "metadata": {
    "collapsed": true
   },
   "outputs": [],
   "source": [
    "dat2_3"
   ]
  },
  {
   "cell_type": "markdown",
   "metadata": {},
   "source": [
    "- R에서는 NA를 결측치로 인식하게 된다. 그런데 NA로 표현되어 있지 않은 다른 문자도 결측치라면 na.strings 옵션을 이용\n",
    "- 각 관찰치 내의 변수 값들 사이에는 빈칸이나 탭이 아니라 콜론이나 콤마로 구분되어 있다면 sep 옵션을 활용하여 구분자를 지정(sep=\",\")"
   ]
  },
  {
   "cell_type": "markdown",
   "metadata": {},
   "source": [
    "example2-4.txt 는 콤마로 변수 값 들이 구분\n",
    "```\n",
    "Current, Innov, Loc\n",
    "153, 150, A\n",
    "151, 149, B\n",
    "153, 155, C\n",
    "158, 145, D\n",
    "142, 153, E\n",
    "146, 153, F\n",
    "```"
   ]
  },
  {
   "cell_type": "code",
   "execution_count": 18,
   "metadata": {
    "collapsed": true
   },
   "outputs": [],
   "source": [
    "dat2_4 = read.table(file=\"example2-4.txt\", header=TRUE, sep=\",\")"
   ]
  },
  {
   "cell_type": "code",
   "execution_count": null,
   "metadata": {
    "collapsed": true
   },
   "outputs": [],
   "source": [
    "dat2_4"
   ]
  },
  {
   "cell_type": "markdown",
   "metadata": {},
   "source": [
    "read.csv() 함수를 이용한 데이터 불러오기\n",
    "\n",
    "- CSV이란 comma separated values 란 영문의 약어\n",
    "- CSV 파일은 콤마가 구분기호로 사용된 데이터를 의미\n",
    "- CSV 형태의 데이터 파일은 read.csv() 함수 이용\n",
    "\n",
    "example2-4.txt은 CSV 형식의 데이터 파일"
   ]
  },
  {
   "cell_type": "code",
   "execution_count": 20,
   "metadata": {
    "collapsed": true
   },
   "outputs": [],
   "source": [
    "dat2_5 = read.csv(file=\"example2-4.txt\")"
   ]
  },
  {
   "cell_type": "code",
   "execution_count": null,
   "metadata": {
    "collapsed": true
   },
   "outputs": [],
   "source": [
    "dat2_5"
   ]
  },
  {
   "cell_type": "markdown",
   "metadata": {},
   "source": [
    "read.csv() 함수는 header=TRUE 와 sep=\",\" 옵션이 디폴트"
   ]
  },
  {
   "cell_type": "markdown",
   "metadata": {},
   "source": [
    "scan() 함수를 이용한 데이터 불러오기\n",
    "- scan() 함수는 what이라는 옵션을 이용하여 입력될 변수의 명칭과 변수값의 유형을 정의\n",
    "- numeric 유형이라면 0과 같은 숫자를 입력하면 되고, character 유형 이라면 “”을 사용\n",
    "\n",
    "scan() 함수를 통해 결측치가 있었던 example 2-3.txt 파일을 읽어오는 명령문"
   ]
  },
  {
   "cell_type": "code",
   "execution_count": 1,
   "metadata": {
    "collapsed": true
   },
   "outputs": [],
   "source": [
    "dat2_6 = scan(file=\"example2-3.txt\", what=list(Current=0, Innov=0, Loc=\"\"), skip=1, sep=\"\", na.string=\"miss\")"
   ]
  },
  {
   "cell_type": "code",
   "execution_count": 2,
   "metadata": {
    "collapsed": false
   },
   "outputs": [
    {
     "data": {
      "text/html": [
       "<dl>\n",
       "\t<dt>$Current</dt>\n",
       "\t\t<dd><ol class=list-inline>\n",
       "\t<li>153</li>\n",
       "\t<li>151</li>\n",
       "\t<li>153</li>\n",
       "\t<li>158</li>\n",
       "\t<li>142</li>\n",
       "\t<li>NA</li>\n",
       "</ol>\n",
       "</dd>\n",
       "\t<dt>$Innov</dt>\n",
       "\t\t<dd><ol class=list-inline>\n",
       "\t<li>150</li>\n",
       "\t<li>149</li>\n",
       "\t<li>NA</li>\n",
       "\t<li>145</li>\n",
       "\t<li>153</li>\n",
       "\t<li>153</li>\n",
       "</ol>\n",
       "</dd>\n",
       "\t<dt>$Loc</dt>\n",
       "\t\t<dd><ol class=list-inline>\n",
       "\t<li>\"A\"</li>\n",
       "\t<li>\"B\"</li>\n",
       "\t<li>\"C\"</li>\n",
       "\t<li>\"D\"</li>\n",
       "\t<li>\"E\"</li>\n",
       "\t<li>\"F\"</li>\n",
       "</ol>\n",
       "</dd>\n",
       "</dl>\n"
      ],
      "text/latex": [
       "\\begin{description}\n",
       "\\item[\\$Current] \\begin{enumerate*}\n",
       "\\item 153\n",
       "\\item 151\n",
       "\\item 153\n",
       "\\item 158\n",
       "\\item 142\n",
       "\\item NA\n",
       "\\end{enumerate*}\n",
       "\n",
       "\\item[\\$Innov] \\begin{enumerate*}\n",
       "\\item 150\n",
       "\\item 149\n",
       "\\item NA\n",
       "\\item 145\n",
       "\\item 153\n",
       "\\item 153\n",
       "\\end{enumerate*}\n",
       "\n",
       "\\item[\\$Loc] \\begin{enumerate*}\n",
       "\\item \"A\"\n",
       "\\item \"B\"\n",
       "\\item \"C\"\n",
       "\\item \"D\"\n",
       "\\item \"E\"\n",
       "\\item \"F\"\n",
       "\\end{enumerate*}\n",
       "\n",
       "\\end{description}\n"
      ],
      "text/markdown": [
       "$Current\n",
       ":   1. 153\n",
       "2. 151\n",
       "3. 153\n",
       "4. 158\n",
       "5. 142\n",
       "6. NA\n",
       "\n",
       "\n",
       "\n",
       "$Innov\n",
       ":   1. 150\n",
       "2. 149\n",
       "3. NA\n",
       "4. 145\n",
       "5. 153\n",
       "6. 153\n",
       "\n",
       "\n",
       "\n",
       "$Loc\n",
       ":   1. \"A\"\n",
       "2. \"B\"\n",
       "3. \"C\"\n",
       "4. \"D\"\n",
       "5. \"E\"\n",
       "6. \"F\"\n",
       "\n",
       "\n",
       "\n",
       "\n",
       "\n"
      ],
      "text/plain": [
       "$Current\n",
       "[1] 153 151 153 158 142  NA\n",
       "\n",
       "$Innov\n",
       "[1] 150 149  NA 145 153 153\n",
       "\n",
       "$Loc\n",
       "[1] \"A\" \"B\" \"C\" \"D\" \"E\" \"F\"\n"
      ]
     },
     "execution_count": 2,
     "metadata": {},
     "output_type": "execute_result"
    }
   ],
   "source": [
    "dat2_6"
   ]
  },
  {
   "cell_type": "markdown",
   "metadata": {},
   "source": [
    "- scan() 함수에는 header 옵션이 존재하지 않으므로 example2-3.txt과 같은 첫째줄에 변수명이 나오는 파일에서는 둘째줄부터 데이터를 읽 을 필요\n",
    "- skip=1 옵션은 파일내의 첫째줄을 건너뛰고 둘째줄부터 데이터를 읽으라는 명령\n",
    "- dat2_6는 데이터프레임이 아니고, 리스트인데 리스트를 데이터프레임으로 변환하고자 한다면 다음과 같이 수행"
   ]
  },
  {
   "cell_type": "code",
   "execution_count": 3,
   "metadata": {
    "collapsed": true
   },
   "outputs": [],
   "source": [
    "dat2_7 = as.data.frame(dat2_6)"
   ]
  },
  {
   "cell_type": "code",
   "execution_count": null,
   "metadata": {
    "collapsed": true
   },
   "outputs": [],
   "source": [
    "dat2_7"
   ]
  },
  {
   "cell_type": "markdown",
   "metadata": {},
   "source": [
    "read.xlsx() 함수를 이용한 데이터 불러오기\n",
    "- R은 다른 Excel 등 다른 소프트웨어에서 저장된 파일을 데이터로 불러 읽을 수 있음\n",
    "- Excel 2007 이후의 형식으로 저장되어 있는 데이터를 R로 바로 불러 들이려면 우선 xlsx라는 패키지를 설치하고 활성화한 뒤 read.xlsx() 이용"
   ]
  },
  {
   "cell_type": "code",
   "execution_count": 7,
   "metadata": {
    "collapsed": false
   },
   "outputs": [
    {
     "name": "stderr",
     "output_type": "stream",
     "text": [
      "also installing the dependencies 'rJava', 'xlsxjars'\n",
      "\n"
     ]
    },
    {
     "name": "stdout",
     "output_type": "stream",
     "text": [
      "package 'rJava' successfully unpacked and MD5 sums checked\n",
      "package 'xlsxjars' successfully unpacked and MD5 sums checked\n",
      "package 'xlsx' successfully unpacked and MD5 sums checked\n",
      "\n",
      "The downloaded binary packages are in\n",
      "\tC:\\Users\\Y.G JI\\AppData\\Local\\Temp\\Rtmpaqrury\\downloaded_packages\n"
     ]
    }
   ],
   "source": [
    "install.packages('xlsx', repos='http://cran.nexr.com/' )"
   ]
  },
  {
   "cell_type": "code",
   "execution_count": 8,
   "metadata": {
    "collapsed": false
   },
   "outputs": [
    {
     "name": "stderr",
     "output_type": "stream",
     "text": [
      "Loading required package: rJava\n",
      "Loading required package: xlsxjars\n"
     ]
    }
   ],
   "source": [
    "library(xlsx)"
   ]
  },
  {
   "cell_type": "code",
   "execution_count": 9,
   "metadata": {
    "collapsed": true
   },
   "outputs": [],
   "source": [
    "dat2_8 =read.xlsx(file=\"example2-2.xlsx\", sheetIndex=1)"
   ]
  },
  {
   "cell_type": "code",
   "execution_count": null,
   "metadata": {
    "collapsed": true
   },
   "outputs": [],
   "source": [
    "dat2_8"
   ]
  },
  {
   "cell_type": "markdown",
   "metadata": {},
   "source": [
    "- sheetIndex=1 옵션은 Excel 파일의 첫 번째 워크시트를 의미\n",
    "- Excel 97-2003 버전의 파일형식인 xls 형식을 사용하고자 한다면, XLConnect라는 패키지를 설치하고 활성화한 뒤 readWorksheetFromFile() 함수를 사용\n",
    "- 참고로 readWorksheetFromFile() 함수는 Excel 모든 버전 파일에 적용 가능하여 Excel 2007 이후 버전인 example2-2.xlsx 파일도 읽음"
   ]
  },
  {
   "cell_type": "markdown",
   "metadata": {},
   "source": [
    "웹사이트에서 데이터 불러오기\n",
    "\n",
    "- 웹사이트에는 파일의 형태로 저장된 많은 공개된 데이터가 있으며 R에서는 이러한 공개 데이터를 손쉽게 불러올 수 있음\n",
    "- read.table() 함수를 사용할 때 파일의 이름 대신 웹사이트 상의 파일의 주소를 적어 주면 가능함\n",
    "- OzDASL 사이트에서 auction.txt 라는 파일을 읽어 들이는 방법"
   ]
  },
  {
   "cell_type": "code",
   "execution_count": 11,
   "metadata": {
    "collapsed": true
   },
   "outputs": [],
   "source": [
    "website =\"http://www.statsci.org/data/general/auction.txt\"\n",
    "dat2_11 = read.table(website, header=TRUE)"
   ]
  },
  {
   "cell_type": "code",
   "execution_count": null,
   "metadata": {
    "collapsed": true
   },
   "outputs": [],
   "source": [
    "dat2_11"
   ]
  },
  {
   "cell_type": "markdown",
   "metadata": {},
   "source": [
    "## 2. 데이터의 출력"
   ]
  },
  {
   "cell_type": "markdown",
   "metadata": {},
   "source": [
    "sink() 함수를 이용한 결과 저장하기\n",
    "\n",
    "- R의 Console 창에 나오는 결과를 외부파일로 저장하기 위해 사용하는 함수는 sink()\n",
    "- sink(\"파일명\") 과 같은 형식으로 구동되며 결과를 저장하고자 하는 작업이 모두 끝나면 sink() 함수를 다시 한 번 실행시켜서 외부파일로 저 장하는 작업을 멈추게 해야 함\n",
    "- 아래 코드는 Jupyter에서는 안 되고, RStudio에서 가능함."
   ]
  },
  {
   "cell_type": "code",
   "execution_count": 17,
   "metadata": {
    "collapsed": false
   },
   "outputs": [
    {
     "data": {
      "text/html": [
       "10"
      ],
      "text/latex": [
       "10"
      ],
      "text/markdown": [
       "10"
      ],
      "text/plain": [
       "[1] 10"
      ]
     },
     "execution_count": 17,
     "metadata": {},
     "output_type": "execute_result"
    }
   ],
   "source": [
    "setwd('D:/Work_Git/R_Bio/part01/week1_160726/01_basic')\n",
    "sink(\"output1.txt\")\n",
    "v1 = c(1, 3, 5, 7, 9, 11, 13, 15, 17, 19, NA)\n",
    "mean(v1,na.rm=TRUE)\n",
    "sink()"
   ]
  },
  {
   "cell_type": "markdown",
   "metadata": {},
   "source": [
    "source() 함수를 sink() 함수와 함께 사용하면 매우 간편하게 R 프로그램을 사용할 수 있음\n",
    "\n",
    "- example1.R\n",
    "```\n",
    "3*(-7)\n",
    "sqrt(25)\n",
    "```\n",
    "\n",
    "- 아래 코드는 Jupyter에서는 안 되고, RStudio에서 가능함."
   ]
  },
  {
   "cell_type": "code",
   "execution_count": 18,
   "metadata": {
    "collapsed": false
   },
   "outputs": [
    {
     "name": "stdout",
     "output_type": "stream",
     "text": [
      "\n",
      "> 3 * (-7)\n",
      "[1] -21\n",
      "\n",
      "> sqrt(25)\n",
      "[1] 5\n"
     ]
    }
   ],
   "source": [
    "setwd('D:/Work_Git/R_Bio/part01/week1_160726/01_basic')\n",
    "sink(\"output2.txt\")\n",
    "source(\"example1.R\", echo=TRUE)\n",
    "sink()"
   ]
  },
  {
   "cell_type": "markdown",
   "metadata": {},
   "source": [
    "cat() 함수를 이용한 결과 저장하기\n",
    "\n",
    "- cat() 함수는 여러 개의 객체를 동시에 출력하여 파일로 저장시키는 방법\n",
    "- sink() 함수와는 달리 cat() 함수는 줄 단위로 결과를 저장\n",
    "    - file 옵션을 사용하여, 저장하고자 하는 외부파일의 명칭을 지정하며 append=TRUE 옵션을 사용하여 기존 파일의 맨 아래 줄에 결과를 이어 붙이고자 할 때 사용\n",
    "    - 만약 append 옵션을 사용하지 않으면, 기존 파일의 내용을 덮어쓰게 되어 이전 결과를 모두 지우게 된다\n",
    "    - cat() 함수의 명령부분의 ” “ 사이의 문장은 단순한 문자열을 의미하여 R에서는 주어진 대로 출력시키고 v1은 v1 벡터의 실제 값들을 출력"
   ]
  },
  {
   "cell_type": "code",
   "execution_count": 19,
   "metadata": {
    "collapsed": true
   },
   "outputs": [],
   "source": [
    "setwd('D:/Work_Git/R_Bio/part01/week1_160726/01_basic')\n",
    "v1 = c(1, 3, 5, 7, 9) \n",
    "v2 = c(2, 4, 6, 8, 10) \n",
    "v3 = v1 * v2 \n",
    "v4 = v1 + v2\n",
    "cat( \"Vector v1= (\", v1, \")\", \"\\n\", file=\"output3.txt\" )\n",
    "cat( \"Vector v2= (\", v2, \")\", \"\\n\", file=\"output3.txt\", append=TRUE )\n",
    "cat( \"v1 * v2 = (\", v3, \")\", \"\\n\", file=\"output3.txt\", append=TRUE )\n",
    "cat( \"v1 + v2 = (\", v4, \")\", \"\\n\", file=\"output3.txt\", append=TRUE )"
   ]
  },
  {
   "cell_type": "markdown",
   "metadata": {},
   "source": [
    "write.table() 함수를 이용한 결과 저장하기\n",
    "\n",
    "- R 작업으로 인해 생성된 데이터를 외부파일로 저장시키기 위해서 write.table() 함수를 사용\n",
    "- R의 기본 데이터로 제공되는 iris 데이터를 write.table() 함수를 이용하여 외부파일 로 저장하고 row.names, quote, sep 옵션에 따라 결과가 어떻게 달라지는지 살펴보기"
   ]
  },
  {
   "cell_type": "code",
   "execution_count": 21,
   "metadata": {
    "collapsed": true
   },
   "outputs": [],
   "source": [
    "setwd('D:/Work_Git/R_Bio/part01/week1_160726/01_basic')\n",
    "write.table( iris, \"iris1.txt\" ) \n",
    "write.table( iris, \"iris2.txt\", row.names=FALSE ) \n",
    "write.table( iris, \"iris3.txt\", row.names=FALSE, quote=FALSE ) \n",
    "write.table( iris, \"iris4.txt\", row.names=FALSE, quote=FALSE, sep=\"\\t\" ) \n",
    "write.table( iris, \"iris5.txt\", row.names=FALSE, quote=FALSE, sep=\",\" )"
   ]
  },
  {
   "cell_type": "markdown",
   "metadata": {},
   "source": [
    "write.xlsx() 함수를 이용한 결과 저장하기\n",
    "\n",
    "- Excel 2007 이후 버전의 파일로 데이터를 저장하기 위한 함수는 xlsx 패키지내의 write.xlsx() 함수\n",
    "- 패키지가 설치된 상태에서 library(xlsx)로 활성화한 뒤 내장된 iris데이 터 저장"
   ]
  },
  {
   "cell_type": "code",
   "execution_count": 22,
   "metadata": {
    "collapsed": true
   },
   "outputs": [],
   "source": [
    "library(xlsx)"
   ]
  },
  {
   "cell_type": "code",
   "execution_count": 23,
   "metadata": {
    "collapsed": true
   },
   "outputs": [],
   "source": [
    "setwd('D:/Work_Git/R_Bio/part01/week1_160726/01_basic')\n",
    "write.xlsx( iris, \"iris.xlsx\" )"
   ]
  },
  {
   "cell_type": "code",
   "execution_count": null,
   "metadata": {
    "collapsed": true
   },
   "outputs": [],
   "source": []
  }
 ],
 "metadata": {
  "kernelspec": {
   "display_name": "R",
   "language": "R",
   "name": "ir"
  },
  "language_info": {
   "codemirror_mode": "r",
   "file_extension": ".r",
   "mimetype": "text/x-r-source",
   "name": "R",
   "pygments_lexer": "r",
   "version": "3.3.1"
  }
 },
 "nbformat": 4,
 "nbformat_minor": 0
}
